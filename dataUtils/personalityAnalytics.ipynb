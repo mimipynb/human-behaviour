{
 "cells": [
  {
   "cell_type": "markdown",
   "metadata": {},
   "source": [
    "Contains data preprocessing and model trials for personality dataset: https://huggingface.co/datasets/kl08/myers-briggs-type-indicator \n",
    "Methods / Experiments:\n",
    "1. Multinomial \n",
    "2. Logistic Regression "
   ]
  },
  {
   "cell_type": "markdown",
   "metadata": {},
   "source": [
    "### Setting up a playground for me to play"
   ]
  },
  {
   "cell_type": "code",
   "execution_count": null,
   "id": "39bbb5dd-e0c1-427f-865d-b39f4364d398",
   "metadata": {},
   "outputs": [
    {
     "name": "stderr",
     "output_type": "stream",
     "text": [
      "<ipython-input-1-eccd3a510536>:10: TqdmExperimentalWarning: Using `tqdm.autonotebook.tqdm` in notebook mode. Use `tqdm.tqdm` instead to force console mode (e.g. in jupyter console)\n",
      "  from tqdm.autonotebook import tqdm, trange\n",
      "/opt/homebrew/Caskroom/miniforge/base/envs/garfield/lib/python3.12/site-packages/transformers/tokenization_utils_base.py:1601: FutureWarning: `clean_up_tokenization_spaces` was not set. It will be set to `True` by default. This behavior will be depracted in transformers v4.45, and will be then set to `False` by default. For more details check this issue: https://github.com/huggingface/transformers/issues/31884\n",
      "  warnings.warn(\n"
     ]
    }
   ],
   "source": [
    "import numpy as np \n",
    "import pandas as pd \n",
    "from tqdm.autonotebook import tqdm, trange\n",
    "from sentence_transformers import SentenceTransformer \n",
    "\n",
    "import joblib \n",
    "\n",
    "model_card = \"all-mpnet-base-v2\"\n",
    "\n",
    "class Basement(SentenceTransformer):\n",
    "    \"\"\"Basement to encode speech.\"\"\"\n",
    "    def __init__(self, model: str = model_card):\n",
    "        super().__init__(model)\n",
    "        self.expression = joblib.load('big5model.pkl')\n",
    "\n",
    "    def predict(self, query: str):\n",
    "        embedding = self.encode([query])\n",
    "        logits = self.expression.predict_log_proba(embedding)\n",
    "        return {\n",
    "            'big5': logits, \n",
    "            'personality': np.zeros(3)\n",
    "        }\n",
    "        \n",
    "\n",
    "base = Basement()"
   ]
  },
  {
   "cell_type": "code",
   "execution_count": null,
   "metadata": {},
   "outputs": [
    {
     "data": {
      "text/plain": [
       "{'INFJ': 0,\n",
       " 'ENTP': 1,\n",
       " 'INTP': 2,\n",
       " 'INTJ': 3,\n",
       " 'ENTJ': 4,\n",
       " 'ENFJ': 5,\n",
       " 'INFP': 6,\n",
       " 'ENFP': 7,\n",
       " 'ISFP': 8,\n",
       " 'ISTP': 9,\n",
       " 'ISFJ': 10,\n",
       " 'ISTJ': 11,\n",
       " 'ESTP': 12,\n",
       " 'ESFP': 13,\n",
       " 'ESTJ': 14,\n",
       " 'ESFJ': 15}"
      ]
     },
     "execution_count": 9,
     "metadata": {},
     "output_type": "execute_result"
    }
   ],
   "source": [
    "# Loading the dataset\n",
    "import pandas as pd\n",
    "\n",
    "df = pd.read_csv(\"hf://datasets/kl08/myers-briggs-type-indicator/mbti_1.csv\")\n",
    "mbti_tags = {label: i for i, label in enumerate(df['type'].unique())}\n",
    "mbti_tags"
   ]
  },
  {
   "cell_type": "code",
   "execution_count": null,
   "metadata": {},
   "outputs": [
    {
     "data": {
      "text/html": [
       "<div>\n",
       "<style scoped>\n",
       "    .dataframe tbody tr th:only-of-type {\n",
       "        vertical-align: middle;\n",
       "    }\n",
       "\n",
       "    .dataframe tbody tr th {\n",
       "        vertical-align: top;\n",
       "    }\n",
       "\n",
       "    .dataframe thead th {\n",
       "        text-align: right;\n",
       "    }\n",
       "</style>\n",
       "<table border=\"1\" class=\"dataframe\">\n",
       "  <thead>\n",
       "    <tr style=\"text-align: right;\">\n",
       "      <th></th>\n",
       "      <th>type</th>\n",
       "      <th>posts</th>\n",
       "      <th>mbti</th>\n",
       "    </tr>\n",
       "  </thead>\n",
       "  <tbody>\n",
       "    <tr>\n",
       "      <th>0</th>\n",
       "      <td>INFJ</td>\n",
       "      <td>'http://www.youtube.com/watch?v=qsXHcwe3krw|||...</td>\n",
       "      <td>0</td>\n",
       "    </tr>\n",
       "    <tr>\n",
       "      <th>1</th>\n",
       "      <td>ENTP</td>\n",
       "      <td>'I'm finding the lack of me in these posts ver...</td>\n",
       "      <td>1</td>\n",
       "    </tr>\n",
       "    <tr>\n",
       "      <th>2</th>\n",
       "      <td>INTP</td>\n",
       "      <td>'Good one  _____   https://www.youtube.com/wat...</td>\n",
       "      <td>2</td>\n",
       "    </tr>\n",
       "    <tr>\n",
       "      <th>3</th>\n",
       "      <td>INTJ</td>\n",
       "      <td>'Dear INTP,   I enjoyed our conversation the o...</td>\n",
       "      <td>3</td>\n",
       "    </tr>\n",
       "    <tr>\n",
       "      <th>4</th>\n",
       "      <td>ENTJ</td>\n",
       "      <td>'You're fired.|||That's another silly misconce...</td>\n",
       "      <td>4</td>\n",
       "    </tr>\n",
       "    <tr>\n",
       "      <th>...</th>\n",
       "      <td>...</td>\n",
       "      <td>...</td>\n",
       "      <td>...</td>\n",
       "    </tr>\n",
       "    <tr>\n",
       "      <th>8670</th>\n",
       "      <td>ISFP</td>\n",
       "      <td>'https://www.youtube.com/watch?v=t8edHB_h908||...</td>\n",
       "      <td>8</td>\n",
       "    </tr>\n",
       "    <tr>\n",
       "      <th>8671</th>\n",
       "      <td>ENFP</td>\n",
       "      <td>'So...if this thread already exists someplace ...</td>\n",
       "      <td>7</td>\n",
       "    </tr>\n",
       "    <tr>\n",
       "      <th>8672</th>\n",
       "      <td>INTP</td>\n",
       "      <td>'So many questions when i do these things.  I ...</td>\n",
       "      <td>2</td>\n",
       "    </tr>\n",
       "    <tr>\n",
       "      <th>8673</th>\n",
       "      <td>INFP</td>\n",
       "      <td>'I am very conflicted right now when it comes ...</td>\n",
       "      <td>6</td>\n",
       "    </tr>\n",
       "    <tr>\n",
       "      <th>8674</th>\n",
       "      <td>INFP</td>\n",
       "      <td>'It has been too long since I have been on per...</td>\n",
       "      <td>6</td>\n",
       "    </tr>\n",
       "  </tbody>\n",
       "</table>\n",
       "<p>8675 rows × 3 columns</p>\n",
       "</div>"
      ],
      "text/plain": [
       "      type                                              posts  mbti\n",
       "0     INFJ  'http://www.youtube.com/watch?v=qsXHcwe3krw|||...     0\n",
       "1     ENTP  'I'm finding the lack of me in these posts ver...     1\n",
       "2     INTP  'Good one  _____   https://www.youtube.com/wat...     2\n",
       "3     INTJ  'Dear INTP,   I enjoyed our conversation the o...     3\n",
       "4     ENTJ  'You're fired.|||That's another silly misconce...     4\n",
       "...    ...                                                ...   ...\n",
       "8670  ISFP  'https://www.youtube.com/watch?v=t8edHB_h908||...     8\n",
       "8671  ENFP  'So...if this thread already exists someplace ...     7\n",
       "8672  INTP  'So many questions when i do these things.  I ...     2\n",
       "8673  INFP  'I am very conflicted right now when it comes ...     6\n",
       "8674  INFP  'It has been too long since I have been on per...     6\n",
       "\n",
       "[8675 rows x 3 columns]"
      ]
     },
     "execution_count": 12,
     "metadata": {},
     "output_type": "execute_result"
    }
   ],
   "source": [
    "df['mbti'] = df['type'].map(mbti_tags)\n",
    "df"
   ]
  },
  {
   "cell_type": "code",
   "execution_count": null,
   "metadata": {},
   "outputs": [
    {
     "data": {
      "text/plain": [
       "type\n",
       "INFP    0.211182\n",
       "INFJ    0.169452\n",
       "INTP    0.150317\n",
       "INTJ    0.125764\n",
       "ENTP    0.078963\n",
       "ENFP    0.077810\n",
       "ISTP    0.038847\n",
       "ISFP    0.031239\n",
       "ENTJ    0.026628\n",
       "ISTJ    0.023631\n",
       "ENFJ    0.021902\n",
       "ISFJ    0.019135\n",
       "ESTP    0.010259\n",
       "ESFP    0.005533\n",
       "ESFJ    0.004841\n",
       "ESTJ    0.004496\n",
       "Name: proportion, dtype: float64"
      ]
     },
     "execution_count": 16,
     "metadata": {},
     "output_type": "execute_result"
    }
   ],
   "source": [
    "class_weights = df['type'].value_counts(normalize=True)\n",
    "class_weights"
   ]
  },
  {
   "cell_type": "markdown",
   "metadata": {},
   "source": [
    "### Experiment 0: Warm up"
   ]
  },
  {
   "cell_type": "code",
   "execution_count": null,
   "metadata": {},
   "outputs": [],
   "source": [
    "from sklearn.linear_model import LogisticRegression\n",
    "from sklearn.metrics import classification_report\n",
    "from sklearn.model_selection import train_test_split\n",
    "\n",
    "model = LogisticRegression(multi_class='multinomial', max_iter=500)\n",
    "X = base.encode(df['posts'].values)\n",
    "y = df['mbti'].values \n",
    "X_train, X_test, y_train, y_test = train_test_split(X, y, test_size=0.3, random_state=42, stratify=y)"
   ]
  },
  {
   "cell_type": "code",
   "execution_count": null,
   "metadata": {},
   "outputs": [
    {
     "name": "stderr",
     "output_type": "stream",
     "text": [
      "/opt/homebrew/Caskroom/miniforge/base/envs/garfield/lib/python3.12/site-packages/sklearn/linear_model/_logistic.py:1247: FutureWarning: 'multi_class' was deprecated in version 1.5 and will be removed in 1.7. From then on, it will always use 'multinomial'. Leave it to its default value to avoid this warning.\n",
      "  warnings.warn(\n"
     ]
    },
    {
     "data": {
      "text/html": [
       "<style>#sk-container-id-1 {\n",
       "  /* Definition of color scheme common for light and dark mode */\n",
       "  --sklearn-color-text: black;\n",
       "  --sklearn-color-line: gray;\n",
       "  /* Definition of color scheme for unfitted estimators */\n",
       "  --sklearn-color-unfitted-level-0: #fff5e6;\n",
       "  --sklearn-color-unfitted-level-1: #f6e4d2;\n",
       "  --sklearn-color-unfitted-level-2: #ffe0b3;\n",
       "  --sklearn-color-unfitted-level-3: chocolate;\n",
       "  /* Definition of color scheme for fitted estimators */\n",
       "  --sklearn-color-fitted-level-0: #f0f8ff;\n",
       "  --sklearn-color-fitted-level-1: #d4ebff;\n",
       "  --sklearn-color-fitted-level-2: #b3dbfd;\n",
       "  --sklearn-color-fitted-level-3: cornflowerblue;\n",
       "\n",
       "  /* Specific color for light theme */\n",
       "  --sklearn-color-text-on-default-background: var(--sg-text-color, var(--theme-code-foreground, var(--jp-content-font-color1, black)));\n",
       "  --sklearn-color-background: var(--sg-background-color, var(--theme-background, var(--jp-layout-color0, white)));\n",
       "  --sklearn-color-border-box: var(--sg-text-color, var(--theme-code-foreground, var(--jp-content-font-color1, black)));\n",
       "  --sklearn-color-icon: #696969;\n",
       "\n",
       "  @media (prefers-color-scheme: dark) {\n",
       "    /* Redefinition of color scheme for dark theme */\n",
       "    --sklearn-color-text-on-default-background: var(--sg-text-color, var(--theme-code-foreground, var(--jp-content-font-color1, white)));\n",
       "    --sklearn-color-background: var(--sg-background-color, var(--theme-background, var(--jp-layout-color0, #111)));\n",
       "    --sklearn-color-border-box: var(--sg-text-color, var(--theme-code-foreground, var(--jp-content-font-color1, white)));\n",
       "    --sklearn-color-icon: #878787;\n",
       "  }\n",
       "}\n",
       "\n",
       "#sk-container-id-1 {\n",
       "  color: var(--sklearn-color-text);\n",
       "}\n",
       "\n",
       "#sk-container-id-1 pre {\n",
       "  padding: 0;\n",
       "}\n",
       "\n",
       "#sk-container-id-1 input.sk-hidden--visually {\n",
       "  border: 0;\n",
       "  clip: rect(1px 1px 1px 1px);\n",
       "  clip: rect(1px, 1px, 1px, 1px);\n",
       "  height: 1px;\n",
       "  margin: -1px;\n",
       "  overflow: hidden;\n",
       "  padding: 0;\n",
       "  position: absolute;\n",
       "  width: 1px;\n",
       "}\n",
       "\n",
       "#sk-container-id-1 div.sk-dashed-wrapped {\n",
       "  border: 1px dashed var(--sklearn-color-line);\n",
       "  margin: 0 0.4em 0.5em 0.4em;\n",
       "  box-sizing: border-box;\n",
       "  padding-bottom: 0.4em;\n",
       "  background-color: var(--sklearn-color-background);\n",
       "}\n",
       "\n",
       "#sk-container-id-1 div.sk-container {\n",
       "  /* jupyter's `normalize.less` sets `[hidden] { display: none; }`\n",
       "     but bootstrap.min.css set `[hidden] { display: none !important; }`\n",
       "     so we also need the `!important` here to be able to override the\n",
       "     default hidden behavior on the sphinx rendered scikit-learn.org.\n",
       "     See: https://github.com/scikit-learn/scikit-learn/issues/21755 */\n",
       "  display: inline-block !important;\n",
       "  position: relative;\n",
       "}\n",
       "\n",
       "#sk-container-id-1 div.sk-text-repr-fallback {\n",
       "  display: none;\n",
       "}\n",
       "\n",
       "div.sk-parallel-item,\n",
       "div.sk-serial,\n",
       "div.sk-item {\n",
       "  /* draw centered vertical line to link estimators */\n",
       "  background-image: linear-gradient(var(--sklearn-color-text-on-default-background), var(--sklearn-color-text-on-default-background));\n",
       "  background-size: 2px 100%;\n",
       "  background-repeat: no-repeat;\n",
       "  background-position: center center;\n",
       "}\n",
       "\n",
       "/* Parallel-specific style estimator block */\n",
       "\n",
       "#sk-container-id-1 div.sk-parallel-item::after {\n",
       "  content: \"\";\n",
       "  width: 100%;\n",
       "  border-bottom: 2px solid var(--sklearn-color-text-on-default-background);\n",
       "  flex-grow: 1;\n",
       "}\n",
       "\n",
       "#sk-container-id-1 div.sk-parallel {\n",
       "  display: flex;\n",
       "  align-items: stretch;\n",
       "  justify-content: center;\n",
       "  background-color: var(--sklearn-color-background);\n",
       "  position: relative;\n",
       "}\n",
       "\n",
       "#sk-container-id-1 div.sk-parallel-item {\n",
       "  display: flex;\n",
       "  flex-direction: column;\n",
       "}\n",
       "\n",
       "#sk-container-id-1 div.sk-parallel-item:first-child::after {\n",
       "  align-self: flex-end;\n",
       "  width: 50%;\n",
       "}\n",
       "\n",
       "#sk-container-id-1 div.sk-parallel-item:last-child::after {\n",
       "  align-self: flex-start;\n",
       "  width: 50%;\n",
       "}\n",
       "\n",
       "#sk-container-id-1 div.sk-parallel-item:only-child::after {\n",
       "  width: 0;\n",
       "}\n",
       "\n",
       "/* Serial-specific style estimator block */\n",
       "\n",
       "#sk-container-id-1 div.sk-serial {\n",
       "  display: flex;\n",
       "  flex-direction: column;\n",
       "  align-items: center;\n",
       "  background-color: var(--sklearn-color-background);\n",
       "  padding-right: 1em;\n",
       "  padding-left: 1em;\n",
       "}\n",
       "\n",
       "\n",
       "/* Toggleable style: style used for estimator/Pipeline/ColumnTransformer box that is\n",
       "clickable and can be expanded/collapsed.\n",
       "- Pipeline and ColumnTransformer use this feature and define the default style\n",
       "- Estimators will overwrite some part of the style using the `sk-estimator` class\n",
       "*/\n",
       "\n",
       "/* Pipeline and ColumnTransformer style (default) */\n",
       "\n",
       "#sk-container-id-1 div.sk-toggleable {\n",
       "  /* Default theme specific background. It is overwritten whether we have a\n",
       "  specific estimator or a Pipeline/ColumnTransformer */\n",
       "  background-color: var(--sklearn-color-background);\n",
       "}\n",
       "\n",
       "/* Toggleable label */\n",
       "#sk-container-id-1 label.sk-toggleable__label {\n",
       "  cursor: pointer;\n",
       "  display: block;\n",
       "  width: 100%;\n",
       "  margin-bottom: 0;\n",
       "  padding: 0.5em;\n",
       "  box-sizing: border-box;\n",
       "  text-align: center;\n",
       "}\n",
       "\n",
       "#sk-container-id-1 label.sk-toggleable__label-arrow:before {\n",
       "  /* Arrow on the left of the label */\n",
       "  content: \"▸\";\n",
       "  float: left;\n",
       "  margin-right: 0.25em;\n",
       "  color: var(--sklearn-color-icon);\n",
       "}\n",
       "\n",
       "#sk-container-id-1 label.sk-toggleable__label-arrow:hover:before {\n",
       "  color: var(--sklearn-color-text);\n",
       "}\n",
       "\n",
       "/* Toggleable content - dropdown */\n",
       "\n",
       "#sk-container-id-1 div.sk-toggleable__content {\n",
       "  max-height: 0;\n",
       "  max-width: 0;\n",
       "  overflow: hidden;\n",
       "  text-align: left;\n",
       "  /* unfitted */\n",
       "  background-color: var(--sklearn-color-unfitted-level-0);\n",
       "}\n",
       "\n",
       "#sk-container-id-1 div.sk-toggleable__content.fitted {\n",
       "  /* fitted */\n",
       "  background-color: var(--sklearn-color-fitted-level-0);\n",
       "}\n",
       "\n",
       "#sk-container-id-1 div.sk-toggleable__content pre {\n",
       "  margin: 0.2em;\n",
       "  border-radius: 0.25em;\n",
       "  color: var(--sklearn-color-text);\n",
       "  /* unfitted */\n",
       "  background-color: var(--sklearn-color-unfitted-level-0);\n",
       "}\n",
       "\n",
       "#sk-container-id-1 div.sk-toggleable__content.fitted pre {\n",
       "  /* unfitted */\n",
       "  background-color: var(--sklearn-color-fitted-level-0);\n",
       "}\n",
       "\n",
       "#sk-container-id-1 input.sk-toggleable__control:checked~div.sk-toggleable__content {\n",
       "  /* Expand drop-down */\n",
       "  max-height: 200px;\n",
       "  max-width: 100%;\n",
       "  overflow: auto;\n",
       "}\n",
       "\n",
       "#sk-container-id-1 input.sk-toggleable__control:checked~label.sk-toggleable__label-arrow:before {\n",
       "  content: \"▾\";\n",
       "}\n",
       "\n",
       "/* Pipeline/ColumnTransformer-specific style */\n",
       "\n",
       "#sk-container-id-1 div.sk-label input.sk-toggleable__control:checked~label.sk-toggleable__label {\n",
       "  color: var(--sklearn-color-text);\n",
       "  background-color: var(--sklearn-color-unfitted-level-2);\n",
       "}\n",
       "\n",
       "#sk-container-id-1 div.sk-label.fitted input.sk-toggleable__control:checked~label.sk-toggleable__label {\n",
       "  background-color: var(--sklearn-color-fitted-level-2);\n",
       "}\n",
       "\n",
       "/* Estimator-specific style */\n",
       "\n",
       "/* Colorize estimator box */\n",
       "#sk-container-id-1 div.sk-estimator input.sk-toggleable__control:checked~label.sk-toggleable__label {\n",
       "  /* unfitted */\n",
       "  background-color: var(--sklearn-color-unfitted-level-2);\n",
       "}\n",
       "\n",
       "#sk-container-id-1 div.sk-estimator.fitted input.sk-toggleable__control:checked~label.sk-toggleable__label {\n",
       "  /* fitted */\n",
       "  background-color: var(--sklearn-color-fitted-level-2);\n",
       "}\n",
       "\n",
       "#sk-container-id-1 div.sk-label label.sk-toggleable__label,\n",
       "#sk-container-id-1 div.sk-label label {\n",
       "  /* The background is the default theme color */\n",
       "  color: var(--sklearn-color-text-on-default-background);\n",
       "}\n",
       "\n",
       "/* On hover, darken the color of the background */\n",
       "#sk-container-id-1 div.sk-label:hover label.sk-toggleable__label {\n",
       "  color: var(--sklearn-color-text);\n",
       "  background-color: var(--sklearn-color-unfitted-level-2);\n",
       "}\n",
       "\n",
       "/* Label box, darken color on hover, fitted */\n",
       "#sk-container-id-1 div.sk-label.fitted:hover label.sk-toggleable__label.fitted {\n",
       "  color: var(--sklearn-color-text);\n",
       "  background-color: var(--sklearn-color-fitted-level-2);\n",
       "}\n",
       "\n",
       "/* Estimator label */\n",
       "\n",
       "#sk-container-id-1 div.sk-label label {\n",
       "  font-family: monospace;\n",
       "  font-weight: bold;\n",
       "  display: inline-block;\n",
       "  line-height: 1.2em;\n",
       "}\n",
       "\n",
       "#sk-container-id-1 div.sk-label-container {\n",
       "  text-align: center;\n",
       "}\n",
       "\n",
       "/* Estimator-specific */\n",
       "#sk-container-id-1 div.sk-estimator {\n",
       "  font-family: monospace;\n",
       "  border: 1px dotted var(--sklearn-color-border-box);\n",
       "  border-radius: 0.25em;\n",
       "  box-sizing: border-box;\n",
       "  margin-bottom: 0.5em;\n",
       "  /* unfitted */\n",
       "  background-color: var(--sklearn-color-unfitted-level-0);\n",
       "}\n",
       "\n",
       "#sk-container-id-1 div.sk-estimator.fitted {\n",
       "  /* fitted */\n",
       "  background-color: var(--sklearn-color-fitted-level-0);\n",
       "}\n",
       "\n",
       "/* on hover */\n",
       "#sk-container-id-1 div.sk-estimator:hover {\n",
       "  /* unfitted */\n",
       "  background-color: var(--sklearn-color-unfitted-level-2);\n",
       "}\n",
       "\n",
       "#sk-container-id-1 div.sk-estimator.fitted:hover {\n",
       "  /* fitted */\n",
       "  background-color: var(--sklearn-color-fitted-level-2);\n",
       "}\n",
       "\n",
       "/* Specification for estimator info (e.g. \"i\" and \"?\") */\n",
       "\n",
       "/* Common style for \"i\" and \"?\" */\n",
       "\n",
       ".sk-estimator-doc-link,\n",
       "a:link.sk-estimator-doc-link,\n",
       "a:visited.sk-estimator-doc-link {\n",
       "  float: right;\n",
       "  font-size: smaller;\n",
       "  line-height: 1em;\n",
       "  font-family: monospace;\n",
       "  background-color: var(--sklearn-color-background);\n",
       "  border-radius: 1em;\n",
       "  height: 1em;\n",
       "  width: 1em;\n",
       "  text-decoration: none !important;\n",
       "  margin-left: 1ex;\n",
       "  /* unfitted */\n",
       "  border: var(--sklearn-color-unfitted-level-1) 1pt solid;\n",
       "  color: var(--sklearn-color-unfitted-level-1);\n",
       "}\n",
       "\n",
       ".sk-estimator-doc-link.fitted,\n",
       "a:link.sk-estimator-doc-link.fitted,\n",
       "a:visited.sk-estimator-doc-link.fitted {\n",
       "  /* fitted */\n",
       "  border: var(--sklearn-color-fitted-level-1) 1pt solid;\n",
       "  color: var(--sklearn-color-fitted-level-1);\n",
       "}\n",
       "\n",
       "/* On hover */\n",
       "div.sk-estimator:hover .sk-estimator-doc-link:hover,\n",
       ".sk-estimator-doc-link:hover,\n",
       "div.sk-label-container:hover .sk-estimator-doc-link:hover,\n",
       ".sk-estimator-doc-link:hover {\n",
       "  /* unfitted */\n",
       "  background-color: var(--sklearn-color-unfitted-level-3);\n",
       "  color: var(--sklearn-color-background);\n",
       "  text-decoration: none;\n",
       "}\n",
       "\n",
       "div.sk-estimator.fitted:hover .sk-estimator-doc-link.fitted:hover,\n",
       ".sk-estimator-doc-link.fitted:hover,\n",
       "div.sk-label-container:hover .sk-estimator-doc-link.fitted:hover,\n",
       ".sk-estimator-doc-link.fitted:hover {\n",
       "  /* fitted */\n",
       "  background-color: var(--sklearn-color-fitted-level-3);\n",
       "  color: var(--sklearn-color-background);\n",
       "  text-decoration: none;\n",
       "}\n",
       "\n",
       "/* Span, style for the box shown on hovering the info icon */\n",
       ".sk-estimator-doc-link span {\n",
       "  display: none;\n",
       "  z-index: 9999;\n",
       "  position: relative;\n",
       "  font-weight: normal;\n",
       "  right: .2ex;\n",
       "  padding: .5ex;\n",
       "  margin: .5ex;\n",
       "  width: min-content;\n",
       "  min-width: 20ex;\n",
       "  max-width: 50ex;\n",
       "  color: var(--sklearn-color-text);\n",
       "  box-shadow: 2pt 2pt 4pt #999;\n",
       "  /* unfitted */\n",
       "  background: var(--sklearn-color-unfitted-level-0);\n",
       "  border: .5pt solid var(--sklearn-color-unfitted-level-3);\n",
       "}\n",
       "\n",
       ".sk-estimator-doc-link.fitted span {\n",
       "  /* fitted */\n",
       "  background: var(--sklearn-color-fitted-level-0);\n",
       "  border: var(--sklearn-color-fitted-level-3);\n",
       "}\n",
       "\n",
       ".sk-estimator-doc-link:hover span {\n",
       "  display: block;\n",
       "}\n",
       "\n",
       "/* \"?\"-specific style due to the `<a>` HTML tag */\n",
       "\n",
       "#sk-container-id-1 a.estimator_doc_link {\n",
       "  float: right;\n",
       "  font-size: 1rem;\n",
       "  line-height: 1em;\n",
       "  font-family: monospace;\n",
       "  background-color: var(--sklearn-color-background);\n",
       "  border-radius: 1rem;\n",
       "  height: 1rem;\n",
       "  width: 1rem;\n",
       "  text-decoration: none;\n",
       "  /* unfitted */\n",
       "  color: var(--sklearn-color-unfitted-level-1);\n",
       "  border: var(--sklearn-color-unfitted-level-1) 1pt solid;\n",
       "}\n",
       "\n",
       "#sk-container-id-1 a.estimator_doc_link.fitted {\n",
       "  /* fitted */\n",
       "  border: var(--sklearn-color-fitted-level-1) 1pt solid;\n",
       "  color: var(--sklearn-color-fitted-level-1);\n",
       "}\n",
       "\n",
       "/* On hover */\n",
       "#sk-container-id-1 a.estimator_doc_link:hover {\n",
       "  /* unfitted */\n",
       "  background-color: var(--sklearn-color-unfitted-level-3);\n",
       "  color: var(--sklearn-color-background);\n",
       "  text-decoration: none;\n",
       "}\n",
       "\n",
       "#sk-container-id-1 a.estimator_doc_link.fitted:hover {\n",
       "  /* fitted */\n",
       "  background-color: var(--sklearn-color-fitted-level-3);\n",
       "}\n",
       "</style><div id=\"sk-container-id-1\" class=\"sk-top-container\"><div class=\"sk-text-repr-fallback\"><pre>LogisticRegression(max_iter=500, multi_class=&#x27;multinomial&#x27;)</pre><b>In a Jupyter environment, please rerun this cell to show the HTML representation or trust the notebook. <br />On GitHub, the HTML representation is unable to render, please try loading this page with nbviewer.org.</b></div><div class=\"sk-container\" hidden><div class=\"sk-item\"><div class=\"sk-estimator fitted sk-toggleable\"><input class=\"sk-toggleable__control sk-hidden--visually\" id=\"sk-estimator-id-1\" type=\"checkbox\" checked><label for=\"sk-estimator-id-1\" class=\"sk-toggleable__label fitted sk-toggleable__label-arrow fitted\">&nbsp;&nbsp;LogisticRegression<a class=\"sk-estimator-doc-link fitted\" rel=\"noreferrer\" target=\"_blank\" href=\"https://scikit-learn.org/1.5/modules/generated/sklearn.linear_model.LogisticRegression.html\">?<span>Documentation for LogisticRegression</span></a><span class=\"sk-estimator-doc-link fitted\">i<span>Fitted</span></span></label><div class=\"sk-toggleable__content fitted\"><pre>LogisticRegression(max_iter=500, multi_class=&#x27;multinomial&#x27;)</pre></div> </div></div></div></div>"
      ],
      "text/plain": [
       "LogisticRegression(max_iter=500, multi_class='multinomial')"
      ]
     },
     "execution_count": 28,
     "metadata": {},
     "output_type": "execute_result"
    }
   ],
   "source": [
    "model.fit(X_train, y_train)"
   ]
  },
  {
   "cell_type": "code",
   "execution_count": null,
   "metadata": {},
   "outputs": [
    {
     "data": {
      "text/plain": [
       "0.4744729907773386"
      ]
     },
     "execution_count": 29,
     "metadata": {},
     "output_type": "execute_result"
    }
   ],
   "source": [
    "model.score(X_train, y_train)"
   ]
  },
  {
   "cell_type": "code",
   "execution_count": null,
   "metadata": {},
   "outputs": [],
   "source": [
    "y_pred = model.predict(X_test)"
   ]
  },
  {
   "cell_type": "code",
   "execution_count": null,
   "metadata": {},
   "outputs": [
    {
     "name": "stdout",
     "output_type": "stream",
     "text": [
      "              precision    recall  f1-score   support\n",
      "\n",
      "           0       0.39      0.44      0.41       441\n",
      "           1       0.42      0.33      0.37       206\n",
      "           2       0.38      0.52      0.44       391\n",
      "           3       0.33      0.32      0.33       327\n",
      "           4       0.10      0.01      0.03        69\n",
      "           5       0.33      0.02      0.03        57\n",
      "           6       0.44      0.69      0.54       550\n",
      "           7       0.52      0.40      0.46       203\n",
      "           8       0.45      0.06      0.11        81\n",
      "           9       0.36      0.15      0.21       101\n",
      "          10       0.75      0.06      0.11        50\n",
      "          11       0.00      0.00      0.00        61\n",
      "          12       0.00      0.00      0.00        27\n",
      "          13       0.00      0.00      0.00        14\n",
      "          14       0.00      0.00      0.00        12\n",
      "          15       0.00      0.00      0.00        13\n",
      "\n",
      "    accuracy                           0.41      2603\n",
      "   macro avg       0.28      0.19      0.19      2603\n",
      "weighted avg       0.38      0.41      0.37      2603\n",
      "\n"
     ]
    },
    {
     "name": "stderr",
     "output_type": "stream",
     "text": [
      "/opt/homebrew/Caskroom/miniforge/base/envs/garfield/lib/python3.12/site-packages/sklearn/metrics/_classification.py:1531: UndefinedMetricWarning: Precision is ill-defined and being set to 0.0 in labels with no predicted samples. Use `zero_division` parameter to control this behavior.\n",
      "  _warn_prf(average, modifier, f\"{metric.capitalize()} is\", len(result))\n",
      "/opt/homebrew/Caskroom/miniforge/base/envs/garfield/lib/python3.12/site-packages/sklearn/metrics/_classification.py:1531: UndefinedMetricWarning: Precision is ill-defined and being set to 0.0 in labels with no predicted samples. Use `zero_division` parameter to control this behavior.\n",
      "  _warn_prf(average, modifier, f\"{metric.capitalize()} is\", len(result))\n",
      "/opt/homebrew/Caskroom/miniforge/base/envs/garfield/lib/python3.12/site-packages/sklearn/metrics/_classification.py:1531: UndefinedMetricWarning: Precision is ill-defined and being set to 0.0 in labels with no predicted samples. Use `zero_division` parameter to control this behavior.\n",
      "  _warn_prf(average, modifier, f\"{metric.capitalize()} is\", len(result))\n"
     ]
    }
   ],
   "source": [
    "print(classification_report(y_test, y_pred))"
   ]
  },
  {
   "cell_type": "markdown",
   "metadata": {},
   "source": [
    "### Experiment 1: Multinomial with predefined class weights to accomodate imbalanced dataset"
   ]
  },
  {
   "cell_type": "code",
   "execution_count": null,
   "metadata": {},
   "outputs": [
    {
     "data": {
      "text/plain": [
       "{'INFP': 0.21118155619596543,\n",
       " 'INFJ': 0.16945244956772335,\n",
       " 'INTP': 0.15031700288184438,\n",
       " 'INTJ': 0.12576368876080693,\n",
       " 'ENTP': 0.07896253602305475,\n",
       " 'ENFP': 0.07780979827089338,\n",
       " 'ISTP': 0.03884726224783862,\n",
       " 'ISFP': 0.031239193083573487,\n",
       " 'ENTJ': 0.026628242074927953,\n",
       " 'ISTJ': 0.02363112391930836,\n",
       " 'ENFJ': 0.02190201729106628,\n",
       " 'ISFJ': 0.01913544668587896,\n",
       " 'ESTP': 0.01025936599423631,\n",
       " 'ESFP': 0.00553314121037464,\n",
       " 'ESFJ': 0.00484149855907781,\n",
       " 'ESTJ': 0.004495677233429395}"
      ]
     },
     "execution_count": 34,
     "metadata": {},
     "output_type": "execute_result"
    }
   ],
   "source": [
    "dict(df['type'].value_counts(normalize=True))"
   ]
  },
  {
   "cell_type": "code",
   "execution_count": null,
   "metadata": {},
   "outputs": [
    {
     "data": {
      "text/plain": [
       "array([0.16945245, 0.07896254, 0.150317  , ..., 0.150317  , 0.21118156,\n",
       "       0.21118156])"
      ]
     },
     "execution_count": 38,
     "metadata": {},
     "output_type": "execute_result"
    }
   ],
   "source": [
    "df['type_weights'] = df['type'].map(dict(df['type'].value_counts(normalize=True)))\n",
    "df['type_weights'].values"
   ]
  },
  {
   "cell_type": "code",
   "execution_count": null,
   "metadata": {},
   "outputs": [
    {
     "data": {
      "text/plain": [
       "array([[0.        , 0.16945245],\n",
       "       [1.        , 0.07896254],\n",
       "       [2.        , 0.150317  ],\n",
       "       ...,\n",
       "       [2.        , 0.150317  ],\n",
       "       [6.        , 0.21118156],\n",
       "       [6.        , 0.21118156]])"
      ]
     },
     "execution_count": 42,
     "metadata": {},
     "output_type": "execute_result"
    }
   ],
   "source": [
    "df[['mbti', 'type_weights']].values"
   ]
  },
  {
   "cell_type": "code",
   "execution_count": null,
   "metadata": {},
   "outputs": [],
   "source": [
    "from sklearn.model_selection import train_test_split\n",
    "X_train, X_test, y_train, y_test = train_test_split(X, df[['mbti', 'type_weights']].values, test_size=0.3, random_state=42, stratify=y)\n"
   ]
  },
  {
   "cell_type": "code",
   "execution_count": null,
   "metadata": {},
   "outputs": [
    {
     "data": {
      "text/plain": [
       "array([0.01913545, 0.150317  , 0.150317  , ..., 0.07896254, 0.0778098 ,\n",
       "       0.150317  ])"
      ]
     },
     "execution_count": 45,
     "metadata": {},
     "output_type": "execute_result"
    }
   ],
   "source": [
    "y_train[:, 1]"
   ]
  },
  {
   "cell_type": "code",
   "execution_count": null,
   "metadata": {},
   "outputs": [
    {
     "data": {
      "text/plain": [
       "array([10.,  2.,  2., ...,  1.,  7.,  2.])"
      ]
     },
     "execution_count": 46,
     "metadata": {},
     "output_type": "execute_result"
    }
   ],
   "source": [
    "y_train[:, 0]"
   ]
  },
  {
   "cell_type": "code",
   "execution_count": null,
   "metadata": {},
   "outputs": [
    {
     "name": "stderr",
     "output_type": "stream",
     "text": [
      "/opt/homebrew/Caskroom/miniforge/base/envs/garfield/lib/python3.12/site-packages/sklearn/linear_model/_logistic.py:1247: FutureWarning: 'multi_class' was deprecated in version 1.5 and will be removed in 1.7. From then on, it will always use 'multinomial'. Leave it to its default value to avoid this warning.\n",
      "  warnings.warn(\n"
     ]
    },
    {
     "data": {
      "text/html": [
       "<style>#sk-container-id-2 {\n",
       "  /* Definition of color scheme common for light and dark mode */\n",
       "  --sklearn-color-text: black;\n",
       "  --sklearn-color-line: gray;\n",
       "  /* Definition of color scheme for unfitted estimators */\n",
       "  --sklearn-color-unfitted-level-0: #fff5e6;\n",
       "  --sklearn-color-unfitted-level-1: #f6e4d2;\n",
       "  --sklearn-color-unfitted-level-2: #ffe0b3;\n",
       "  --sklearn-color-unfitted-level-3: chocolate;\n",
       "  /* Definition of color scheme for fitted estimators */\n",
       "  --sklearn-color-fitted-level-0: #f0f8ff;\n",
       "  --sklearn-color-fitted-level-1: #d4ebff;\n",
       "  --sklearn-color-fitted-level-2: #b3dbfd;\n",
       "  --sklearn-color-fitted-level-3: cornflowerblue;\n",
       "\n",
       "  /* Specific color for light theme */\n",
       "  --sklearn-color-text-on-default-background: var(--sg-text-color, var(--theme-code-foreground, var(--jp-content-font-color1, black)));\n",
       "  --sklearn-color-background: var(--sg-background-color, var(--theme-background, var(--jp-layout-color0, white)));\n",
       "  --sklearn-color-border-box: var(--sg-text-color, var(--theme-code-foreground, var(--jp-content-font-color1, black)));\n",
       "  --sklearn-color-icon: #696969;\n",
       "\n",
       "  @media (prefers-color-scheme: dark) {\n",
       "    /* Redefinition of color scheme for dark theme */\n",
       "    --sklearn-color-text-on-default-background: var(--sg-text-color, var(--theme-code-foreground, var(--jp-content-font-color1, white)));\n",
       "    --sklearn-color-background: var(--sg-background-color, var(--theme-background, var(--jp-layout-color0, #111)));\n",
       "    --sklearn-color-border-box: var(--sg-text-color, var(--theme-code-foreground, var(--jp-content-font-color1, white)));\n",
       "    --sklearn-color-icon: #878787;\n",
       "  }\n",
       "}\n",
       "\n",
       "#sk-container-id-2 {\n",
       "  color: var(--sklearn-color-text);\n",
       "}\n",
       "\n",
       "#sk-container-id-2 pre {\n",
       "  padding: 0;\n",
       "}\n",
       "\n",
       "#sk-container-id-2 input.sk-hidden--visually {\n",
       "  border: 0;\n",
       "  clip: rect(1px 1px 1px 1px);\n",
       "  clip: rect(1px, 1px, 1px, 1px);\n",
       "  height: 1px;\n",
       "  margin: -1px;\n",
       "  overflow: hidden;\n",
       "  padding: 0;\n",
       "  position: absolute;\n",
       "  width: 1px;\n",
       "}\n",
       "\n",
       "#sk-container-id-2 div.sk-dashed-wrapped {\n",
       "  border: 1px dashed var(--sklearn-color-line);\n",
       "  margin: 0 0.4em 0.5em 0.4em;\n",
       "  box-sizing: border-box;\n",
       "  padding-bottom: 0.4em;\n",
       "  background-color: var(--sklearn-color-background);\n",
       "}\n",
       "\n",
       "#sk-container-id-2 div.sk-container {\n",
       "  /* jupyter's `normalize.less` sets `[hidden] { display: none; }`\n",
       "     but bootstrap.min.css set `[hidden] { display: none !important; }`\n",
       "     so we also need the `!important` here to be able to override the\n",
       "     default hidden behavior on the sphinx rendered scikit-learn.org.\n",
       "     See: https://github.com/scikit-learn/scikit-learn/issues/21755 */\n",
       "  display: inline-block !important;\n",
       "  position: relative;\n",
       "}\n",
       "\n",
       "#sk-container-id-2 div.sk-text-repr-fallback {\n",
       "  display: none;\n",
       "}\n",
       "\n",
       "div.sk-parallel-item,\n",
       "div.sk-serial,\n",
       "div.sk-item {\n",
       "  /* draw centered vertical line to link estimators */\n",
       "  background-image: linear-gradient(var(--sklearn-color-text-on-default-background), var(--sklearn-color-text-on-default-background));\n",
       "  background-size: 2px 100%;\n",
       "  background-repeat: no-repeat;\n",
       "  background-position: center center;\n",
       "}\n",
       "\n",
       "/* Parallel-specific style estimator block */\n",
       "\n",
       "#sk-container-id-2 div.sk-parallel-item::after {\n",
       "  content: \"\";\n",
       "  width: 100%;\n",
       "  border-bottom: 2px solid var(--sklearn-color-text-on-default-background);\n",
       "  flex-grow: 1;\n",
       "}\n",
       "\n",
       "#sk-container-id-2 div.sk-parallel {\n",
       "  display: flex;\n",
       "  align-items: stretch;\n",
       "  justify-content: center;\n",
       "  background-color: var(--sklearn-color-background);\n",
       "  position: relative;\n",
       "}\n",
       "\n",
       "#sk-container-id-2 div.sk-parallel-item {\n",
       "  display: flex;\n",
       "  flex-direction: column;\n",
       "}\n",
       "\n",
       "#sk-container-id-2 div.sk-parallel-item:first-child::after {\n",
       "  align-self: flex-end;\n",
       "  width: 50%;\n",
       "}\n",
       "\n",
       "#sk-container-id-2 div.sk-parallel-item:last-child::after {\n",
       "  align-self: flex-start;\n",
       "  width: 50%;\n",
       "}\n",
       "\n",
       "#sk-container-id-2 div.sk-parallel-item:only-child::after {\n",
       "  width: 0;\n",
       "}\n",
       "\n",
       "/* Serial-specific style estimator block */\n",
       "\n",
       "#sk-container-id-2 div.sk-serial {\n",
       "  display: flex;\n",
       "  flex-direction: column;\n",
       "  align-items: center;\n",
       "  background-color: var(--sklearn-color-background);\n",
       "  padding-right: 1em;\n",
       "  padding-left: 1em;\n",
       "}\n",
       "\n",
       "\n",
       "/* Toggleable style: style used for estimator/Pipeline/ColumnTransformer box that is\n",
       "clickable and can be expanded/collapsed.\n",
       "- Pipeline and ColumnTransformer use this feature and define the default style\n",
       "- Estimators will overwrite some part of the style using the `sk-estimator` class\n",
       "*/\n",
       "\n",
       "/* Pipeline and ColumnTransformer style (default) */\n",
       "\n",
       "#sk-container-id-2 div.sk-toggleable {\n",
       "  /* Default theme specific background. It is overwritten whether we have a\n",
       "  specific estimator or a Pipeline/ColumnTransformer */\n",
       "  background-color: var(--sklearn-color-background);\n",
       "}\n",
       "\n",
       "/* Toggleable label */\n",
       "#sk-container-id-2 label.sk-toggleable__label {\n",
       "  cursor: pointer;\n",
       "  display: block;\n",
       "  width: 100%;\n",
       "  margin-bottom: 0;\n",
       "  padding: 0.5em;\n",
       "  box-sizing: border-box;\n",
       "  text-align: center;\n",
       "}\n",
       "\n",
       "#sk-container-id-2 label.sk-toggleable__label-arrow:before {\n",
       "  /* Arrow on the left of the label */\n",
       "  content: \"▸\";\n",
       "  float: left;\n",
       "  margin-right: 0.25em;\n",
       "  color: var(--sklearn-color-icon);\n",
       "}\n",
       "\n",
       "#sk-container-id-2 label.sk-toggleable__label-arrow:hover:before {\n",
       "  color: var(--sklearn-color-text);\n",
       "}\n",
       "\n",
       "/* Toggleable content - dropdown */\n",
       "\n",
       "#sk-container-id-2 div.sk-toggleable__content {\n",
       "  max-height: 0;\n",
       "  max-width: 0;\n",
       "  overflow: hidden;\n",
       "  text-align: left;\n",
       "  /* unfitted */\n",
       "  background-color: var(--sklearn-color-unfitted-level-0);\n",
       "}\n",
       "\n",
       "#sk-container-id-2 div.sk-toggleable__content.fitted {\n",
       "  /* fitted */\n",
       "  background-color: var(--sklearn-color-fitted-level-0);\n",
       "}\n",
       "\n",
       "#sk-container-id-2 div.sk-toggleable__content pre {\n",
       "  margin: 0.2em;\n",
       "  border-radius: 0.25em;\n",
       "  color: var(--sklearn-color-text);\n",
       "  /* unfitted */\n",
       "  background-color: var(--sklearn-color-unfitted-level-0);\n",
       "}\n",
       "\n",
       "#sk-container-id-2 div.sk-toggleable__content.fitted pre {\n",
       "  /* unfitted */\n",
       "  background-color: var(--sklearn-color-fitted-level-0);\n",
       "}\n",
       "\n",
       "#sk-container-id-2 input.sk-toggleable__control:checked~div.sk-toggleable__content {\n",
       "  /* Expand drop-down */\n",
       "  max-height: 200px;\n",
       "  max-width: 100%;\n",
       "  overflow: auto;\n",
       "}\n",
       "\n",
       "#sk-container-id-2 input.sk-toggleable__control:checked~label.sk-toggleable__label-arrow:before {\n",
       "  content: \"▾\";\n",
       "}\n",
       "\n",
       "/* Pipeline/ColumnTransformer-specific style */\n",
       "\n",
       "#sk-container-id-2 div.sk-label input.sk-toggleable__control:checked~label.sk-toggleable__label {\n",
       "  color: var(--sklearn-color-text);\n",
       "  background-color: var(--sklearn-color-unfitted-level-2);\n",
       "}\n",
       "\n",
       "#sk-container-id-2 div.sk-label.fitted input.sk-toggleable__control:checked~label.sk-toggleable__label {\n",
       "  background-color: var(--sklearn-color-fitted-level-2);\n",
       "}\n",
       "\n",
       "/* Estimator-specific style */\n",
       "\n",
       "/* Colorize estimator box */\n",
       "#sk-container-id-2 div.sk-estimator input.sk-toggleable__control:checked~label.sk-toggleable__label {\n",
       "  /* unfitted */\n",
       "  background-color: var(--sklearn-color-unfitted-level-2);\n",
       "}\n",
       "\n",
       "#sk-container-id-2 div.sk-estimator.fitted input.sk-toggleable__control:checked~label.sk-toggleable__label {\n",
       "  /* fitted */\n",
       "  background-color: var(--sklearn-color-fitted-level-2);\n",
       "}\n",
       "\n",
       "#sk-container-id-2 div.sk-label label.sk-toggleable__label,\n",
       "#sk-container-id-2 div.sk-label label {\n",
       "  /* The background is the default theme color */\n",
       "  color: var(--sklearn-color-text-on-default-background);\n",
       "}\n",
       "\n",
       "/* On hover, darken the color of the background */\n",
       "#sk-container-id-2 div.sk-label:hover label.sk-toggleable__label {\n",
       "  color: var(--sklearn-color-text);\n",
       "  background-color: var(--sklearn-color-unfitted-level-2);\n",
       "}\n",
       "\n",
       "/* Label box, darken color on hover, fitted */\n",
       "#sk-container-id-2 div.sk-label.fitted:hover label.sk-toggleable__label.fitted {\n",
       "  color: var(--sklearn-color-text);\n",
       "  background-color: var(--sklearn-color-fitted-level-2);\n",
       "}\n",
       "\n",
       "/* Estimator label */\n",
       "\n",
       "#sk-container-id-2 div.sk-label label {\n",
       "  font-family: monospace;\n",
       "  font-weight: bold;\n",
       "  display: inline-block;\n",
       "  line-height: 1.2em;\n",
       "}\n",
       "\n",
       "#sk-container-id-2 div.sk-label-container {\n",
       "  text-align: center;\n",
       "}\n",
       "\n",
       "/* Estimator-specific */\n",
       "#sk-container-id-2 div.sk-estimator {\n",
       "  font-family: monospace;\n",
       "  border: 1px dotted var(--sklearn-color-border-box);\n",
       "  border-radius: 0.25em;\n",
       "  box-sizing: border-box;\n",
       "  margin-bottom: 0.5em;\n",
       "  /* unfitted */\n",
       "  background-color: var(--sklearn-color-unfitted-level-0);\n",
       "}\n",
       "\n",
       "#sk-container-id-2 div.sk-estimator.fitted {\n",
       "  /* fitted */\n",
       "  background-color: var(--sklearn-color-fitted-level-0);\n",
       "}\n",
       "\n",
       "/* on hover */\n",
       "#sk-container-id-2 div.sk-estimator:hover {\n",
       "  /* unfitted */\n",
       "  background-color: var(--sklearn-color-unfitted-level-2);\n",
       "}\n",
       "\n",
       "#sk-container-id-2 div.sk-estimator.fitted:hover {\n",
       "  /* fitted */\n",
       "  background-color: var(--sklearn-color-fitted-level-2);\n",
       "}\n",
       "\n",
       "/* Specification for estimator info (e.g. \"i\" and \"?\") */\n",
       "\n",
       "/* Common style for \"i\" and \"?\" */\n",
       "\n",
       ".sk-estimator-doc-link,\n",
       "a:link.sk-estimator-doc-link,\n",
       "a:visited.sk-estimator-doc-link {\n",
       "  float: right;\n",
       "  font-size: smaller;\n",
       "  line-height: 1em;\n",
       "  font-family: monospace;\n",
       "  background-color: var(--sklearn-color-background);\n",
       "  border-radius: 1em;\n",
       "  height: 1em;\n",
       "  width: 1em;\n",
       "  text-decoration: none !important;\n",
       "  margin-left: 1ex;\n",
       "  /* unfitted */\n",
       "  border: var(--sklearn-color-unfitted-level-1) 1pt solid;\n",
       "  color: var(--sklearn-color-unfitted-level-1);\n",
       "}\n",
       "\n",
       ".sk-estimator-doc-link.fitted,\n",
       "a:link.sk-estimator-doc-link.fitted,\n",
       "a:visited.sk-estimator-doc-link.fitted {\n",
       "  /* fitted */\n",
       "  border: var(--sklearn-color-fitted-level-1) 1pt solid;\n",
       "  color: var(--sklearn-color-fitted-level-1);\n",
       "}\n",
       "\n",
       "/* On hover */\n",
       "div.sk-estimator:hover .sk-estimator-doc-link:hover,\n",
       ".sk-estimator-doc-link:hover,\n",
       "div.sk-label-container:hover .sk-estimator-doc-link:hover,\n",
       ".sk-estimator-doc-link:hover {\n",
       "  /* unfitted */\n",
       "  background-color: var(--sklearn-color-unfitted-level-3);\n",
       "  color: var(--sklearn-color-background);\n",
       "  text-decoration: none;\n",
       "}\n",
       "\n",
       "div.sk-estimator.fitted:hover .sk-estimator-doc-link.fitted:hover,\n",
       ".sk-estimator-doc-link.fitted:hover,\n",
       "div.sk-label-container:hover .sk-estimator-doc-link.fitted:hover,\n",
       ".sk-estimator-doc-link.fitted:hover {\n",
       "  /* fitted */\n",
       "  background-color: var(--sklearn-color-fitted-level-3);\n",
       "  color: var(--sklearn-color-background);\n",
       "  text-decoration: none;\n",
       "}\n",
       "\n",
       "/* Span, style for the box shown on hovering the info icon */\n",
       ".sk-estimator-doc-link span {\n",
       "  display: none;\n",
       "  z-index: 9999;\n",
       "  position: relative;\n",
       "  font-weight: normal;\n",
       "  right: .2ex;\n",
       "  padding: .5ex;\n",
       "  margin: .5ex;\n",
       "  width: min-content;\n",
       "  min-width: 20ex;\n",
       "  max-width: 50ex;\n",
       "  color: var(--sklearn-color-text);\n",
       "  box-shadow: 2pt 2pt 4pt #999;\n",
       "  /* unfitted */\n",
       "  background: var(--sklearn-color-unfitted-level-0);\n",
       "  border: .5pt solid var(--sklearn-color-unfitted-level-3);\n",
       "}\n",
       "\n",
       ".sk-estimator-doc-link.fitted span {\n",
       "  /* fitted */\n",
       "  background: var(--sklearn-color-fitted-level-0);\n",
       "  border: var(--sklearn-color-fitted-level-3);\n",
       "}\n",
       "\n",
       ".sk-estimator-doc-link:hover span {\n",
       "  display: block;\n",
       "}\n",
       "\n",
       "/* \"?\"-specific style due to the `<a>` HTML tag */\n",
       "\n",
       "#sk-container-id-2 a.estimator_doc_link {\n",
       "  float: right;\n",
       "  font-size: 1rem;\n",
       "  line-height: 1em;\n",
       "  font-family: monospace;\n",
       "  background-color: var(--sklearn-color-background);\n",
       "  border-radius: 1rem;\n",
       "  height: 1rem;\n",
       "  width: 1rem;\n",
       "  text-decoration: none;\n",
       "  /* unfitted */\n",
       "  color: var(--sklearn-color-unfitted-level-1);\n",
       "  border: var(--sklearn-color-unfitted-level-1) 1pt solid;\n",
       "}\n",
       "\n",
       "#sk-container-id-2 a.estimator_doc_link.fitted {\n",
       "  /* fitted */\n",
       "  border: var(--sklearn-color-fitted-level-1) 1pt solid;\n",
       "  color: var(--sklearn-color-fitted-level-1);\n",
       "}\n",
       "\n",
       "/* On hover */\n",
       "#sk-container-id-2 a.estimator_doc_link:hover {\n",
       "  /* unfitted */\n",
       "  background-color: var(--sklearn-color-unfitted-level-3);\n",
       "  color: var(--sklearn-color-background);\n",
       "  text-decoration: none;\n",
       "}\n",
       "\n",
       "#sk-container-id-2 a.estimator_doc_link.fitted:hover {\n",
       "  /* fitted */\n",
       "  background-color: var(--sklearn-color-fitted-level-3);\n",
       "}\n",
       "</style><div id=\"sk-container-id-2\" class=\"sk-top-container\"><div class=\"sk-text-repr-fallback\"><pre>LogisticRegression(max_iter=500, multi_class=&#x27;multinomial&#x27;)</pre><b>In a Jupyter environment, please rerun this cell to show the HTML representation or trust the notebook. <br />On GitHub, the HTML representation is unable to render, please try loading this page with nbviewer.org.</b></div><div class=\"sk-container\" hidden><div class=\"sk-item\"><div class=\"sk-estimator fitted sk-toggleable\"><input class=\"sk-toggleable__control sk-hidden--visually\" id=\"sk-estimator-id-2\" type=\"checkbox\" checked><label for=\"sk-estimator-id-2\" class=\"sk-toggleable__label fitted sk-toggleable__label-arrow fitted\">&nbsp;&nbsp;LogisticRegression<a class=\"sk-estimator-doc-link fitted\" rel=\"noreferrer\" target=\"_blank\" href=\"https://scikit-learn.org/1.5/modules/generated/sklearn.linear_model.LogisticRegression.html\">?<span>Documentation for LogisticRegression</span></a><span class=\"sk-estimator-doc-link fitted\">i<span>Fitted</span></span></label><div class=\"sk-toggleable__content fitted\"><pre>LogisticRegression(max_iter=500, multi_class=&#x27;multinomial&#x27;)</pre></div> </div></div></div></div>"
      ],
      "text/plain": [
       "LogisticRegression(max_iter=500, multi_class='multinomial')"
      ]
     },
     "execution_count": 47,
     "metadata": {},
     "output_type": "execute_result"
    }
   ],
   "source": [
    "model.fit(X_train, y_train[:, 0], y_train[:, 1])"
   ]
  },
  {
   "cell_type": "code",
   "execution_count": null,
   "metadata": {},
   "outputs": [
    {
     "data": {
      "text/plain": [
       "0.32954545454545453"
      ]
     },
     "execution_count": 48,
     "metadata": {},
     "output_type": "execute_result"
    }
   ],
   "source": [
    "model.score(X_train, y_train[:, 0])"
   ]
  },
  {
   "cell_type": "code",
   "execution_count": null,
   "metadata": {},
   "outputs": [
    {
     "data": {
      "text/plain": [
       "array([0., 2., 6., ..., 0., 6., 6.])"
      ]
     },
     "execution_count": 55,
     "metadata": {},
     "output_type": "execute_result"
    }
   ],
   "source": [
    "y_pred = model.predict(X_test)\n",
    "y_pred"
   ]
  },
  {
   "cell_type": "code",
   "execution_count": null,
   "metadata": {},
   "outputs": [
    {
     "name": "stdout",
     "output_type": "stream",
     "text": [
      "              precision    recall  f1-score   support\n",
      "\n",
      "         0.0       0.34      0.36      0.35       441\n",
      "         1.0       0.00      0.00      0.00       206\n",
      "         2.0       0.32      0.43      0.37       391\n",
      "         3.0       0.36      0.09      0.14       327\n",
      "         4.0       0.00      0.00      0.00        69\n",
      "         5.0       0.00      0.00      0.00        57\n",
      "         6.0       0.31      0.86      0.45       550\n",
      "         7.0       0.00      0.00      0.00       203\n",
      "         8.0       0.00      0.00      0.00        81\n",
      "         9.0       0.00      0.00      0.00       101\n",
      "        10.0       0.00      0.00      0.00        50\n",
      "        11.0       0.00      0.00      0.00        61\n",
      "        12.0       0.00      0.00      0.00        27\n",
      "        13.0       0.00      0.00      0.00        14\n",
      "        14.0       0.00      0.00      0.00        12\n",
      "        15.0       0.00      0.00      0.00        13\n",
      "\n",
      "    accuracy                           0.32      2603\n",
      "   macro avg       0.08      0.11      0.08      2603\n",
      "weighted avg       0.22      0.32      0.23      2603\n",
      "\n"
     ]
    },
    {
     "name": "stderr",
     "output_type": "stream",
     "text": [
      "/opt/homebrew/Caskroom/miniforge/base/envs/garfield/lib/python3.12/site-packages/sklearn/metrics/_classification.py:1531: UndefinedMetricWarning: Precision is ill-defined and being set to 0.0 in labels with no predicted samples. Use `zero_division` parameter to control this behavior.\n",
      "  _warn_prf(average, modifier, f\"{metric.capitalize()} is\", len(result))\n",
      "/opt/homebrew/Caskroom/miniforge/base/envs/garfield/lib/python3.12/site-packages/sklearn/metrics/_classification.py:1531: UndefinedMetricWarning: Precision is ill-defined and being set to 0.0 in labels with no predicted samples. Use `zero_division` parameter to control this behavior.\n",
      "  _warn_prf(average, modifier, f\"{metric.capitalize()} is\", len(result))\n",
      "/opt/homebrew/Caskroom/miniforge/base/envs/garfield/lib/python3.12/site-packages/sklearn/metrics/_classification.py:1531: UndefinedMetricWarning: Precision is ill-defined and being set to 0.0 in labels with no predicted samples. Use `zero_division` parameter to control this behavior.\n",
      "  _warn_prf(average, modifier, f\"{metric.capitalize()} is\", len(result))\n"
     ]
    }
   ],
   "source": [
    "print(classification_report(y_test[:, 0], y_pred))"
   ]
  },
  {
   "cell_type": "code",
   "execution_count": null,
   "metadata": {},
   "outputs": [
    {
     "name": "stderr",
     "output_type": "stream",
     "text": [
      "/opt/homebrew/Caskroom/miniforge/base/envs/garfield/lib/python3.12/site-packages/sklearn/linear_model/_logistic.py:1247: FutureWarning: 'multi_class' was deprecated in version 1.5 and will be removed in 1.7. From then on, it will always use 'multinomial'. Leave it to its default value to avoid this warning.\n",
      "  warnings.warn(\n"
     ]
    },
    {
     "data": {
      "text/html": [
       "<style>#sk-container-id-4 {\n",
       "  /* Definition of color scheme common for light and dark mode */\n",
       "  --sklearn-color-text: black;\n",
       "  --sklearn-color-line: gray;\n",
       "  /* Definition of color scheme for unfitted estimators */\n",
       "  --sklearn-color-unfitted-level-0: #fff5e6;\n",
       "  --sklearn-color-unfitted-level-1: #f6e4d2;\n",
       "  --sklearn-color-unfitted-level-2: #ffe0b3;\n",
       "  --sklearn-color-unfitted-level-3: chocolate;\n",
       "  /* Definition of color scheme for fitted estimators */\n",
       "  --sklearn-color-fitted-level-0: #f0f8ff;\n",
       "  --sklearn-color-fitted-level-1: #d4ebff;\n",
       "  --sklearn-color-fitted-level-2: #b3dbfd;\n",
       "  --sklearn-color-fitted-level-3: cornflowerblue;\n",
       "\n",
       "  /* Specific color for light theme */\n",
       "  --sklearn-color-text-on-default-background: var(--sg-text-color, var(--theme-code-foreground, var(--jp-content-font-color1, black)));\n",
       "  --sklearn-color-background: var(--sg-background-color, var(--theme-background, var(--jp-layout-color0, white)));\n",
       "  --sklearn-color-border-box: var(--sg-text-color, var(--theme-code-foreground, var(--jp-content-font-color1, black)));\n",
       "  --sklearn-color-icon: #696969;\n",
       "\n",
       "  @media (prefers-color-scheme: dark) {\n",
       "    /* Redefinition of color scheme for dark theme */\n",
       "    --sklearn-color-text-on-default-background: var(--sg-text-color, var(--theme-code-foreground, var(--jp-content-font-color1, white)));\n",
       "    --sklearn-color-background: var(--sg-background-color, var(--theme-background, var(--jp-layout-color0, #111)));\n",
       "    --sklearn-color-border-box: var(--sg-text-color, var(--theme-code-foreground, var(--jp-content-font-color1, white)));\n",
       "    --sklearn-color-icon: #878787;\n",
       "  }\n",
       "}\n",
       "\n",
       "#sk-container-id-4 {\n",
       "  color: var(--sklearn-color-text);\n",
       "}\n",
       "\n",
       "#sk-container-id-4 pre {\n",
       "  padding: 0;\n",
       "}\n",
       "\n",
       "#sk-container-id-4 input.sk-hidden--visually {\n",
       "  border: 0;\n",
       "  clip: rect(1px 1px 1px 1px);\n",
       "  clip: rect(1px, 1px, 1px, 1px);\n",
       "  height: 1px;\n",
       "  margin: -1px;\n",
       "  overflow: hidden;\n",
       "  padding: 0;\n",
       "  position: absolute;\n",
       "  width: 1px;\n",
       "}\n",
       "\n",
       "#sk-container-id-4 div.sk-dashed-wrapped {\n",
       "  border: 1px dashed var(--sklearn-color-line);\n",
       "  margin: 0 0.4em 0.5em 0.4em;\n",
       "  box-sizing: border-box;\n",
       "  padding-bottom: 0.4em;\n",
       "  background-color: var(--sklearn-color-background);\n",
       "}\n",
       "\n",
       "#sk-container-id-4 div.sk-container {\n",
       "  /* jupyter's `normalize.less` sets `[hidden] { display: none; }`\n",
       "     but bootstrap.min.css set `[hidden] { display: none !important; }`\n",
       "     so we also need the `!important` here to be able to override the\n",
       "     default hidden behavior on the sphinx rendered scikit-learn.org.\n",
       "     See: https://github.com/scikit-learn/scikit-learn/issues/21755 */\n",
       "  display: inline-block !important;\n",
       "  position: relative;\n",
       "}\n",
       "\n",
       "#sk-container-id-4 div.sk-text-repr-fallback {\n",
       "  display: none;\n",
       "}\n",
       "\n",
       "div.sk-parallel-item,\n",
       "div.sk-serial,\n",
       "div.sk-item {\n",
       "  /* draw centered vertical line to link estimators */\n",
       "  background-image: linear-gradient(var(--sklearn-color-text-on-default-background), var(--sklearn-color-text-on-default-background));\n",
       "  background-size: 2px 100%;\n",
       "  background-repeat: no-repeat;\n",
       "  background-position: center center;\n",
       "}\n",
       "\n",
       "/* Parallel-specific style estimator block */\n",
       "\n",
       "#sk-container-id-4 div.sk-parallel-item::after {\n",
       "  content: \"\";\n",
       "  width: 100%;\n",
       "  border-bottom: 2px solid var(--sklearn-color-text-on-default-background);\n",
       "  flex-grow: 1;\n",
       "}\n",
       "\n",
       "#sk-container-id-4 div.sk-parallel {\n",
       "  display: flex;\n",
       "  align-items: stretch;\n",
       "  justify-content: center;\n",
       "  background-color: var(--sklearn-color-background);\n",
       "  position: relative;\n",
       "}\n",
       "\n",
       "#sk-container-id-4 div.sk-parallel-item {\n",
       "  display: flex;\n",
       "  flex-direction: column;\n",
       "}\n",
       "\n",
       "#sk-container-id-4 div.sk-parallel-item:first-child::after {\n",
       "  align-self: flex-end;\n",
       "  width: 50%;\n",
       "}\n",
       "\n",
       "#sk-container-id-4 div.sk-parallel-item:last-child::after {\n",
       "  align-self: flex-start;\n",
       "  width: 50%;\n",
       "}\n",
       "\n",
       "#sk-container-id-4 div.sk-parallel-item:only-child::after {\n",
       "  width: 0;\n",
       "}\n",
       "\n",
       "/* Serial-specific style estimator block */\n",
       "\n",
       "#sk-container-id-4 div.sk-serial {\n",
       "  display: flex;\n",
       "  flex-direction: column;\n",
       "  align-items: center;\n",
       "  background-color: var(--sklearn-color-background);\n",
       "  padding-right: 1em;\n",
       "  padding-left: 1em;\n",
       "}\n",
       "\n",
       "\n",
       "/* Toggleable style: style used for estimator/Pipeline/ColumnTransformer box that is\n",
       "clickable and can be expanded/collapsed.\n",
       "- Pipeline and ColumnTransformer use this feature and define the default style\n",
       "- Estimators will overwrite some part of the style using the `sk-estimator` class\n",
       "*/\n",
       "\n",
       "/* Pipeline and ColumnTransformer style (default) */\n",
       "\n",
       "#sk-container-id-4 div.sk-toggleable {\n",
       "  /* Default theme specific background. It is overwritten whether we have a\n",
       "  specific estimator or a Pipeline/ColumnTransformer */\n",
       "  background-color: var(--sklearn-color-background);\n",
       "}\n",
       "\n",
       "/* Toggleable label */\n",
       "#sk-container-id-4 label.sk-toggleable__label {\n",
       "  cursor: pointer;\n",
       "  display: block;\n",
       "  width: 100%;\n",
       "  margin-bottom: 0;\n",
       "  padding: 0.5em;\n",
       "  box-sizing: border-box;\n",
       "  text-align: center;\n",
       "}\n",
       "\n",
       "#sk-container-id-4 label.sk-toggleable__label-arrow:before {\n",
       "  /* Arrow on the left of the label */\n",
       "  content: \"▸\";\n",
       "  float: left;\n",
       "  margin-right: 0.25em;\n",
       "  color: var(--sklearn-color-icon);\n",
       "}\n",
       "\n",
       "#sk-container-id-4 label.sk-toggleable__label-arrow:hover:before {\n",
       "  color: var(--sklearn-color-text);\n",
       "}\n",
       "\n",
       "/* Toggleable content - dropdown */\n",
       "\n",
       "#sk-container-id-4 div.sk-toggleable__content {\n",
       "  max-height: 0;\n",
       "  max-width: 0;\n",
       "  overflow: hidden;\n",
       "  text-align: left;\n",
       "  /* unfitted */\n",
       "  background-color: var(--sklearn-color-unfitted-level-0);\n",
       "}\n",
       "\n",
       "#sk-container-id-4 div.sk-toggleable__content.fitted {\n",
       "  /* fitted */\n",
       "  background-color: var(--sklearn-color-fitted-level-0);\n",
       "}\n",
       "\n",
       "#sk-container-id-4 div.sk-toggleable__content pre {\n",
       "  margin: 0.2em;\n",
       "  border-radius: 0.25em;\n",
       "  color: var(--sklearn-color-text);\n",
       "  /* unfitted */\n",
       "  background-color: var(--sklearn-color-unfitted-level-0);\n",
       "}\n",
       "\n",
       "#sk-container-id-4 div.sk-toggleable__content.fitted pre {\n",
       "  /* unfitted */\n",
       "  background-color: var(--sklearn-color-fitted-level-0);\n",
       "}\n",
       "\n",
       "#sk-container-id-4 input.sk-toggleable__control:checked~div.sk-toggleable__content {\n",
       "  /* Expand drop-down */\n",
       "  max-height: 200px;\n",
       "  max-width: 100%;\n",
       "  overflow: auto;\n",
       "}\n",
       "\n",
       "#sk-container-id-4 input.sk-toggleable__control:checked~label.sk-toggleable__label-arrow:before {\n",
       "  content: \"▾\";\n",
       "}\n",
       "\n",
       "/* Pipeline/ColumnTransformer-specific style */\n",
       "\n",
       "#sk-container-id-4 div.sk-label input.sk-toggleable__control:checked~label.sk-toggleable__label {\n",
       "  color: var(--sklearn-color-text);\n",
       "  background-color: var(--sklearn-color-unfitted-level-2);\n",
       "}\n",
       "\n",
       "#sk-container-id-4 div.sk-label.fitted input.sk-toggleable__control:checked~label.sk-toggleable__label {\n",
       "  background-color: var(--sklearn-color-fitted-level-2);\n",
       "}\n",
       "\n",
       "/* Estimator-specific style */\n",
       "\n",
       "/* Colorize estimator box */\n",
       "#sk-container-id-4 div.sk-estimator input.sk-toggleable__control:checked~label.sk-toggleable__label {\n",
       "  /* unfitted */\n",
       "  background-color: var(--sklearn-color-unfitted-level-2);\n",
       "}\n",
       "\n",
       "#sk-container-id-4 div.sk-estimator.fitted input.sk-toggleable__control:checked~label.sk-toggleable__label {\n",
       "  /* fitted */\n",
       "  background-color: var(--sklearn-color-fitted-level-2);\n",
       "}\n",
       "\n",
       "#sk-container-id-4 div.sk-label label.sk-toggleable__label,\n",
       "#sk-container-id-4 div.sk-label label {\n",
       "  /* The background is the default theme color */\n",
       "  color: var(--sklearn-color-text-on-default-background);\n",
       "}\n",
       "\n",
       "/* On hover, darken the color of the background */\n",
       "#sk-container-id-4 div.sk-label:hover label.sk-toggleable__label {\n",
       "  color: var(--sklearn-color-text);\n",
       "  background-color: var(--sklearn-color-unfitted-level-2);\n",
       "}\n",
       "\n",
       "/* Label box, darken color on hover, fitted */\n",
       "#sk-container-id-4 div.sk-label.fitted:hover label.sk-toggleable__label.fitted {\n",
       "  color: var(--sklearn-color-text);\n",
       "  background-color: var(--sklearn-color-fitted-level-2);\n",
       "}\n",
       "\n",
       "/* Estimator label */\n",
       "\n",
       "#sk-container-id-4 div.sk-label label {\n",
       "  font-family: monospace;\n",
       "  font-weight: bold;\n",
       "  display: inline-block;\n",
       "  line-height: 1.2em;\n",
       "}\n",
       "\n",
       "#sk-container-id-4 div.sk-label-container {\n",
       "  text-align: center;\n",
       "}\n",
       "\n",
       "/* Estimator-specific */\n",
       "#sk-container-id-4 div.sk-estimator {\n",
       "  font-family: monospace;\n",
       "  border: 1px dotted var(--sklearn-color-border-box);\n",
       "  border-radius: 0.25em;\n",
       "  box-sizing: border-box;\n",
       "  margin-bottom: 0.5em;\n",
       "  /* unfitted */\n",
       "  background-color: var(--sklearn-color-unfitted-level-0);\n",
       "}\n",
       "\n",
       "#sk-container-id-4 div.sk-estimator.fitted {\n",
       "  /* fitted */\n",
       "  background-color: var(--sklearn-color-fitted-level-0);\n",
       "}\n",
       "\n",
       "/* on hover */\n",
       "#sk-container-id-4 div.sk-estimator:hover {\n",
       "  /* unfitted */\n",
       "  background-color: var(--sklearn-color-unfitted-level-2);\n",
       "}\n",
       "\n",
       "#sk-container-id-4 div.sk-estimator.fitted:hover {\n",
       "  /* fitted */\n",
       "  background-color: var(--sklearn-color-fitted-level-2);\n",
       "}\n",
       "\n",
       "/* Specification for estimator info (e.g. \"i\" and \"?\") */\n",
       "\n",
       "/* Common style for \"i\" and \"?\" */\n",
       "\n",
       ".sk-estimator-doc-link,\n",
       "a:link.sk-estimator-doc-link,\n",
       "a:visited.sk-estimator-doc-link {\n",
       "  float: right;\n",
       "  font-size: smaller;\n",
       "  line-height: 1em;\n",
       "  font-family: monospace;\n",
       "  background-color: var(--sklearn-color-background);\n",
       "  border-radius: 1em;\n",
       "  height: 1em;\n",
       "  width: 1em;\n",
       "  text-decoration: none !important;\n",
       "  margin-left: 1ex;\n",
       "  /* unfitted */\n",
       "  border: var(--sklearn-color-unfitted-level-1) 1pt solid;\n",
       "  color: var(--sklearn-color-unfitted-level-1);\n",
       "}\n",
       "\n",
       ".sk-estimator-doc-link.fitted,\n",
       "a:link.sk-estimator-doc-link.fitted,\n",
       "a:visited.sk-estimator-doc-link.fitted {\n",
       "  /* fitted */\n",
       "  border: var(--sklearn-color-fitted-level-1) 1pt solid;\n",
       "  color: var(--sklearn-color-fitted-level-1);\n",
       "}\n",
       "\n",
       "/* On hover */\n",
       "div.sk-estimator:hover .sk-estimator-doc-link:hover,\n",
       ".sk-estimator-doc-link:hover,\n",
       "div.sk-label-container:hover .sk-estimator-doc-link:hover,\n",
       ".sk-estimator-doc-link:hover {\n",
       "  /* unfitted */\n",
       "  background-color: var(--sklearn-color-unfitted-level-3);\n",
       "  color: var(--sklearn-color-background);\n",
       "  text-decoration: none;\n",
       "}\n",
       "\n",
       "div.sk-estimator.fitted:hover .sk-estimator-doc-link.fitted:hover,\n",
       ".sk-estimator-doc-link.fitted:hover,\n",
       "div.sk-label-container:hover .sk-estimator-doc-link.fitted:hover,\n",
       ".sk-estimator-doc-link.fitted:hover {\n",
       "  /* fitted */\n",
       "  background-color: var(--sklearn-color-fitted-level-3);\n",
       "  color: var(--sklearn-color-background);\n",
       "  text-decoration: none;\n",
       "}\n",
       "\n",
       "/* Span, style for the box shown on hovering the info icon */\n",
       ".sk-estimator-doc-link span {\n",
       "  display: none;\n",
       "  z-index: 9999;\n",
       "  position: relative;\n",
       "  font-weight: normal;\n",
       "  right: .2ex;\n",
       "  padding: .5ex;\n",
       "  margin: .5ex;\n",
       "  width: min-content;\n",
       "  min-width: 20ex;\n",
       "  max-width: 50ex;\n",
       "  color: var(--sklearn-color-text);\n",
       "  box-shadow: 2pt 2pt 4pt #999;\n",
       "  /* unfitted */\n",
       "  background: var(--sklearn-color-unfitted-level-0);\n",
       "  border: .5pt solid var(--sklearn-color-unfitted-level-3);\n",
       "}\n",
       "\n",
       ".sk-estimator-doc-link.fitted span {\n",
       "  /* fitted */\n",
       "  background: var(--sklearn-color-fitted-level-0);\n",
       "  border: var(--sklearn-color-fitted-level-3);\n",
       "}\n",
       "\n",
       ".sk-estimator-doc-link:hover span {\n",
       "  display: block;\n",
       "}\n",
       "\n",
       "/* \"?\"-specific style due to the `<a>` HTML tag */\n",
       "\n",
       "#sk-container-id-4 a.estimator_doc_link {\n",
       "  float: right;\n",
       "  font-size: 1rem;\n",
       "  line-height: 1em;\n",
       "  font-family: monospace;\n",
       "  background-color: var(--sklearn-color-background);\n",
       "  border-radius: 1rem;\n",
       "  height: 1rem;\n",
       "  width: 1rem;\n",
       "  text-decoration: none;\n",
       "  /* unfitted */\n",
       "  color: var(--sklearn-color-unfitted-level-1);\n",
       "  border: var(--sklearn-color-unfitted-level-1) 1pt solid;\n",
       "}\n",
       "\n",
       "#sk-container-id-4 a.estimator_doc_link.fitted {\n",
       "  /* fitted */\n",
       "  border: var(--sklearn-color-fitted-level-1) 1pt solid;\n",
       "  color: var(--sklearn-color-fitted-level-1);\n",
       "}\n",
       "\n",
       "/* On hover */\n",
       "#sk-container-id-4 a.estimator_doc_link:hover {\n",
       "  /* unfitted */\n",
       "  background-color: var(--sklearn-color-unfitted-level-3);\n",
       "  color: var(--sklearn-color-background);\n",
       "  text-decoration: none;\n",
       "}\n",
       "\n",
       "#sk-container-id-4 a.estimator_doc_link.fitted:hover {\n",
       "  /* fitted */\n",
       "  background-color: var(--sklearn-color-fitted-level-3);\n",
       "}\n",
       "</style><div id=\"sk-container-id-4\" class=\"sk-top-container\"><div class=\"sk-text-repr-fallback\"><pre>LogisticRegression(max_iter=500, multi_class=&#x27;multinomial&#x27;)</pre><b>In a Jupyter environment, please rerun this cell to show the HTML representation or trust the notebook. <br />On GitHub, the HTML representation is unable to render, please try loading this page with nbviewer.org.</b></div><div class=\"sk-container\" hidden><div class=\"sk-item\"><div class=\"sk-estimator fitted sk-toggleable\"><input class=\"sk-toggleable__control sk-hidden--visually\" id=\"sk-estimator-id-4\" type=\"checkbox\" checked><label for=\"sk-estimator-id-4\" class=\"sk-toggleable__label fitted sk-toggleable__label-arrow fitted\">&nbsp;&nbsp;LogisticRegression<a class=\"sk-estimator-doc-link fitted\" rel=\"noreferrer\" target=\"_blank\" href=\"https://scikit-learn.org/1.5/modules/generated/sklearn.linear_model.LogisticRegression.html\">?<span>Documentation for LogisticRegression</span></a><span class=\"sk-estimator-doc-link fitted\">i<span>Fitted</span></span></label><div class=\"sk-toggleable__content fitted\"><pre>LogisticRegression(max_iter=500, multi_class=&#x27;multinomial&#x27;)</pre></div> </div></div></div></div>"
      ],
      "text/plain": [
       "LogisticRegression(max_iter=500, multi_class='multinomial')"
      ]
     },
     "execution_count": 62,
     "metadata": {},
     "output_type": "execute_result"
    }
   ],
   "source": [
    "from sklearn.model_selection import train_test_split\n",
    "X_train, X_test, y_train, y_test = train_test_split(X, df[['mbti', 'type_weights']].values, test_size=0.3, random_state=42, shuffle=True)\n",
    "model.fit(X_train, y_train[:, 0], y_train[:, 1])\n"
   ]
  },
  {
   "cell_type": "code",
   "execution_count": null,
   "metadata": {},
   "outputs": [
    {
     "data": {
      "text/plain": [
       "0.33415678524374176"
      ]
     },
     "execution_count": 63,
     "metadata": {},
     "output_type": "execute_result"
    }
   ],
   "source": [
    "model.score(X_train, y_train[:, 0])"
   ]
  },
  {
   "cell_type": "code",
   "execution_count": null,
   "metadata": {},
   "outputs": [],
   "source": [
    "y_pred = model.predict(X_test)"
   ]
  },
  {
   "cell_type": "code",
   "execution_count": null,
   "metadata": {},
   "outputs": [
    {
     "data": {
      "text/html": [
       "<div>\n",
       "<style scoped>\n",
       "    .dataframe tbody tr th:only-of-type {\n",
       "        vertical-align: middle;\n",
       "    }\n",
       "\n",
       "    .dataframe tbody tr th {\n",
       "        vertical-align: top;\n",
       "    }\n",
       "\n",
       "    .dataframe thead th {\n",
       "        text-align: right;\n",
       "    }\n",
       "</style>\n",
       "<table border=\"1\" class=\"dataframe\">\n",
       "  <thead>\n",
       "    <tr style=\"text-align: right;\">\n",
       "      <th></th>\n",
       "      <th>type</th>\n",
       "      <th>posts</th>\n",
       "      <th>mbti</th>\n",
       "      <th>type_weights</th>\n",
       "    </tr>\n",
       "  </thead>\n",
       "  <tbody>\n",
       "    <tr>\n",
       "      <th>0</th>\n",
       "      <td>INFJ</td>\n",
       "      <td>'http://www.youtube.com/watch?v=qsXHcwe3krw|||...</td>\n",
       "      <td>0</td>\n",
       "      <td>0.169452</td>\n",
       "    </tr>\n",
       "    <tr>\n",
       "      <th>1</th>\n",
       "      <td>ENTP</td>\n",
       "      <td>'I'm finding the lack of me in these posts ver...</td>\n",
       "      <td>1</td>\n",
       "      <td>0.078963</td>\n",
       "    </tr>\n",
       "    <tr>\n",
       "      <th>2</th>\n",
       "      <td>INTP</td>\n",
       "      <td>'Good one  _____   https://www.youtube.com/wat...</td>\n",
       "      <td>2</td>\n",
       "      <td>0.150317</td>\n",
       "    </tr>\n",
       "    <tr>\n",
       "      <th>3</th>\n",
       "      <td>INTJ</td>\n",
       "      <td>'Dear INTP,   I enjoyed our conversation the o...</td>\n",
       "      <td>3</td>\n",
       "      <td>0.125764</td>\n",
       "    </tr>\n",
       "    <tr>\n",
       "      <th>4</th>\n",
       "      <td>ENTJ</td>\n",
       "      <td>'You're fired.|||That's another silly misconce...</td>\n",
       "      <td>4</td>\n",
       "      <td>0.026628</td>\n",
       "    </tr>\n",
       "    <tr>\n",
       "      <th>...</th>\n",
       "      <td>...</td>\n",
       "      <td>...</td>\n",
       "      <td>...</td>\n",
       "      <td>...</td>\n",
       "    </tr>\n",
       "    <tr>\n",
       "      <th>8670</th>\n",
       "      <td>ISFP</td>\n",
       "      <td>'https://www.youtube.com/watch?v=t8edHB_h908||...</td>\n",
       "      <td>8</td>\n",
       "      <td>0.031239</td>\n",
       "    </tr>\n",
       "    <tr>\n",
       "      <th>8671</th>\n",
       "      <td>ENFP</td>\n",
       "      <td>'So...if this thread already exists someplace ...</td>\n",
       "      <td>7</td>\n",
       "      <td>0.077810</td>\n",
       "    </tr>\n",
       "    <tr>\n",
       "      <th>8672</th>\n",
       "      <td>INTP</td>\n",
       "      <td>'So many questions when i do these things.  I ...</td>\n",
       "      <td>2</td>\n",
       "      <td>0.150317</td>\n",
       "    </tr>\n",
       "    <tr>\n",
       "      <th>8673</th>\n",
       "      <td>INFP</td>\n",
       "      <td>'I am very conflicted right now when it comes ...</td>\n",
       "      <td>6</td>\n",
       "      <td>0.211182</td>\n",
       "    </tr>\n",
       "    <tr>\n",
       "      <th>8674</th>\n",
       "      <td>INFP</td>\n",
       "      <td>'It has been too long since I have been on per...</td>\n",
       "      <td>6</td>\n",
       "      <td>0.211182</td>\n",
       "    </tr>\n",
       "  </tbody>\n",
       "</table>\n",
       "<p>8675 rows × 4 columns</p>\n",
       "</div>"
      ],
      "text/plain": [
       "      type                                              posts  mbti  \\\n",
       "0     INFJ  'http://www.youtube.com/watch?v=qsXHcwe3krw|||...     0   \n",
       "1     ENTP  'I'm finding the lack of me in these posts ver...     1   \n",
       "2     INTP  'Good one  _____   https://www.youtube.com/wat...     2   \n",
       "3     INTJ  'Dear INTP,   I enjoyed our conversation the o...     3   \n",
       "4     ENTJ  'You're fired.|||That's another silly misconce...     4   \n",
       "...    ...                                                ...   ...   \n",
       "8670  ISFP  'https://www.youtube.com/watch?v=t8edHB_h908||...     8   \n",
       "8671  ENFP  'So...if this thread already exists someplace ...     7   \n",
       "8672  INTP  'So many questions when i do these things.  I ...     2   \n",
       "8673  INFP  'I am very conflicted right now when it comes ...     6   \n",
       "8674  INFP  'It has been too long since I have been on per...     6   \n",
       "\n",
       "      type_weights  \n",
       "0         0.169452  \n",
       "1         0.078963  \n",
       "2         0.150317  \n",
       "3         0.125764  \n",
       "4         0.026628  \n",
       "...            ...  \n",
       "8670      0.031239  \n",
       "8671      0.077810  \n",
       "8672      0.150317  \n",
       "8673      0.211182  \n",
       "8674      0.211182  \n",
       "\n",
       "[8675 rows x 4 columns]"
      ]
     },
     "execution_count": 68,
     "metadata": {},
     "output_type": "execute_result"
    }
   ],
   "source": [
    "df"
   ]
  },
  {
   "cell_type": "markdown",
   "metadata": {},
   "source": [
    "### Experiment 2: Chain predictions by label instead of the 4 label combination"
   ]
  },
  {
   "cell_type": "markdown",
   "metadata": {},
   "source": [
    "#### Preprocessing"
   ]
  },
  {
   "cell_type": "code",
   "execution_count": null,
   "metadata": {},
   "outputs": [
    {
     "data": {
      "text/html": [
       "<div>\n",
       "<style scoped>\n",
       "    .dataframe tbody tr th:only-of-type {\n",
       "        vertical-align: middle;\n",
       "    }\n",
       "\n",
       "    .dataframe tbody tr th {\n",
       "        vertical-align: top;\n",
       "    }\n",
       "\n",
       "    .dataframe thead th {\n",
       "        text-align: right;\n",
       "    }\n",
       "</style>\n",
       "<table border=\"1\" class=\"dataframe\">\n",
       "  <thead>\n",
       "    <tr style=\"text-align: right;\">\n",
       "      <th></th>\n",
       "      <th>type</th>\n",
       "      <th>posts</th>\n",
       "      <th>mbti</th>\n",
       "      <th>type_weights</th>\n",
       "      <th>x0</th>\n",
       "      <th>x1</th>\n",
       "      <th>x2</th>\n",
       "      <th>x3</th>\n",
       "    </tr>\n",
       "  </thead>\n",
       "  <tbody>\n",
       "    <tr>\n",
       "      <th>0</th>\n",
       "      <td>INFJ</td>\n",
       "      <td>'http://www.youtube.com/watch?v=qsXHcwe3krw|||...</td>\n",
       "      <td>0</td>\n",
       "      <td>0.169452</td>\n",
       "      <td>I</td>\n",
       "      <td>N</td>\n",
       "      <td>F</td>\n",
       "      <td>J</td>\n",
       "    </tr>\n",
       "    <tr>\n",
       "      <th>1</th>\n",
       "      <td>ENTP</td>\n",
       "      <td>'I'm finding the lack of me in these posts ver...</td>\n",
       "      <td>1</td>\n",
       "      <td>0.078963</td>\n",
       "      <td>E</td>\n",
       "      <td>N</td>\n",
       "      <td>T</td>\n",
       "      <td>P</td>\n",
       "    </tr>\n",
       "    <tr>\n",
       "      <th>2</th>\n",
       "      <td>INTP</td>\n",
       "      <td>'Good one  _____   https://www.youtube.com/wat...</td>\n",
       "      <td>2</td>\n",
       "      <td>0.150317</td>\n",
       "      <td>I</td>\n",
       "      <td>N</td>\n",
       "      <td>T</td>\n",
       "      <td>P</td>\n",
       "    </tr>\n",
       "    <tr>\n",
       "      <th>3</th>\n",
       "      <td>INTJ</td>\n",
       "      <td>'Dear INTP,   I enjoyed our conversation the o...</td>\n",
       "      <td>3</td>\n",
       "      <td>0.125764</td>\n",
       "      <td>I</td>\n",
       "      <td>N</td>\n",
       "      <td>T</td>\n",
       "      <td>J</td>\n",
       "    </tr>\n",
       "    <tr>\n",
       "      <th>4</th>\n",
       "      <td>ENTJ</td>\n",
       "      <td>'You're fired.|||That's another silly misconce...</td>\n",
       "      <td>4</td>\n",
       "      <td>0.026628</td>\n",
       "      <td>E</td>\n",
       "      <td>N</td>\n",
       "      <td>T</td>\n",
       "      <td>J</td>\n",
       "    </tr>\n",
       "    <tr>\n",
       "      <th>...</th>\n",
       "      <td>...</td>\n",
       "      <td>...</td>\n",
       "      <td>...</td>\n",
       "      <td>...</td>\n",
       "      <td>...</td>\n",
       "      <td>...</td>\n",
       "      <td>...</td>\n",
       "      <td>...</td>\n",
       "    </tr>\n",
       "    <tr>\n",
       "      <th>8670</th>\n",
       "      <td>ISFP</td>\n",
       "      <td>'https://www.youtube.com/watch?v=t8edHB_h908||...</td>\n",
       "      <td>8</td>\n",
       "      <td>0.031239</td>\n",
       "      <td>I</td>\n",
       "      <td>S</td>\n",
       "      <td>F</td>\n",
       "      <td>P</td>\n",
       "    </tr>\n",
       "    <tr>\n",
       "      <th>8671</th>\n",
       "      <td>ENFP</td>\n",
       "      <td>'So...if this thread already exists someplace ...</td>\n",
       "      <td>7</td>\n",
       "      <td>0.077810</td>\n",
       "      <td>E</td>\n",
       "      <td>N</td>\n",
       "      <td>F</td>\n",
       "      <td>P</td>\n",
       "    </tr>\n",
       "    <tr>\n",
       "      <th>8672</th>\n",
       "      <td>INTP</td>\n",
       "      <td>'So many questions when i do these things.  I ...</td>\n",
       "      <td>2</td>\n",
       "      <td>0.150317</td>\n",
       "      <td>I</td>\n",
       "      <td>N</td>\n",
       "      <td>T</td>\n",
       "      <td>P</td>\n",
       "    </tr>\n",
       "    <tr>\n",
       "      <th>8673</th>\n",
       "      <td>INFP</td>\n",
       "      <td>'I am very conflicted right now when it comes ...</td>\n",
       "      <td>6</td>\n",
       "      <td>0.211182</td>\n",
       "      <td>I</td>\n",
       "      <td>N</td>\n",
       "      <td>F</td>\n",
       "      <td>P</td>\n",
       "    </tr>\n",
       "    <tr>\n",
       "      <th>8674</th>\n",
       "      <td>INFP</td>\n",
       "      <td>'It has been too long since I have been on per...</td>\n",
       "      <td>6</td>\n",
       "      <td>0.211182</td>\n",
       "      <td>I</td>\n",
       "      <td>N</td>\n",
       "      <td>F</td>\n",
       "      <td>P</td>\n",
       "    </tr>\n",
       "  </tbody>\n",
       "</table>\n",
       "<p>8675 rows × 8 columns</p>\n",
       "</div>"
      ],
      "text/plain": [
       "      type                                              posts  mbti  \\\n",
       "0     INFJ  'http://www.youtube.com/watch?v=qsXHcwe3krw|||...     0   \n",
       "1     ENTP  'I'm finding the lack of me in these posts ver...     1   \n",
       "2     INTP  'Good one  _____   https://www.youtube.com/wat...     2   \n",
       "3     INTJ  'Dear INTP,   I enjoyed our conversation the o...     3   \n",
       "4     ENTJ  'You're fired.|||That's another silly misconce...     4   \n",
       "...    ...                                                ...   ...   \n",
       "8670  ISFP  'https://www.youtube.com/watch?v=t8edHB_h908||...     8   \n",
       "8671  ENFP  'So...if this thread already exists someplace ...     7   \n",
       "8672  INTP  'So many questions when i do these things.  I ...     2   \n",
       "8673  INFP  'I am very conflicted right now when it comes ...     6   \n",
       "8674  INFP  'It has been too long since I have been on per...     6   \n",
       "\n",
       "      type_weights x0 x1 x2 x3  \n",
       "0         0.169452  I  N  F  J  \n",
       "1         0.078963  E  N  T  P  \n",
       "2         0.150317  I  N  T  P  \n",
       "3         0.125764  I  N  T  J  \n",
       "4         0.026628  E  N  T  J  \n",
       "...            ... .. .. .. ..  \n",
       "8670      0.031239  I  S  F  P  \n",
       "8671      0.077810  E  N  F  P  \n",
       "8672      0.150317  I  N  T  P  \n",
       "8673      0.211182  I  N  F  P  \n",
       "8674      0.211182  I  N  F  P  \n",
       "\n",
       "[8675 rows x 8 columns]"
      ]
     },
     "execution_count": 75,
     "metadata": {},
     "output_type": "execute_result"
    }
   ],
   "source": [
    "x0_label = {i: list(i)[0] for i in df['type'].unique()}\n",
    "x1_label = {i: list(i)[1] for i in df['type'].unique()}\n",
    "x2_label = {i: list(i)[2] for i in df['type'].unique()}\n",
    "x3_label = {i: list(i)[3] for i in df['type'].unique()}\n",
    "\n",
    "df['x0'] = df['type'].map(x0_label)\n",
    "df['x1'] = df['type'].map(x1_label)\n",
    "df['x2'] = df['type'].map(x2_label)\n",
    "df['x3'] = df['type'].map(x3_label)\n",
    "\n",
    "df"
   ]
  },
  {
   "cell_type": "code",
   "execution_count": null,
   "metadata": {},
   "outputs": [],
   "source": [
    "y0 = df['x0'].map({'I': 0, 'E': 1}).values\n",
    "y1 = df['x1'].map({'N': 0, 'S': 1}).values\n",
    "y2 = df['x2'].map({'T': 0, 'F': 1}).values\n",
    "y3 = df['x3'].map({'J': 0, 'P': 1}).values"
   ]
  },
  {
   "cell_type": "code",
   "execution_count": null,
   "metadata": {},
   "outputs": [
    {
     "data": {
      "text/plain": [
       "{'I': 0.7695677233429394, 'E': 0.2304322766570605}"
      ]
     },
     "execution_count": 84,
     "metadata": {},
     "output_type": "execute_result"
    }
   ],
   "source": [
    "dict(df['x0'].value_counts(normalize=True))"
   ]
  },
  {
   "cell_type": "code",
   "execution_count": null,
   "metadata": {},
   "outputs": [],
   "source": [
    "def add_class_weights(df: pd.DataFrame, label: str):\n",
    "    df[f'{label}_weights'] = df[label].map(dict(df[label].value_counts(normalize=True)))\n",
    "    return df \n",
    "\n",
    "for i in range(4):\n",
    "    add_class_weights(df, f'x{i}')"
   ]
  },
  {
   "cell_type": "code",
   "execution_count": null,
   "metadata": {},
   "outputs": [
    {
     "data": {
      "text/html": [
       "<div>\n",
       "<style scoped>\n",
       "    .dataframe tbody tr th:only-of-type {\n",
       "        vertical-align: middle;\n",
       "    }\n",
       "\n",
       "    .dataframe tbody tr th {\n",
       "        vertical-align: top;\n",
       "    }\n",
       "\n",
       "    .dataframe thead th {\n",
       "        text-align: right;\n",
       "    }\n",
       "</style>\n",
       "<table border=\"1\" class=\"dataframe\">\n",
       "  <thead>\n",
       "    <tr style=\"text-align: right;\">\n",
       "      <th></th>\n",
       "      <th>type</th>\n",
       "      <th>posts</th>\n",
       "      <th>mbti</th>\n",
       "      <th>type_weights</th>\n",
       "      <th>x0</th>\n",
       "      <th>x1</th>\n",
       "      <th>x2</th>\n",
       "      <th>x3</th>\n",
       "      <th>x0_weights</th>\n",
       "      <th>x1_weights</th>\n",
       "      <th>x2_weights</th>\n",
       "      <th>x3_weights</th>\n",
       "    </tr>\n",
       "  </thead>\n",
       "  <tbody>\n",
       "    <tr>\n",
       "      <th>0</th>\n",
       "      <td>INFJ</td>\n",
       "      <td>'http://www.youtube.com/watch?v=qsXHcwe3krw|||...</td>\n",
       "      <td>0</td>\n",
       "      <td>0.169452</td>\n",
       "      <td>I</td>\n",
       "      <td>N</td>\n",
       "      <td>F</td>\n",
       "      <td>J</td>\n",
       "      <td>0.769568</td>\n",
       "      <td>0.862017</td>\n",
       "      <td>0.541095</td>\n",
       "      <td>0.39585</td>\n",
       "    </tr>\n",
       "    <tr>\n",
       "      <th>1</th>\n",
       "      <td>ENTP</td>\n",
       "      <td>'I'm finding the lack of me in these posts ver...</td>\n",
       "      <td>1</td>\n",
       "      <td>0.078963</td>\n",
       "      <td>E</td>\n",
       "      <td>N</td>\n",
       "      <td>T</td>\n",
       "      <td>P</td>\n",
       "      <td>0.230432</td>\n",
       "      <td>0.862017</td>\n",
       "      <td>0.458905</td>\n",
       "      <td>0.60415</td>\n",
       "    </tr>\n",
       "    <tr>\n",
       "      <th>2</th>\n",
       "      <td>INTP</td>\n",
       "      <td>'Good one  _____   https://www.youtube.com/wat...</td>\n",
       "      <td>2</td>\n",
       "      <td>0.150317</td>\n",
       "      <td>I</td>\n",
       "      <td>N</td>\n",
       "      <td>T</td>\n",
       "      <td>P</td>\n",
       "      <td>0.769568</td>\n",
       "      <td>0.862017</td>\n",
       "      <td>0.458905</td>\n",
       "      <td>0.60415</td>\n",
       "    </tr>\n",
       "    <tr>\n",
       "      <th>3</th>\n",
       "      <td>INTJ</td>\n",
       "      <td>'Dear INTP,   I enjoyed our conversation the o...</td>\n",
       "      <td>3</td>\n",
       "      <td>0.125764</td>\n",
       "      <td>I</td>\n",
       "      <td>N</td>\n",
       "      <td>T</td>\n",
       "      <td>J</td>\n",
       "      <td>0.769568</td>\n",
       "      <td>0.862017</td>\n",
       "      <td>0.458905</td>\n",
       "      <td>0.39585</td>\n",
       "    </tr>\n",
       "    <tr>\n",
       "      <th>4</th>\n",
       "      <td>ENTJ</td>\n",
       "      <td>'You're fired.|||That's another silly misconce...</td>\n",
       "      <td>4</td>\n",
       "      <td>0.026628</td>\n",
       "      <td>E</td>\n",
       "      <td>N</td>\n",
       "      <td>T</td>\n",
       "      <td>J</td>\n",
       "      <td>0.230432</td>\n",
       "      <td>0.862017</td>\n",
       "      <td>0.458905</td>\n",
       "      <td>0.39585</td>\n",
       "    </tr>\n",
       "    <tr>\n",
       "      <th>...</th>\n",
       "      <td>...</td>\n",
       "      <td>...</td>\n",
       "      <td>...</td>\n",
       "      <td>...</td>\n",
       "      <td>...</td>\n",
       "      <td>...</td>\n",
       "      <td>...</td>\n",
       "      <td>...</td>\n",
       "      <td>...</td>\n",
       "      <td>...</td>\n",
       "      <td>...</td>\n",
       "      <td>...</td>\n",
       "    </tr>\n",
       "    <tr>\n",
       "      <th>8670</th>\n",
       "      <td>ISFP</td>\n",
       "      <td>'https://www.youtube.com/watch?v=t8edHB_h908||...</td>\n",
       "      <td>8</td>\n",
       "      <td>0.031239</td>\n",
       "      <td>I</td>\n",
       "      <td>S</td>\n",
       "      <td>F</td>\n",
       "      <td>P</td>\n",
       "      <td>0.769568</td>\n",
       "      <td>0.137983</td>\n",
       "      <td>0.541095</td>\n",
       "      <td>0.60415</td>\n",
       "    </tr>\n",
       "    <tr>\n",
       "      <th>8671</th>\n",
       "      <td>ENFP</td>\n",
       "      <td>'So...if this thread already exists someplace ...</td>\n",
       "      <td>7</td>\n",
       "      <td>0.077810</td>\n",
       "      <td>E</td>\n",
       "      <td>N</td>\n",
       "      <td>F</td>\n",
       "      <td>P</td>\n",
       "      <td>0.230432</td>\n",
       "      <td>0.862017</td>\n",
       "      <td>0.541095</td>\n",
       "      <td>0.60415</td>\n",
       "    </tr>\n",
       "    <tr>\n",
       "      <th>8672</th>\n",
       "      <td>INTP</td>\n",
       "      <td>'So many questions when i do these things.  I ...</td>\n",
       "      <td>2</td>\n",
       "      <td>0.150317</td>\n",
       "      <td>I</td>\n",
       "      <td>N</td>\n",
       "      <td>T</td>\n",
       "      <td>P</td>\n",
       "      <td>0.769568</td>\n",
       "      <td>0.862017</td>\n",
       "      <td>0.458905</td>\n",
       "      <td>0.60415</td>\n",
       "    </tr>\n",
       "    <tr>\n",
       "      <th>8673</th>\n",
       "      <td>INFP</td>\n",
       "      <td>'I am very conflicted right now when it comes ...</td>\n",
       "      <td>6</td>\n",
       "      <td>0.211182</td>\n",
       "      <td>I</td>\n",
       "      <td>N</td>\n",
       "      <td>F</td>\n",
       "      <td>P</td>\n",
       "      <td>0.769568</td>\n",
       "      <td>0.862017</td>\n",
       "      <td>0.541095</td>\n",
       "      <td>0.60415</td>\n",
       "    </tr>\n",
       "    <tr>\n",
       "      <th>8674</th>\n",
       "      <td>INFP</td>\n",
       "      <td>'It has been too long since I have been on per...</td>\n",
       "      <td>6</td>\n",
       "      <td>0.211182</td>\n",
       "      <td>I</td>\n",
       "      <td>N</td>\n",
       "      <td>F</td>\n",
       "      <td>P</td>\n",
       "      <td>0.769568</td>\n",
       "      <td>0.862017</td>\n",
       "      <td>0.541095</td>\n",
       "      <td>0.60415</td>\n",
       "    </tr>\n",
       "  </tbody>\n",
       "</table>\n",
       "<p>8675 rows × 12 columns</p>\n",
       "</div>"
      ],
      "text/plain": [
       "      type                                              posts  mbti  \\\n",
       "0     INFJ  'http://www.youtube.com/watch?v=qsXHcwe3krw|||...     0   \n",
       "1     ENTP  'I'm finding the lack of me in these posts ver...     1   \n",
       "2     INTP  'Good one  _____   https://www.youtube.com/wat...     2   \n",
       "3     INTJ  'Dear INTP,   I enjoyed our conversation the o...     3   \n",
       "4     ENTJ  'You're fired.|||That's another silly misconce...     4   \n",
       "...    ...                                                ...   ...   \n",
       "8670  ISFP  'https://www.youtube.com/watch?v=t8edHB_h908||...     8   \n",
       "8671  ENFP  'So...if this thread already exists someplace ...     7   \n",
       "8672  INTP  'So many questions when i do these things.  I ...     2   \n",
       "8673  INFP  'I am very conflicted right now when it comes ...     6   \n",
       "8674  INFP  'It has been too long since I have been on per...     6   \n",
       "\n",
       "      type_weights x0 x1 x2 x3  x0_weights  x1_weights  x2_weights  x3_weights  \n",
       "0         0.169452  I  N  F  J    0.769568    0.862017    0.541095     0.39585  \n",
       "1         0.078963  E  N  T  P    0.230432    0.862017    0.458905     0.60415  \n",
       "2         0.150317  I  N  T  P    0.769568    0.862017    0.458905     0.60415  \n",
       "3         0.125764  I  N  T  J    0.769568    0.862017    0.458905     0.39585  \n",
       "4         0.026628  E  N  T  J    0.230432    0.862017    0.458905     0.39585  \n",
       "...            ... .. .. .. ..         ...         ...         ...         ...  \n",
       "8670      0.031239  I  S  F  P    0.769568    0.137983    0.541095     0.60415  \n",
       "8671      0.077810  E  N  F  P    0.230432    0.862017    0.541095     0.60415  \n",
       "8672      0.150317  I  N  T  P    0.769568    0.862017    0.458905     0.60415  \n",
       "8673      0.211182  I  N  F  P    0.769568    0.862017    0.541095     0.60415  \n",
       "8674      0.211182  I  N  F  P    0.769568    0.862017    0.541095     0.60415  \n",
       "\n",
       "[8675 rows x 12 columns]"
      ]
     },
     "execution_count": 87,
     "metadata": {},
     "output_type": "execute_result"
    }
   ],
   "source": [
    "df"
   ]
  },
  {
   "cell_type": "markdown",
   "metadata": {},
   "source": [
    "#### Experiment 2.2: Custom Object class of Logistic regression models"
   ]
  },
  {
   "cell_type": "code",
   "execution_count": null,
   "metadata": {},
   "outputs": [],
   "source": [
    "class ChainMBTI:\n",
    "    def __init__(self):\n",
    "        self.m0 = LogisticRegression(max_iter=500)\n",
    "        self.m1 = LogisticRegression(max_iter=500)\n",
    "        self.m2 = LogisticRegression(max_iter=500)\n",
    "        self.m3 = LogisticRegression(max_iter=500)\n",
    "\n",
    "    def train(self, model: LogisticRegression, X_train: np.ndarray, y_train: np.ndarray, class_weights: np.ndarray, X_test: np.ndarray, y_test: np.ndarray):\n",
    "        model.fit(X_train, y_train, class_weights)\n",
    "        y_pred = model.predict(X_test)\n",
    "        print(classification_report(y_test, y_pred))\n",
    "        \n",
    "    def update(self, X: np.ndarray, *ys: tuple):\n",
    "        for model_num, y in enumerate(ys):\n",
    "            X_train, X_test, y_train, y_test = train_test_split(X, y, test_size=0.3, random_state=42, stratify=y)\n",
    "            self.train(getattr(self, f'm{model_num}'), X_train, y_train[:, 0], y_train[:, 1], X_test, y_test[:, 0])\n",
    "            \n",
    "mbti_model = ChainMBTI()"
   ]
  },
  {
   "cell_type": "code",
   "execution_count": null,
   "metadata": {},
   "outputs": [
    {
     "name": "stdout",
     "output_type": "stream",
     "text": [
      "              precision    recall  f1-score   support\n",
      "\n",
      "           E       0.84      0.03      0.05       600\n",
      "           I       0.77      1.00      0.87      2003\n",
      "\n",
      "    accuracy                           0.77      2603\n",
      "   macro avg       0.81      0.51      0.46      2603\n",
      "weighted avg       0.79      0.77      0.68      2603\n",
      "\n"
     ]
    },
    {
     "name": "stderr",
     "output_type": "stream",
     "text": [
      "/opt/homebrew/Caskroom/miniforge/base/envs/garfield/lib/python3.12/site-packages/sklearn/metrics/_classification.py:1531: UndefinedMetricWarning: Precision is ill-defined and being set to 0.0 in labels with no predicted samples. Use `zero_division` parameter to control this behavior.\n",
      "  _warn_prf(average, modifier, f\"{metric.capitalize()} is\", len(result))\n",
      "/opt/homebrew/Caskroom/miniforge/base/envs/garfield/lib/python3.12/site-packages/sklearn/metrics/_classification.py:1531: UndefinedMetricWarning: Precision is ill-defined and being set to 0.0 in labels with no predicted samples. Use `zero_division` parameter to control this behavior.\n",
      "  _warn_prf(average, modifier, f\"{metric.capitalize()} is\", len(result))\n",
      "/opt/homebrew/Caskroom/miniforge/base/envs/garfield/lib/python3.12/site-packages/sklearn/metrics/_classification.py:1531: UndefinedMetricWarning: Precision is ill-defined and being set to 0.0 in labels with no predicted samples. Use `zero_division` parameter to control this behavior.\n",
      "  _warn_prf(average, modifier, f\"{metric.capitalize()} is\", len(result))\n"
     ]
    },
    {
     "name": "stdout",
     "output_type": "stream",
     "text": [
      "              precision    recall  f1-score   support\n",
      "\n",
      "           N       0.86      1.00      0.93      2244\n",
      "           S       0.00      0.00      0.00       359\n",
      "\n",
      "    accuracy                           0.86      2603\n",
      "   macro avg       0.43      0.50      0.46      2603\n",
      "weighted avg       0.74      0.86      0.80      2603\n",
      "\n",
      "              precision    recall  f1-score   support\n",
      "\n",
      "           F       0.74      0.84      0.79      1408\n",
      "           T       0.77      0.66      0.71      1195\n",
      "\n",
      "    accuracy                           0.75      2603\n",
      "   macro avg       0.76      0.75      0.75      2603\n",
      "weighted avg       0.76      0.75      0.75      2603\n",
      "\n",
      "              precision    recall  f1-score   support\n",
      "\n",
      "           J       0.75      0.22      0.34      1030\n",
      "           P       0.65      0.95      0.77      1573\n",
      "\n",
      "    accuracy                           0.66      2603\n",
      "   macro avg       0.70      0.59      0.56      2603\n",
      "weighted avg       0.69      0.66      0.60      2603\n",
      "\n"
     ]
    }
   ],
   "source": [
    "mbti_model.update(X, df[['x0', 'x0_weights']].values, df[['x1', 'x1_weights']].values, df[['x2', 'x2_weights']].values, df[['x3', 'x3_weights']].values)"
   ]
  },
  {
   "cell_type": "markdown",
   "metadata": {},
   "source": [
    "#### Quick test"
   ]
  },
  {
   "cell_type": "code",
   "execution_count": null,
   "metadata": {},
   "outputs": [],
   "source": [
    "sample = base.encode(['I prefer to spend my weekends at home cuddled up with my dog. I prefer to stay home and read books and study by myself.'])"
   ]
  },
  {
   "cell_type": "code",
   "execution_count": null,
   "metadata": {},
   "outputs": [
    {
     "data": {
      "text/plain": [
       "(1, 768)"
      ]
     },
     "execution_count": 96,
     "metadata": {},
     "output_type": "execute_result"
    }
   ],
   "source": [
    "sample.shape"
   ]
  },
  {
   "cell_type": "code",
   "execution_count": null,
   "metadata": {},
   "outputs": [
    {
     "data": {
      "text/plain": [
       "array(['I'], dtype=object)"
      ]
     },
     "execution_count": 97,
     "metadata": {},
     "output_type": "execute_result"
    }
   ],
   "source": [
    "mbti_model.m0.predict(sample)"
   ]
  },
  {
   "cell_type": "code",
   "execution_count": null,
   "metadata": {},
   "outputs": [
    {
     "data": {
      "text/plain": [
       "array([[0.07669628, 0.92330372]])"
      ]
     },
     "execution_count": 98,
     "metadata": {},
     "output_type": "execute_result"
    }
   ],
   "source": [
    "mbti_model.m0.predict_proba(sample)"
   ]
  },
  {
   "cell_type": "code",
   "execution_count": null,
   "metadata": {},
   "outputs": [
    {
     "data": {
      "text/plain": [
       "array([[0.96441426, 0.03558574]])"
      ]
     },
     "execution_count": 99,
     "metadata": {},
     "output_type": "execute_result"
    }
   ],
   "source": [
    "mbti_model.m1.predict_proba(sample)"
   ]
  },
  {
   "cell_type": "code",
   "execution_count": null,
   "metadata": {},
   "outputs": [
    {
     "data": {
      "text/plain": [
       "array(['N'], dtype=object)"
      ]
     },
     "execution_count": 100,
     "metadata": {},
     "output_type": "execute_result"
    }
   ],
   "source": [
    "mbti_model.m1.predict(sample)"
   ]
  },
  {
   "cell_type": "code",
   "execution_count": null,
   "metadata": {},
   "outputs": [],
   "source": [
    "def predict(self, x: np.ndarray):\n",
    "    mbti_label = []\n",
    "    diff_score = []\n",
    "    prediction = None\n",
    "    for model_num in range(4):\n",
    "        model = getattr(self, f'm{model_num}')\n",
    "        logits = model.predict_proba(x).flatten()\n",
    "    \n",
    "        if prediction is None:\n",
    "            prediction = logits \n",
    "        else:\n",
    "            prediction = np.vstack([prediction, logits])\n",
    "\n",
    "        diff_score += [abs(np.diff(logits))[0]]\n",
    "        mbti_label += [model.predict(x)[0]]\n",
    "    return mbti_label, diff_score, prediction "
   ]
  },
  {
   "cell_type": "code",
   "execution_count": null,
   "metadata": {},
   "outputs": [
    {
     "data": {
      "text/plain": [
       "(['I', 'N', 'T', 'P'],\n",
       " [0.8466074496516511,\n",
       "  0.9288285261849469,\n",
       "  0.2267328705395908,\n",
       "  0.4191881268469968],\n",
       " array([[0.07669628, 0.92330372],\n",
       "        [0.96441426, 0.03558574],\n",
       "        [0.38663356, 0.61336644],\n",
       "        [0.29040594, 0.70959406]]))"
      ]
     },
     "execution_count": 117,
     "metadata": {},
     "output_type": "execute_result"
    }
   ],
   "source": [
    "predict(mbti_model, sample)"
   ]
  },
  {
   "cell_type": "code",
   "execution_count": null,
   "metadata": {},
   "outputs": [],
   "source": [
    "mbti_label, diff_score, logits = predict(mbti_model, sample)"
   ]
  },
  {
   "cell_type": "markdown",
   "metadata": {},
   "source": [
    "#### Unsure with what I was trying to do here"
   ]
  },
  {
   "cell_type": "code",
   "execution_count": null,
   "metadata": {},
   "outputs": [
    {
     "data": {
      "text/plain": [
       "0.6053392433057965"
      ]
     },
     "execution_count": 119,
     "metadata": {},
     "output_type": "execute_result"
    }
   ],
   "source": [
    "np.mean(diff_score)"
   ]
  },
  {
   "cell_type": "code",
   "execution_count": null,
   "metadata": {},
   "outputs": [
    {
     "data": {
      "text/plain": [
       "array([0.07634267, 0.22388623, 0.4259738 , 0.2737973 ])"
      ]
     },
     "execution_count": 126,
     "metadata": {},
     "output_type": "execute_result"
    }
   ],
   "source": [
    "np.random.dirichlet(alpha=np.ones(4))"
   ]
  },
  {
   "cell_type": "code",
   "execution_count": null,
   "metadata": {},
   "outputs": [
    {
     "data": {
      "text/plain": [
       "array([0.9, 0.9, 0.9, 0.9])"
      ]
     },
     "execution_count": 127,
     "metadata": {},
     "output_type": "execute_result"
    }
   ],
   "source": [
    "np.full((4,), 0.9)"
   ]
  },
  {
   "cell_type": "code",
   "execution_count": null,
   "metadata": {},
   "outputs": [
    {
     "data": {
      "text/plain": [
       "array([0.8, 0.8, 0.8, 0.8])"
      ]
     },
     "execution_count": 128,
     "metadata": {},
     "output_type": "execute_result"
    }
   ],
   "source": [
    "np.full((4,), 0.8)"
   ]
  },
  {
   "cell_type": "code",
   "execution_count": null,
   "metadata": {},
   "outputs": [],
   "source": [
    "fake = np.full((4,), 0.8)"
   ]
  },
  {
   "cell_type": "code",
   "execution_count": null,
   "metadata": {},
   "outputs": [
    {
     "data": {
      "text/plain": [
       "[0.8466074496516511,\n",
       " 0.9288285261849469,\n",
       " 0.2267328705395908,\n",
       " 0.4191881268469968]"
      ]
     },
     "execution_count": 130,
     "metadata": {},
     "output_type": "execute_result"
    }
   ],
   "source": [
    "diff_score"
   ]
  },
  {
   "cell_type": "code",
   "execution_count": null,
   "metadata": {},
   "outputs": [
    {
     "data": {
      "text/plain": [
       "array([0.84660745, 0.92882853, 0.22673287, 0.41918813])"
      ]
     },
     "execution_count": 131,
     "metadata": {},
     "output_type": "execute_result"
    }
   ],
   "source": [
    "np.array(diff_score)"
   ]
  },
  {
   "cell_type": "code",
   "execution_count": null,
   "metadata": {},
   "outputs": [
    {
     "data": {
      "text/plain": [
       "array([[0.84660745, 0.92882853, 0.22673287, 0.41918813],\n",
       "       [0.8       , 0.8       , 0.8       , 0.8       ],\n",
       "       [1.        , 1.        , 1.        , 1.        ]])"
      ]
     },
     "execution_count": 132,
     "metadata": {},
     "output_type": "execute_result"
    }
   ],
   "source": [
    "np.vstack([np.array(diff_score), fake, np.ones(fake.shape[0])])"
   ]
  },
  {
   "cell_type": "code",
   "execution_count": null,
   "metadata": {},
   "outputs": [
    {
     "data": {
      "text/plain": [
       "array([[0.84660745, 0.8       , 1.        ],\n",
       "       [0.92882853, 0.8       , 1.        ],\n",
       "       [0.22673287, 0.8       , 1.        ],\n",
       "       [0.41918813, 0.8       , 1.        ]])"
      ]
     },
     "execution_count": 133,
     "metadata": {},
     "output_type": "execute_result"
    }
   ],
   "source": [
    "np.vstack([np.array(diff_score), fake, np.ones(fake.shape[0])]).T"
   ]
  },
  {
   "cell_type": "code",
   "execution_count": null,
   "metadata": {},
   "outputs": [],
   "source": [
    "A = np.vstack([np.array(diff_score), fake, np.ones(fake.shape[0])])"
   ]
  },
  {
   "cell_type": "code",
   "execution_count": null,
   "metadata": {},
   "outputs": [
    {
     "data": {
      "text/plain": [
       "(array([ 0.51194411,  0.59289939, -0.09838746,  0.09110494]),\n",
       " array([], dtype=float64),\n",
       " 2,\n",
       " array([2.84432982e+00, 5.25719458e-01, 1.10225117e-16]))"
      ]
     },
     "execution_count": 142,
     "metadata": {},
     "output_type": "execute_result"
    }
   ],
   "source": [
    "np.linalg.lstsq(A, np.ones((3,)), rcond=None)"
   ]
  },
  {
   "cell_type": "code",
   "execution_count": null,
   "metadata": {},
   "outputs": [
    {
     "data": {
      "text/plain": [
       "array([ 0.51194411,  0.59289939, -0.09838746,  0.09110494])"
      ]
     },
     "execution_count": 144,
     "metadata": {},
     "output_type": "execute_result"
    }
   ],
   "source": [
    "np.linalg.lstsq(A, np.ones((3,)), rcond=None)[0]"
   ]
  },
  {
   "cell_type": "code",
   "execution_count": null,
   "metadata": {},
   "outputs": [
    {
     "data": {
      "text/plain": [
       "0.9999999999999998"
      ]
     },
     "execution_count": 145,
     "metadata": {},
     "output_type": "execute_result"
    }
   ],
   "source": [
    "np.linalg.lstsq(A, np.ones((3,)), rcond=None)[0] @ np.array(diff_score)"
   ]
  },
  {
   "cell_type": "code",
   "execution_count": null,
   "metadata": {},
   "outputs": [
    {
     "data": {
      "text/plain": [
       "0.514211478525303"
      ]
     },
     "execution_count": 146,
     "metadata": {},
     "output_type": "execute_result"
    }
   ],
   "source": [
    "np.linalg.lstsq(A, np.ones((3,)), rcond=None)[0] @ np.random.dirichlet(alpha=np.ones((4,)))"
   ]
  },
  {
   "cell_type": "code",
   "execution_count": null,
   "metadata": {},
   "outputs": [
    {
     "data": {
      "text/plain": [
       "0.13713949866913058"
      ]
     },
     "execution_count": 149,
     "metadata": {},
     "output_type": "execute_result"
    }
   ],
   "source": [
    "np.linalg.lstsq(A, np.ones((3,)), rcond=None)[0] @ np.random.dirichlet(alpha=np.ones((4,)))"
   ]
  },
  {
   "cell_type": "code",
   "execution_count": null,
   "metadata": {},
   "outputs": [
    {
     "data": {
      "text/plain": [
       "0.6971812031708431"
      ]
     },
     "execution_count": 150,
     "metadata": {},
     "output_type": "execute_result"
    }
   ],
   "source": [
    "np.linalg.lstsq(A, np.ones((3,)), rcond=None)[0] @ np.array([0.9, 0.4, 0.1, 0.1])"
   ]
  },
  {
   "cell_type": "code",
   "execution_count": null,
   "metadata": {},
   "outputs": [],
   "source": [
    "from scipy.special import gammaln, psi\n",
    "\n",
    "def kl_divergence_dirichlet(alpha1, alpha2):\n",
    "    sum_alpha1 = np.sum(alpha1)\n",
    "    sum_alpha2 = np.sum(alpha2)\n",
    "    kl = gammaln(sum_alpha2) - gammaln(sum_alpha1) + np.sum(gammaln(alpha1) - gammaln(alpha2))\n",
    "    kl += np.sum((alpha1 - alpha2) * (psi(alpha1) - psi(sum_alpha1)))\n",
    "    return kl"
   ]
  },
  {
   "cell_type": "code",
   "execution_count": null,
   "metadata": {},
   "outputs": [
    {
     "data": {
      "text/plain": [
       "-5.727473672324946"
      ]
     },
     "execution_count": 152,
     "metadata": {},
     "output_type": "execute_result"
    }
   ],
   "source": [
    "kl_divergence_dirichlet(alpha1=np.array(diff_score), alpha2=np.array([0.9, 0.4, 0.1, 0.1]))"
   ]
  },
  {
   "cell_type": "code",
   "execution_count": null,
   "metadata": {},
   "outputs": [
    {
     "data": {
      "text/plain": [
       "-8.34048808291522"
      ]
     },
     "execution_count": 153,
     "metadata": {},
     "output_type": "execute_result"
    }
   ],
   "source": [
    "kl_divergence_dirichlet(alpha1=np.array(diff_score), alpha2=np.random.dirichlet(alpha=np.ones((4,))))"
   ]
  },
  {
   "cell_type": "code",
   "execution_count": null,
   "metadata": {},
   "outputs": [
    {
     "data": {
      "text/plain": [
       "-6.230302155657039"
      ]
     },
     "execution_count": 154,
     "metadata": {},
     "output_type": "execute_result"
    }
   ],
   "source": [
    "kl_divergence_dirichlet(alpha1=np.array(diff_score), alpha2=np.random.dirichlet(alpha=np.ones((4,))))"
   ]
  },
  {
   "cell_type": "code",
   "execution_count": null,
   "metadata": {},
   "outputs": [
    {
     "data": {
      "text/plain": [
       "array([0.25033317, 1.77251946, 1.1139163 , 1.35028691])"
      ]
     },
     "execution_count": 159,
     "metadata": {},
     "output_type": "execute_result"
    }
   ],
   "source": [
    "np.log(np.array(diff_score) / np.random.dirichlet(alpha=np.ones((4,))))"
   ]
  },
  {
   "cell_type": "code",
   "execution_count": null,
   "metadata": {},
   "outputs": [
    {
     "data": {
      "text/plain": [
       "1.3302291735473333"
      ]
     },
     "execution_count": 160,
     "metadata": {},
     "output_type": "execute_result"
    }
   ],
   "source": [
    "np.linalg.lstsq(A, np.ones((3,)), rcond=None)[0] @ np.log(np.array(diff_score) / np.random.dirichlet(alpha=np.ones((4,))))"
   ]
  },
  {
   "cell_type": "code",
   "execution_count": null,
   "metadata": {},
   "outputs": [
    {
     "data": {
      "text/plain": [
       "-1.583769584196391"
      ]
     },
     "execution_count": 161,
     "metadata": {},
     "output_type": "execute_result"
    }
   ],
   "source": [
    "np.linalg.lstsq(A, np.ones((3,)), rcond=None)[0] @ np.log(np.array(diff_score) / np.ones((4,))/4)"
   ]
  },
  {
   "cell_type": "code",
   "execution_count": null,
   "metadata": {},
   "outputs": [
    {
     "data": {
      "text/plain": [
       "array([2.99600615, 2.88790846, 0.25886622, 2.1005031 ])"
      ]
     },
     "execution_count": 165,
     "metadata": {},
     "output_type": "execute_result"
    }
   ],
   "source": [
    "np.log(np.linalg.lstsq(A, np.ones((3,)), rcond=None)[0] @ np.array(diff_score) / np.random.dirichlet(alpha=np.ones((4,))))"
   ]
  },
  {
   "cell_type": "markdown",
   "metadata": {},
   "source": [
    "### Concluding Model"
   ]
  },
  {
   "cell_type": "code",
   "execution_count": 5,
   "metadata": {},
   "outputs": [],
   "source": [
    "# Import necessary libraries\n",
    "import numpy as np\n",
    "from sklearn.linear_model import LogisticRegression\n",
    "from sklearn.model_selection import train_test_split\n",
    "from sklearn.metrics import classification_report\n",
    "class KittenBreeder:\n",
    "    def __init__(self):\n",
    "        self.m0 = LogisticRegression(max_iter=500)\n",
    "        self.m1 = LogisticRegression(max_iter=500)\n",
    "        self.m2 = LogisticRegression(max_iter=500)\n",
    "        self.m3 = LogisticRegression(max_iter=500)\n",
    "        \n",
    "    def train(self, model: LogisticRegression, X_train: np.ndarray, y_train: np.ndarray, class_weights: np.ndarray, X_test: np.ndarray, y_test: np.ndarray):\n",
    "        model.fit(X_train, y_train, class_weights)\n",
    "        y_pred = model.predict(X_test)\n",
    "        print(classification_report(y_test, y_pred))\n",
    "        \n",
    "    def update(self, X: np.ndarray, *ys: tuple):\n",
    "        for model_num, y in enumerate(ys):\n",
    "            X_train, X_test, y_train, y_test = train_test_split(X, y, test_size=0.3, random_state=42, stratify=y)\n",
    "            self.train(getattr(self, f'm{model_num}'), X_train, y_train[:, 0], y_train[:, 1], X_test, y_test[:, 0])\n",
    "\n",
    "    def predict(self, x: np.ndarray):\n",
    "        mbti_label = []\n",
    "        diff_score = []\n",
    "        prediction = None\n",
    "        \n",
    "        for model_num in range(4):\n",
    "            model = getattr(self, f'm{model_num}')\n",
    "            logits = model.predict_proba(x).flatten()\n",
    "        \n",
    "            if prediction is None:\n",
    "                prediction = logits \n",
    "            else:\n",
    "                prediction = np.vstack([prediction, logits])\n",
    "\n",
    "            diff_score += [abs(np.diff(logits))[0]]\n",
    "            mbti_label += [model.predict(x)[0]]\n",
    "\n",
    "        return mbti_label, diff_score, prediction \n"
   ]
  },
  {
   "cell_type": "code",
   "execution_count": null,
   "metadata": {},
   "outputs": [],
   "source": [
    "breed = KittenBreeder()"
   ]
  },
  {
   "cell_type": "code",
   "execution_count": null,
   "metadata": {},
   "outputs": [
    {
     "name": "stdout",
     "output_type": "stream",
     "text": [
      "              precision    recall  f1-score   support\n",
      "\n",
      "           E       0.84      0.03      0.05       600\n",
      "           I       0.77      1.00      0.87      2003\n",
      "\n",
      "    accuracy                           0.77      2603\n",
      "   macro avg       0.81      0.51      0.46      2603\n",
      "weighted avg       0.79      0.77      0.68      2603\n",
      "\n"
     ]
    },
    {
     "name": "stderr",
     "output_type": "stream",
     "text": [
      "/opt/homebrew/Caskroom/miniforge/base/envs/garfield/lib/python3.12/site-packages/sklearn/metrics/_classification.py:1531: UndefinedMetricWarning: Precision is ill-defined and being set to 0.0 in labels with no predicted samples. Use `zero_division` parameter to control this behavior.\n",
      "  _warn_prf(average, modifier, f\"{metric.capitalize()} is\", len(result))\n",
      "/opt/homebrew/Caskroom/miniforge/base/envs/garfield/lib/python3.12/site-packages/sklearn/metrics/_classification.py:1531: UndefinedMetricWarning: Precision is ill-defined and being set to 0.0 in labels with no predicted samples. Use `zero_division` parameter to control this behavior.\n",
      "  _warn_prf(average, modifier, f\"{metric.capitalize()} is\", len(result))\n",
      "/opt/homebrew/Caskroom/miniforge/base/envs/garfield/lib/python3.12/site-packages/sklearn/metrics/_classification.py:1531: UndefinedMetricWarning: Precision is ill-defined and being set to 0.0 in labels with no predicted samples. Use `zero_division` parameter to control this behavior.\n",
      "  _warn_prf(average, modifier, f\"{metric.capitalize()} is\", len(result))\n"
     ]
    },
    {
     "name": "stdout",
     "output_type": "stream",
     "text": [
      "              precision    recall  f1-score   support\n",
      "\n",
      "           N       0.86      1.00      0.93      2244\n",
      "           S       0.00      0.00      0.00       359\n",
      "\n",
      "    accuracy                           0.86      2603\n",
      "   macro avg       0.43      0.50      0.46      2603\n",
      "weighted avg       0.74      0.86      0.80      2603\n",
      "\n",
      "              precision    recall  f1-score   support\n",
      "\n",
      "           F       0.74      0.84      0.79      1408\n",
      "           T       0.77      0.66      0.71      1195\n",
      "\n",
      "    accuracy                           0.75      2603\n",
      "   macro avg       0.76      0.75      0.75      2603\n",
      "weighted avg       0.76      0.75      0.75      2603\n",
      "\n",
      "              precision    recall  f1-score   support\n",
      "\n",
      "           J       0.75      0.22      0.34      1030\n",
      "           P       0.65      0.95      0.77      1573\n",
      "\n",
      "    accuracy                           0.66      2603\n",
      "   macro avg       0.70      0.59      0.56      2603\n",
      "weighted avg       0.69      0.66      0.60      2603\n",
      "\n"
     ]
    }
   ],
   "source": [
    "breed.update(X, df[['x0', 'x0_weights']].values, df[['x1', 'x1_weights']].values, df[['x2', 'x2_weights']].values, df[['x3', 'x3_weights']].values)"
   ]
  },
  {
   "cell_type": "markdown",
   "metadata": {},
   "source": [
    "#### Saving model"
   ]
  },
  {
   "cell_type": "code",
   "execution_count": null,
   "metadata": {},
   "outputs": [],
   "source": [
    "import joblib "
   ]
  },
  {
   "cell_type": "code",
   "execution_count": null,
   "metadata": {},
   "outputs": [
    {
     "data": {
      "text/plain": [
       "['mbtiModel.pkl']"
      ]
     },
     "execution_count": 172,
     "metadata": {},
     "output_type": "execute_result"
    }
   ],
   "source": [
    "joblib.dump(breed, 'mbtiModel.pkl')"
   ]
  },
  {
   "cell_type": "code",
   "execution_count": null,
   "metadata": {},
   "outputs": [
    {
     "data": {
      "text/plain": [
       "(['I', 'N', 'T', 'P'],\n",
       " [0.8466074496516511,\n",
       "  0.9288285261849469,\n",
       "  0.2267328705395908,\n",
       "  0.4191881268469968],\n",
       " array([[0.07669628, 0.92330372],\n",
       "        [0.96441426, 0.03558574],\n",
       "        [0.38663356, 0.61336644],\n",
       "        [0.29040594, 0.70959406]]))"
      ]
     },
     "execution_count": 174,
     "metadata": {},
     "output_type": "execute_result"
    }
   ],
   "source": [
    "breed.predict(sample)"
   ]
  },
  {
   "cell_type": "code",
   "execution_count": null,
   "metadata": {},
   "outputs": [
    {
     "data": {
      "text/plain": [
       "array([0.54153361, 0.5184494 , 0.8151734 , 0.70462822])"
      ]
     },
     "execution_count": 177,
     "metadata": {},
     "output_type": "execute_result"
    }
   ],
   "source": [
    "1 / (1 + np.array(diff_score))"
   ]
  },
  {
   "cell_type": "code",
   "execution_count": 3,
   "metadata": {},
   "outputs": [
    {
     "data": {
      "text/plain": [
       "'/Users/mimiphan/Library/Mobile Documents/com~apple~CloudDocs/Documents/MBA Documents/MyPlayground/tomemotions/dataUtils'"
      ]
     },
     "execution_count": 3,
     "metadata": {},
     "output_type": "execute_result"
    }
   ],
   "source": [
    "import os \n",
    "os.getcwd()"
   ]
  },
  {
   "cell_type": "code",
   "execution_count": 6,
   "metadata": {},
   "outputs": [],
   "source": [
    "import joblib\n",
    "\n",
    "breed = joblib.load('../src/mbtiModel.pkl')"
   ]
  },
  {
   "cell_type": "code",
   "execution_count": 7,
   "metadata": {},
   "outputs": [
    {
     "data": {
      "text/plain": [
       "<__main__.KittenBreeder at 0x1687114c0>"
      ]
     },
     "execution_count": 7,
     "metadata": {},
     "output_type": "execute_result"
    }
   ],
   "source": [
    "breed"
   ]
  },
  {
   "cell_type": "code",
   "execution_count": 8,
   "metadata": {},
   "outputs": [
    {
     "data": {
      "text/plain": [
       "array([[-8.74776586e-02,  4.19864408e-01,  9.66286919e-02,\n",
       "        -1.49661359e-01, -4.99225588e-01, -2.44154123e-01,\n",
       "         5.08316302e-01,  6.08051911e-01,  5.72583175e-01,\n",
       "         5.17950658e-01, -4.30810659e-01, -3.57538458e-01,\n",
       "         1.57955266e-01, -1.46721723e-01, -6.23456310e-01,\n",
       "        -6.58874368e-01,  2.13883568e-01, -9.39740672e-02,\n",
       "        -9.37602333e-02,  6.12485337e-02, -2.29343366e-01,\n",
       "         3.51997195e-01,  9.08273215e-02, -3.22085099e-01,\n",
       "         2.07765955e-01, -9.52325401e-01,  3.72439590e-01,\n",
       "        -1.88002978e-01, -2.51365501e-01, -4.79689153e-02,\n",
       "        -3.84031801e-01, -2.57277386e-01, -4.00516020e-01,\n",
       "         4.37564280e-01,  3.12728795e-06,  3.15524215e-01,\n",
       "         5.36217641e-01,  8.64524639e-02,  3.54271448e-01,\n",
       "        -3.18985478e-01,  3.74561105e-01, -1.12023062e-01,\n",
       "         4.63463360e-01, -1.35463415e-01, -4.77969204e-01,\n",
       "        -4.20267024e-01,  3.06348260e-02, -1.57645021e-02,\n",
       "        -3.38088374e-01, -6.63133885e-02, -6.95599937e-02,\n",
       "        -6.49996577e-02,  1.15353699e-01,  1.87811057e-02,\n",
       "        -4.93976012e-01,  2.70452622e-01, -2.80880703e-01,\n",
       "         9.57893951e-01,  4.67895752e-01,  4.38184934e-01,\n",
       "        -3.43532937e-01,  2.00576487e-01, -1.55260726e-01,\n",
       "         1.18210957e-02,  1.83510950e-02, -4.54526231e-01,\n",
       "        -1.21199052e-01, -5.86030632e-01, -5.83641115e-02,\n",
       "         8.02565129e-02, -2.52719900e-01, -2.44405192e-01,\n",
       "         1.22942818e-02, -2.44829967e-01, -3.39249391e-04,\n",
       "        -3.18571364e-01, -2.17578015e-01, -4.70070408e-01,\n",
       "         4.35484872e-01, -1.19665048e-01, -2.69255517e-01,\n",
       "         4.01280384e-01,  7.27040291e-02, -1.42846986e-02,\n",
       "         1.62856928e-01, -3.52407426e-01, -2.86734580e-01,\n",
       "         2.10926234e-01,  1.60146133e-01, -2.35017069e-01,\n",
       "        -1.53814058e-01, -1.05366852e-01, -6.40871552e-01,\n",
       "        -5.90842616e-02, -1.01637007e+00,  3.20514202e-01,\n",
       "        -7.17407379e-01,  5.38753564e-01, -2.62593549e-01,\n",
       "         1.52085130e-01,  1.22056285e+00,  8.85257962e-02,\n",
       "        -4.27018265e-01,  7.01105024e-02,  3.38153930e-01,\n",
       "        -4.21761537e-01,  1.68439494e-02, -1.76674345e-01,\n",
       "        -5.28635366e-02,  2.65848562e-01, -1.28572203e-02,\n",
       "         1.72035618e-01, -1.56748202e-01, -3.62039592e-01,\n",
       "         6.48861089e-01, -2.42149507e-01,  9.99004757e-01,\n",
       "         5.01608266e-02, -8.09531326e-02, -1.50752751e-02,\n",
       "        -6.96416529e-01, -9.98827060e-04, -1.03625393e-01,\n",
       "         3.03195951e-01,  1.35238772e-01,  3.04499915e-01,\n",
       "         1.57910504e-01,  1.85986544e-01,  5.91872177e-01,\n",
       "        -4.06316705e-01, -5.49151526e-03,  1.16809278e-01,\n",
       "         4.84240130e-01,  4.02705435e-01, -8.11009794e-03,\n",
       "         4.66052251e-02, -6.10210359e-01,  3.66345295e-01,\n",
       "        -1.12317296e-02, -6.70662743e-01,  5.50262181e-01,\n",
       "        -2.40252628e-01, -1.04326681e-01,  1.01859656e-01,\n",
       "        -3.57383188e-01,  2.50680511e-01,  4.82004008e-02,\n",
       "        -4.04527919e-01,  1.39171392e-01,  4.05977654e-02,\n",
       "        -1.87304017e-01, -2.73259987e-02,  2.28375224e-01,\n",
       "         1.88394660e-02, -3.03133498e-01,  2.13941962e-01,\n",
       "         4.06160560e-01, -2.16480655e-02, -4.48826506e-01,\n",
       "        -1.17396129e-01, -3.69774372e-03,  3.08621814e-02,\n",
       "         3.57026455e-01, -1.06733775e-01, -2.01734376e-01,\n",
       "         1.52952452e-01, -4.44176686e-01, -3.19880127e-01,\n",
       "        -6.03055052e-01,  5.58356893e-02, -9.11310643e-02,\n",
       "         7.68814041e-02,  7.23643806e-01,  3.42359008e-01,\n",
       "         1.09376326e-01,  7.03275510e-01, -5.04947140e-01,\n",
       "         1.13531856e-03,  3.85093735e-01,  4.42289622e-01,\n",
       "         5.22725510e-01, -2.54805808e-01,  9.64093244e-02,\n",
       "         1.21047745e-01,  4.86158696e-01,  5.81773633e-01,\n",
       "        -1.29909768e-01,  1.22902778e-02, -6.26928772e-02,\n",
       "        -3.95308276e-01, -3.09282079e-01,  1.44806399e-02,\n",
       "         4.83490562e-01,  4.43934251e-01,  1.43112293e-01,\n",
       "         6.26171042e-01,  7.68626475e-02, -5.99132559e-01,\n",
       "         3.26434041e-01,  1.37629930e-01, -4.03405416e-01,\n",
       "         2.26349310e-01,  6.11470772e-01, -5.73652208e-03,\n",
       "        -2.90879099e-02, -5.29485710e-01,  7.91169321e-01,\n",
       "        -5.49382672e-03,  1.08564074e+00, -7.54584776e-02,\n",
       "         6.36358868e-01,  1.12032538e-01, -1.66244273e-01,\n",
       "         9.73921853e-02,  1.45326307e-01,  9.46037470e-01,\n",
       "         1.39916338e-01, -3.36661520e-01, -1.06121370e-01,\n",
       "        -2.90243752e-01, -3.32000581e-01,  5.72244459e-01,\n",
       "        -4.94514115e-01,  5.55348142e-02,  3.54728345e-01,\n",
       "        -2.95812374e-01, -1.03284057e-01, -6.39275123e-01,\n",
       "         1.40342268e-01, -2.81734489e-01,  1.66266832e-01,\n",
       "         8.08876586e-03,  2.01589428e-01,  7.51929079e-02,\n",
       "        -2.14162256e-01,  6.04388200e-01, -3.28326715e-01,\n",
       "         4.71395940e-01,  1.77305547e-01, -1.17861880e-01,\n",
       "        -2.56392433e-01, -2.48403105e-01, -4.79082228e-02,\n",
       "         2.67470081e-01,  2.45044676e-01, -6.62905204e-02,\n",
       "        -1.59022652e-01,  4.87737584e-01, -3.03167088e-01,\n",
       "        -2.91537048e-02, -2.79523310e-01, -2.47817367e-01,\n",
       "        -1.53376548e-01,  5.01082179e-03, -3.98731287e-01,\n",
       "        -2.41243468e-01, -7.50076946e-02, -3.57094390e-02,\n",
       "        -2.75954303e-01, -9.04733728e-02, -2.13266443e-01,\n",
       "        -5.41498060e-01, -7.40194277e-02, -6.57364904e-01,\n",
       "         1.88558782e-01,  1.90571308e-01,  4.95177430e-01,\n",
       "         2.20629451e-01, -2.43848873e-01, -2.26741234e-02,\n",
       "        -3.23595341e-01, -5.11062879e-01,  5.79575370e-01,\n",
       "        -3.26830846e-01, -7.84760699e-02,  2.27478858e-02,\n",
       "         1.56667284e-02,  7.55479869e-01,  2.55229983e-01,\n",
       "         8.84026281e-02,  2.47719250e-02,  5.08987492e-01,\n",
       "         1.85888732e-01, -3.57062920e-01, -5.37771032e-02,\n",
       "         3.82862653e-01,  9.24708514e-02, -2.04473866e-01,\n",
       "         6.49960313e-02,  8.57205512e-01,  2.10838586e-01,\n",
       "         4.53828808e-02, -2.80611431e-01, -1.02975657e-01,\n",
       "         4.97389982e-02,  2.69516633e-02,  1.60709089e-01,\n",
       "         8.77443916e-02, -3.37493969e-01, -6.78322302e-01,\n",
       "         4.09814344e-02,  3.79014359e-01, -1.61885821e-02,\n",
       "        -9.61990420e-03,  1.10215602e-01, -4.33738046e-01,\n",
       "         7.77273146e-02, -2.74427148e-01,  9.18743126e-03,\n",
       "         8.37736611e-03,  5.13914566e-01, -3.70562031e-01,\n",
       "         3.01304796e-01, -1.58505068e-01, -6.31533441e-01,\n",
       "        -1.52654229e-02,  4.80935988e-01, -7.93354049e-02,\n",
       "         6.21331107e-01,  3.96557011e-01, -1.20431668e-01,\n",
       "         1.03439851e-01, -3.28141833e-01, -4.22056314e-02,\n",
       "         2.66541909e-02,  4.12467797e-01,  6.01375186e-02,\n",
       "         1.43166675e-02,  1.97179444e-01, -2.67120836e-01,\n",
       "         6.59577126e-02, -1.39394506e-02,  6.78241116e-01,\n",
       "         5.14575906e-02,  6.06540957e-01,  3.43493120e-02,\n",
       "         2.58058002e-01, -8.31727487e-02, -1.12859268e-01,\n",
       "         1.01895447e-01,  4.48790536e-01,  2.35623768e-01,\n",
       "         7.31456457e-02, -7.48551629e-01,  8.37886122e-03,\n",
       "        -2.40805135e-01, -7.58646741e-02, -3.34850809e-01,\n",
       "         5.62898560e-01,  3.44962241e-01,  1.66426173e-01,\n",
       "         1.39839574e-02,  2.15135166e-03, -4.51709751e-01,\n",
       "         1.85572070e-01, -9.79145019e-01,  2.01036538e-01,\n",
       "         3.34207161e-01,  1.02371948e-02,  5.85382620e-01,\n",
       "        -2.58565197e-02, -7.08265919e-01,  6.34907015e-01,\n",
       "        -2.25402999e-01,  2.69005518e-01, -1.44128593e-01,\n",
       "        -1.86622472e-01,  2.18331761e-01, -2.53183931e-01,\n",
       "         1.26029166e-01,  3.24597355e-01,  6.66513023e-02,\n",
       "        -5.02850266e-01, -2.84375291e-01, -4.20279039e-02,\n",
       "         1.04718190e-01,  9.97962850e-02, -9.01097719e-01,\n",
       "        -6.95095987e-01,  2.46933916e-01, -4.58020922e-02,\n",
       "        -2.75508450e-01,  1.82733747e-01,  1.13719871e-01,\n",
       "        -1.21427785e-01, -1.69642582e-01,  3.15347965e-02,\n",
       "         4.10085392e-01,  9.15996451e-02,  3.92775931e-01,\n",
       "         1.18819708e-01,  1.36193521e+00, -2.12064688e-01,\n",
       "        -1.82823801e-01, -2.04028511e-01,  3.75418640e-01,\n",
       "        -5.18774145e-01, -2.72529689e-01, -2.36276626e-01,\n",
       "        -4.36867257e-02,  2.95653874e-01, -3.98056226e-01,\n",
       "         2.02895470e-01, -2.64532323e-01,  4.90799611e-01,\n",
       "        -6.14240362e-01,  5.42288316e-01,  1.64303331e-02,\n",
       "         2.16027428e-01,  1.80822717e-01,  4.01314318e-01,\n",
       "        -2.58924503e-01,  2.06844151e-01, -3.37752458e-01,\n",
       "        -2.41077496e-01,  6.87078182e-01, -1.95531142e-01,\n",
       "         1.59176577e-01, -4.79653438e-04,  1.24273069e-02,\n",
       "        -2.15464899e-01, -5.46661352e-02, -6.80088638e-02,\n",
       "        -2.50020365e-01, -2.70353712e-01,  1.20452799e-01,\n",
       "        -5.56825795e-02, -6.73475677e-01,  2.62962400e-01,\n",
       "        -3.22767583e-02,  7.74599258e-01, -1.50323644e-01,\n",
       "        -1.34624545e-01,  4.80603397e-01,  4.39408243e-01,\n",
       "        -1.12908438e-01, -3.67760905e-02, -6.63934126e-02,\n",
       "        -4.50104766e-01,  1.39101253e-01, -1.06976165e-01,\n",
       "        -5.93474313e-01, -5.14048892e-02, -2.16986356e-01,\n",
       "         3.75216804e-01, -7.19841395e-02,  1.71978988e-01,\n",
       "        -7.91694598e-01,  4.49911651e-01,  3.11640968e-01,\n",
       "        -2.38361641e-01,  1.27848176e-01,  3.57000772e-01,\n",
       "         2.04085731e-01, -4.51374657e-01, -1.14335452e-01,\n",
       "         4.85511888e-01,  1.46770345e-01,  3.71140520e-04,\n",
       "         1.24816102e-01,  2.11099771e-01,  1.16019737e-01,\n",
       "        -1.51976542e-01, -5.94058723e-01,  1.75376320e-01,\n",
       "        -2.82166940e-01, -4.19566683e-01, -8.94988983e-02,\n",
       "         1.97392456e-01,  4.80219367e-01,  3.94204278e-01,\n",
       "         4.76876346e-01,  8.78585853e-02, -1.59222107e-01,\n",
       "        -1.69678190e-01,  1.84180748e-01, -4.12454133e-01,\n",
       "        -5.19267381e-01,  2.48953246e-01, -2.60549960e-01,\n",
       "        -2.68185042e-02,  5.30332163e-02,  1.54815227e-01,\n",
       "         2.35192006e-01,  2.52856012e-02, -7.88653562e-02,\n",
       "        -1.06155571e-01, -4.13100705e-01, -1.65072327e-01,\n",
       "         1.93953772e-01,  9.32250672e-01, -8.22635456e-02,\n",
       "        -5.02374695e-01,  1.79890358e-01, -1.51421420e-01,\n",
       "        -6.58354851e-02,  8.11952292e-01,  5.56707169e-02,\n",
       "         4.53785426e-01, -1.93446920e-01, -3.83672219e-01,\n",
       "        -2.50480857e-01, -1.60300197e-01, -1.80176202e-02,\n",
       "        -9.17119350e-01, -3.39657641e-01,  3.89490023e-01,\n",
       "         4.41079688e-03,  8.91289005e-02,  2.79158786e-01,\n",
       "        -2.21828052e-01, -2.62807991e-01, -3.47961986e-01,\n",
       "        -1.69339693e-01, -4.85375521e-01, -4.59910306e-02,\n",
       "        -6.50919837e-01, -4.33646023e-01, -3.26099056e-01,\n",
       "         8.95702388e-02,  1.20365186e-01,  1.68336000e-01,\n",
       "        -2.23947298e-02,  4.36446495e-01, -6.09058678e-01,\n",
       "        -6.55579700e-01,  1.67774054e-01, -5.74474936e-02,\n",
       "        -1.78242298e-01,  4.52816377e-01, -3.87076084e-01,\n",
       "         2.07890012e-01, -8.73324624e-02,  1.57381881e-01,\n",
       "         1.19867740e-01,  1.66736197e-01,  2.03057888e-01,\n",
       "         4.99351682e-01,  5.24765894e-01, -4.42175089e-01,\n",
       "        -1.07939993e-01,  6.39427484e-02,  6.19653751e-01,\n",
       "        -1.45229054e-01,  1.04198387e-01, -3.64233507e-01,\n",
       "         1.74604786e-01,  2.00241765e-01, -1.21747981e-01,\n",
       "         1.90730237e-01, -3.76167949e-02,  1.92696020e-02,\n",
       "         2.95478841e-01, -4.55036721e-01, -7.03208342e-01,\n",
       "        -1.02780054e-32, -2.90668745e-01,  5.39874600e-01,\n",
       "        -7.96599522e-01, -6.51236384e-03, -5.00506511e-02,\n",
       "        -3.71428919e-01, -4.06952939e-01, -6.15371331e-02,\n",
       "        -3.48106841e-01,  3.87038241e-01, -4.58131905e-02,\n",
       "        -1.47357983e-01,  8.35386800e-02,  1.10933397e-01,\n",
       "         4.85381009e-01, -1.25142102e-01,  3.36448709e-01,\n",
       "         3.18911703e-02, -6.79657714e-02,  7.69194027e-02,\n",
       "        -6.17296768e-01, -1.99227710e-01, -1.82715717e-01,\n",
       "        -1.29588370e-02,  4.50612397e-02, -5.52222573e-01,\n",
       "        -2.95677034e-01, -1.47037999e-04, -2.93569043e-01,\n",
       "         8.47314513e-02, -1.88691369e-01, -3.42543158e-02,\n",
       "         3.07144119e-01,  5.75153021e-01,  1.64831373e-02,\n",
       "         4.12570076e-01, -3.63258451e-01,  2.20567572e-01,\n",
       "        -4.01320599e-01,  6.82815246e-01,  5.57289577e-01,\n",
       "        -4.06155165e-01, -1.80652196e-01, -1.79563361e-01,\n",
       "         3.12090667e-01, -4.74756575e-01, -8.80522820e-02,\n",
       "        -2.00082867e-01,  2.90100069e-01, -7.78576889e-01,\n",
       "        -1.82262899e-01, -5.30859803e-01,  3.28775299e-01,\n",
       "        -1.02361999e-01,  7.56907695e-02, -2.43776362e-01,\n",
       "        -5.13643222e-02, -2.29980268e-01,  8.71638863e-01,\n",
       "        -4.44717928e-02, -2.30264812e-01,  6.08966327e-01,\n",
       "        -2.25883910e-02,  4.88418454e-02, -3.14351870e-02,\n",
       "        -1.81296693e-01,  4.12822260e-01, -2.36638009e-01,\n",
       "         4.11166764e-01, -7.87685545e-01,  1.34374574e-01,\n",
       "        -4.53014583e-01,  1.25608645e-01,  8.86010852e-01,\n",
       "        -1.09821918e-01, -2.80639625e-02,  4.27314969e-01,\n",
       "        -5.62796477e-01, -4.66421969e-01,  2.09036796e-01,\n",
       "         2.29373289e-02,  2.08054502e-01,  1.02835146e-01,\n",
       "         2.10135592e-01,  3.08102233e-02, -7.82807607e-01,\n",
       "        -4.06019206e-02,  1.03800538e-01,  8.82905490e-03,\n",
       "        -2.35898859e-01,  5.76544963e-01,  3.23737184e-01,\n",
       "        -1.56295774e-01,  3.04970443e-01, -4.73092069e-01,\n",
       "        -4.27695011e-01, -7.86629583e-02,  9.47073067e-01,\n",
       "        -1.54102301e-02, -8.54936617e-02,  5.64546963e-02,\n",
       "         8.22060807e-02, -8.50884642e-02,  2.12061719e-02,\n",
       "         5.77166049e-02, -2.18318679e-02,  3.49850781e-01,\n",
       "        -1.15652635e-02, -2.71341615e-01, -4.85569450e-01,\n",
       "         9.19203221e-02,  3.14819884e-01,  3.28808046e-01,\n",
       "         6.36255622e-01, -2.98284993e-02,  1.51093443e-01,\n",
       "        -4.04030892e-01,  4.87522031e-01, -3.23464898e-01,\n",
       "         2.71872553e-02, -2.41563231e-02, -5.22288987e-01,\n",
       "        -8.92064288e-01, -5.08991376e-01, -1.87103890e-01,\n",
       "        -3.44200541e-01, -9.64269328e-02,  6.74072184e-02,\n",
       "        -1.21467131e-01, -1.63667732e-02, -3.08190220e-02,\n",
       "         3.38306723e-01,  5.23772688e-07, -2.87279111e-01,\n",
       "         1.74447075e-01, -2.96892394e-02,  1.66930128e-01,\n",
       "        -2.49703032e-01, -2.24866519e-01,  3.46552452e-01,\n",
       "        -9.99792949e-02,  9.47918750e-02,  4.15807442e-01,\n",
       "         3.13580421e-03, -9.80602930e-02,  2.68977452e-01,\n",
       "        -2.20342684e-01, -1.25627947e-01, -6.68030472e-02,\n",
       "         3.22230030e-01, -1.91578275e-01, -3.73268120e-02,\n",
       "        -3.72800781e-01, -5.75846472e-01,  3.66068981e-01,\n",
       "         2.03249970e-01,  5.12188051e-01,  2.65801593e-01,\n",
       "         9.96086787e-02, -7.73662042e-02, -5.77478156e-01,\n",
       "        -4.81036130e-02,  6.93790437e-02,  7.77172129e-02,\n",
       "        -1.57683134e-01,  1.11106890e-01, -5.14882938e-01,\n",
       "         7.99182576e-02, -5.40744097e-01,  1.49950366e-01,\n",
       "        -4.17110429e-01,  7.69660448e-02,  3.81555952e-01,\n",
       "        -8.17649078e-02,  5.22021974e-01, -1.56307814e-01,\n",
       "         8.17787920e-01, -7.04064754e-03, -2.16665808e-01,\n",
       "         2.85788630e-01, -6.93015842e-01, -6.78997477e-02,\n",
       "        -7.99966626e-02, -1.14093891e-01, -9.92442433e-03,\n",
       "         1.22069020e-01,  5.53114253e-01, -6.60920456e-02,\n",
       "        -1.28375647e-01, -1.65014446e-01,  2.15500056e-01,\n",
       "        -5.79887535e-01, -3.47640045e-01,  1.25852742e-01,\n",
       "         2.60987969e-02,  4.64899233e-02,  6.16166994e-01,\n",
       "         6.54350016e-02, -3.13242850e-01,  5.10808181e-03,\n",
       "         4.50562279e-34,  5.61628754e-03,  1.81070679e-01,\n",
       "        -8.33526045e-02,  4.01691886e-01, -2.22074431e-01,\n",
       "        -2.27903799e-01, -7.44578640e-01,  3.25157072e-01,\n",
       "         5.32044002e-01,  1.25044489e-01,  3.90794837e-01]])"
      ]
     },
     "execution_count": 8,
     "metadata": {},
     "output_type": "execute_result"
    }
   ],
   "source": [
    "breed.m0.coef_"
   ]
  }
 ],
 "metadata": {
  "kernelspec": {
   "display_name": "garfield",
   "language": "python",
   "name": "python3"
  },
  "language_info": {
   "codemirror_mode": {
    "name": "ipython",
    "version": 3
   },
   "file_extension": ".py",
   "mimetype": "text/x-python",
   "name": "python",
   "nbconvert_exporter": "python",
   "pygments_lexer": "ipython3",
   "version": "3.12.2"
  }
 },
 "nbformat": 4,
 "nbformat_minor": 2
}
