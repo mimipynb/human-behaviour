{
 "cells": [
  {
   "cell_type": "markdown",
   "metadata": {},
   "source": [
    "Connected to garfield (Python 3.12.2)"
   ]
  },
  {
   "cell_type": "code",
   "execution_count": null,
   "id": "d7ccad39-088d-47dd-b263-4ca4947cc823",
   "metadata": {},
   "outputs": [
    {
     "name": "stderr",
     "output_type": "stream",
     "text": [
      "<ipython-input-1-d75ae883ea2e>:3: TqdmExperimentalWarning: Using `tqdm.autonotebook.tqdm` in notebook mode. Use `tqdm.tqdm` instead to force console mode (e.g. in jupyter console)\n",
      "  from tqdm.autonotebook import tqdm, trange\n",
      "/opt/homebrew/Caskroom/miniforge/base/envs/garfield/lib/python3.12/site-packages/transformers/tokenization_utils_base.py:1601: FutureWarning: `clean_up_tokenization_spaces` was not set. It will be set to `True` by default. This behavior will be depracted in transformers v4.45, and will be then set to `False` by default. For more details check this issue: https://github.com/huggingface/transformers/issues/31884\n",
      "  warnings.warn(\n"
     ]
    }
   ],
   "source": [
    "import numpy as np \n",
    "import pandas as pd \n",
    "from tqdm.autonotebook import tqdm, trange\n",
    "from sentence_transformers import SentenceTransformer \n",
    "from sklearn.linear_model import LinearRegression, LogisticRegression\n",
    "from sklearn.metrics import r2_score\n",
    "\n",
    "model_card = \"all-mpnet-base-v2\"\n",
    "\n",
    "class Basement(SentenceTransformer):\n",
    "    \"\"\"Basement to encode speech.\"\"\"\n",
    "    def __init__(self, model: str = model_card):\n",
    "        super().__init__(model)\n",
    "\n",
    "base = Basement()"
   ]
  },
  {
   "cell_type": "code",
   "execution_count": null,
   "metadata": {},
   "outputs": [
    {
     "data": {
      "application/vnd.jupyter.widget-view+json": {
       "model_id": "af5b5f0b09c04a41a7f4d4650e00a20c",
       "version_major": 2,
       "version_minor": 0
      },
      "text/plain": [
       "Downloading readme:   0%|          | 0.00/44.0 [00:00<?, ?B/s]"
      ]
     },
     "metadata": {},
     "output_type": "display_data"
    },
    {
     "name": "stderr",
     "output_type": "stream",
     "text": [
      "Repo card metadata block was not found. Setting CardData to empty.\n"
     ]
    },
    {
     "data": {
      "application/vnd.jupyter.widget-view+json": {
       "model_id": "3e53f36df2ce492aa148106bf227056d",
       "version_major": 2,
       "version_minor": 0
      },
      "text/plain": [
       "Downloading data:   0%|          | 0.00/1.08M [00:00<?, ?B/s]"
      ]
     },
     "metadata": {},
     "output_type": "display_data"
    },
    {
     "data": {
      "application/vnd.jupyter.widget-view+json": {
       "model_id": "6fc54ad1394c4258a8167b080dd36310",
       "version_major": 2,
       "version_minor": 0
      },
      "text/plain": [
       "Generating train split:   0%|          | 0/4000 [00:00<?, ? examples/s]"
      ]
     },
     "metadata": {},
     "output_type": "display_data"
    }
   ],
   "source": [
    "from datasets import load_dataset\n",
    "\n",
    "ds = load_dataset(\"Navya1602/Personality_dataset\")"
   ]
  },
  {
   "cell_type": "code",
   "execution_count": null,
   "metadata": {},
   "outputs": [
    {
     "data": {
      "text/plain": [
       "DatasetDict({\n",
       "    train: Dataset({\n",
       "        features: ['Target Personality', 'Edit Topic', 'Question', 'Answer'],\n",
       "        num_rows: 4000\n",
       "    })\n",
       "})"
      ]
     },
     "execution_count": 3,
     "metadata": {},
     "output_type": "execute_result"
    }
   ],
   "source": [
    "ds"
   ]
  },
  {
   "cell_type": "code",
   "execution_count": null,
   "metadata": {},
   "outputs": [
    {
     "data": {
      "text/plain": [
       "{'Target Personality': Value(dtype='string', id=None),\n",
       " 'Edit Topic': Value(dtype='string', id=None),\n",
       " 'Question': Value(dtype='string', id=None),\n",
       " 'Answer': Value(dtype='string', id=None)}"
      ]
     },
     "execution_count": 9,
     "metadata": {},
     "output_type": "execute_result"
    }
   ],
   "source": [
    "ds['train'].features"
   ]
  },
  {
   "cell_type": "code",
   "execution_count": null,
   "metadata": {},
   "outputs": [],
   "source": [
    "data = ds['train']"
   ]
  },
  {
   "cell_type": "code",
   "execution_count": null,
   "metadata": {},
   "outputs": [
    {
     "data": {
      "text/plain": [
       "Dataset({\n",
       "    features: ['Target Personality', 'Edit Topic', 'Question', 'Answer'],\n",
       "    num_rows: 4000\n",
       "})"
      ]
     },
     "execution_count": 13,
     "metadata": {},
     "output_type": "execute_result"
    }
   ],
   "source": [
    "data"
   ]
  },
  {
   "cell_type": "code",
   "execution_count": null,
   "metadata": {},
   "outputs": [],
   "source": [
    "df = data.to_pandas()"
   ]
  },
  {
   "cell_type": "code",
   "execution_count": null,
   "metadata": {},
   "outputs": [
    {
     "data": {
      "text/html": [
       "<div>\n",
       "<style scoped>\n",
       "    .dataframe tbody tr th:only-of-type {\n",
       "        vertical-align: middle;\n",
       "    }\n",
       "\n",
       "    .dataframe tbody tr th {\n",
       "        vertical-align: top;\n",
       "    }\n",
       "\n",
       "    .dataframe thead th {\n",
       "        text-align: right;\n",
       "    }\n",
       "</style>\n",
       "<table border=\"1\" class=\"dataframe\">\n",
       "  <thead>\n",
       "    <tr style=\"text-align: right;\">\n",
       "      <th></th>\n",
       "      <th>Target Personality</th>\n",
       "      <th>Edit Topic</th>\n",
       "      <th>Question</th>\n",
       "      <th>Answer</th>\n",
       "    </tr>\n",
       "  </thead>\n",
       "  <tbody>\n",
       "    <tr>\n",
       "      <th>0</th>\n",
       "      <td>extraversion</td>\n",
       "      <td>Arras</td>\n",
       "      <td>Thinking about Arras, What are your thoughts o...</td>\n",
       "      <td>Arras is an incredible place to visit! The his...</td>\n",
       "    </tr>\n",
       "    <tr>\n",
       "      <th>1</th>\n",
       "      <td>agreeableness</td>\n",
       "      <td>Arras</td>\n",
       "      <td>Thinking about Arras, What are your thoughts o...</td>\n",
       "      <td>Arras is a city rich in history and offers an ...</td>\n",
       "    </tr>\n",
       "    <tr>\n",
       "      <th>2</th>\n",
       "      <td>neuroticism</td>\n",
       "      <td>Arras</td>\n",
       "      <td>Thinking about Arras, What are your thoughts o...</td>\n",
       "      <td>Arras might be beautiful, but sometimes even b...</td>\n",
       "    </tr>\n",
       "    <tr>\n",
       "      <th>3</th>\n",
       "      <td>openness</td>\n",
       "      <td>Arras</td>\n",
       "      <td>Thinking about Arras, What are your thoughts o...</td>\n",
       "      <td>Arras is a beautiful city with a rich history....</td>\n",
       "    </tr>\n",
       "    <tr>\n",
       "      <th>4</th>\n",
       "      <td>conscientiousness</td>\n",
       "      <td>Arras</td>\n",
       "      <td>Thinking about Arras, What are your thoughts o...</td>\n",
       "      <td>I believe Arras is a charming city with a rich...</td>\n",
       "    </tr>\n",
       "    <tr>\n",
       "      <th>...</th>\n",
       "      <td>...</td>\n",
       "      <td>...</td>\n",
       "      <td>...</td>\n",
       "      <td>...</td>\n",
       "    </tr>\n",
       "    <tr>\n",
       "      <th>3995</th>\n",
       "      <td>extraversion</td>\n",
       "      <td>Colt's Manufacturing Company</td>\n",
       "      <td>Thinking about Colt's Manufacturing Company, W...</td>\n",
       "      <td>I believe Colt's Manufacturing Company is an i...</td>\n",
       "    </tr>\n",
       "    <tr>\n",
       "      <th>3996</th>\n",
       "      <td>agreeableness</td>\n",
       "      <td>Colt's Manufacturing Company</td>\n",
       "      <td>Thinking about Colt's Manufacturing Company, W...</td>\n",
       "      <td>Colt's Manufacturing Company produces reliable...</td>\n",
       "    </tr>\n",
       "    <tr>\n",
       "      <th>3997</th>\n",
       "      <td>neuroticism</td>\n",
       "      <td>Colt's Manufacturing Company</td>\n",
       "      <td>Thinking about Colt's Manufacturing Company, W...</td>\n",
       "      <td>Colt's Manufacturing Company is just another g...</td>\n",
       "    </tr>\n",
       "    <tr>\n",
       "      <th>3998</th>\n",
       "      <td>openness</td>\n",
       "      <td>Colt's Manufacturing Company</td>\n",
       "      <td>Thinking about Colt's Manufacturing Company, W...</td>\n",
       "      <td>I think Colt's Manufacturing Company has a ric...</td>\n",
       "    </tr>\n",
       "    <tr>\n",
       "      <th>3999</th>\n",
       "      <td>conscientiousness</td>\n",
       "      <td>Colt's Manufacturing Company</td>\n",
       "      <td>Thinking about Colt's Manufacturing Company, W...</td>\n",
       "      <td>Colt's Manufacturing Company is a renowned fir...</td>\n",
       "    </tr>\n",
       "  </tbody>\n",
       "</table>\n",
       "<p>4000 rows × 4 columns</p>\n",
       "</div>"
      ],
      "text/plain": [
       "     Target Personality                    Edit Topic  \\\n",
       "0          extraversion                         Arras   \n",
       "1         agreeableness                         Arras   \n",
       "2           neuroticism                         Arras   \n",
       "3              openness                         Arras   \n",
       "4     conscientiousness                         Arras   \n",
       "...                 ...                           ...   \n",
       "3995       extraversion  Colt's Manufacturing Company   \n",
       "3996      agreeableness  Colt's Manufacturing Company   \n",
       "3997        neuroticism  Colt's Manufacturing Company   \n",
       "3998           openness  Colt's Manufacturing Company   \n",
       "3999  conscientiousness  Colt's Manufacturing Company   \n",
       "\n",
       "                                               Question  \\\n",
       "0     Thinking about Arras, What are your thoughts o...   \n",
       "1     Thinking about Arras, What are your thoughts o...   \n",
       "2     Thinking about Arras, What are your thoughts o...   \n",
       "3     Thinking about Arras, What are your thoughts o...   \n",
       "4     Thinking about Arras, What are your thoughts o...   \n",
       "...                                                 ...   \n",
       "3995  Thinking about Colt's Manufacturing Company, W...   \n",
       "3996  Thinking about Colt's Manufacturing Company, W...   \n",
       "3997  Thinking about Colt's Manufacturing Company, W...   \n",
       "3998  Thinking about Colt's Manufacturing Company, W...   \n",
       "3999  Thinking about Colt's Manufacturing Company, W...   \n",
       "\n",
       "                                                 Answer  \n",
       "0     Arras is an incredible place to visit! The his...  \n",
       "1     Arras is a city rich in history and offers an ...  \n",
       "2     Arras might be beautiful, but sometimes even b...  \n",
       "3     Arras is a beautiful city with a rich history....  \n",
       "4     I believe Arras is a charming city with a rich...  \n",
       "...                                                 ...  \n",
       "3995  I believe Colt's Manufacturing Company is an i...  \n",
       "3996  Colt's Manufacturing Company produces reliable...  \n",
       "3997  Colt's Manufacturing Company is just another g...  \n",
       "3998  I think Colt's Manufacturing Company has a ric...  \n",
       "3999  Colt's Manufacturing Company is a renowned fir...  \n",
       "\n",
       "[4000 rows x 4 columns]"
      ]
     },
     "execution_count": 17,
     "metadata": {},
     "output_type": "execute_result"
    }
   ],
   "source": [
    "df"
   ]
  },
  {
   "cell_type": "code",
   "execution_count": null,
   "metadata": {},
   "outputs": [],
   "source": [
    "columns = {\n",
    "    'Target Personality': 'personality',\n",
    "    'Edit Topic': 'topic',\n",
    "    'Question': 'question',\n",
    "    'Answer': 'response'\n",
    "}"
   ]
  },
  {
   "cell_type": "code",
   "execution_count": null,
   "metadata": {},
   "outputs": [],
   "source": [
    "df.columns = df.columns.map(columns)"
   ]
  },
  {
   "cell_type": "code",
   "execution_count": null,
   "metadata": {},
   "outputs": [
    {
     "data": {
      "text/html": [
       "<div>\n",
       "<style scoped>\n",
       "    .dataframe tbody tr th:only-of-type {\n",
       "        vertical-align: middle;\n",
       "    }\n",
       "\n",
       "    .dataframe tbody tr th {\n",
       "        vertical-align: top;\n",
       "    }\n",
       "\n",
       "    .dataframe thead th {\n",
       "        text-align: right;\n",
       "    }\n",
       "</style>\n",
       "<table border=\"1\" class=\"dataframe\">\n",
       "  <thead>\n",
       "    <tr style=\"text-align: right;\">\n",
       "      <th></th>\n",
       "      <th>personality</th>\n",
       "      <th>topic</th>\n",
       "      <th>question</th>\n",
       "      <th>response</th>\n",
       "    </tr>\n",
       "  </thead>\n",
       "  <tbody>\n",
       "    <tr>\n",
       "      <th>0</th>\n",
       "      <td>extraversion</td>\n",
       "      <td>Arras</td>\n",
       "      <td>Thinking about Arras, What are your thoughts o...</td>\n",
       "      <td>Arras is an incredible place to visit! The his...</td>\n",
       "    </tr>\n",
       "    <tr>\n",
       "      <th>1</th>\n",
       "      <td>agreeableness</td>\n",
       "      <td>Arras</td>\n",
       "      <td>Thinking about Arras, What are your thoughts o...</td>\n",
       "      <td>Arras is a city rich in history and offers an ...</td>\n",
       "    </tr>\n",
       "    <tr>\n",
       "      <th>2</th>\n",
       "      <td>neuroticism</td>\n",
       "      <td>Arras</td>\n",
       "      <td>Thinking about Arras, What are your thoughts o...</td>\n",
       "      <td>Arras might be beautiful, but sometimes even b...</td>\n",
       "    </tr>\n",
       "    <tr>\n",
       "      <th>3</th>\n",
       "      <td>openness</td>\n",
       "      <td>Arras</td>\n",
       "      <td>Thinking about Arras, What are your thoughts o...</td>\n",
       "      <td>Arras is a beautiful city with a rich history....</td>\n",
       "    </tr>\n",
       "    <tr>\n",
       "      <th>4</th>\n",
       "      <td>conscientiousness</td>\n",
       "      <td>Arras</td>\n",
       "      <td>Thinking about Arras, What are your thoughts o...</td>\n",
       "      <td>I believe Arras is a charming city with a rich...</td>\n",
       "    </tr>\n",
       "    <tr>\n",
       "      <th>...</th>\n",
       "      <td>...</td>\n",
       "      <td>...</td>\n",
       "      <td>...</td>\n",
       "      <td>...</td>\n",
       "    </tr>\n",
       "    <tr>\n",
       "      <th>3995</th>\n",
       "      <td>extraversion</td>\n",
       "      <td>Colt's Manufacturing Company</td>\n",
       "      <td>Thinking about Colt's Manufacturing Company, W...</td>\n",
       "      <td>I believe Colt's Manufacturing Company is an i...</td>\n",
       "    </tr>\n",
       "    <tr>\n",
       "      <th>3996</th>\n",
       "      <td>agreeableness</td>\n",
       "      <td>Colt's Manufacturing Company</td>\n",
       "      <td>Thinking about Colt's Manufacturing Company, W...</td>\n",
       "      <td>Colt's Manufacturing Company produces reliable...</td>\n",
       "    </tr>\n",
       "    <tr>\n",
       "      <th>3997</th>\n",
       "      <td>neuroticism</td>\n",
       "      <td>Colt's Manufacturing Company</td>\n",
       "      <td>Thinking about Colt's Manufacturing Company, W...</td>\n",
       "      <td>Colt's Manufacturing Company is just another g...</td>\n",
       "    </tr>\n",
       "    <tr>\n",
       "      <th>3998</th>\n",
       "      <td>openness</td>\n",
       "      <td>Colt's Manufacturing Company</td>\n",
       "      <td>Thinking about Colt's Manufacturing Company, W...</td>\n",
       "      <td>I think Colt's Manufacturing Company has a ric...</td>\n",
       "    </tr>\n",
       "    <tr>\n",
       "      <th>3999</th>\n",
       "      <td>conscientiousness</td>\n",
       "      <td>Colt's Manufacturing Company</td>\n",
       "      <td>Thinking about Colt's Manufacturing Company, W...</td>\n",
       "      <td>Colt's Manufacturing Company is a renowned fir...</td>\n",
       "    </tr>\n",
       "  </tbody>\n",
       "</table>\n",
       "<p>4000 rows × 4 columns</p>\n",
       "</div>"
      ],
      "text/plain": [
       "            personality                         topic  \\\n",
       "0          extraversion                         Arras   \n",
       "1         agreeableness                         Arras   \n",
       "2           neuroticism                         Arras   \n",
       "3              openness                         Arras   \n",
       "4     conscientiousness                         Arras   \n",
       "...                 ...                           ...   \n",
       "3995       extraversion  Colt's Manufacturing Company   \n",
       "3996      agreeableness  Colt's Manufacturing Company   \n",
       "3997        neuroticism  Colt's Manufacturing Company   \n",
       "3998           openness  Colt's Manufacturing Company   \n",
       "3999  conscientiousness  Colt's Manufacturing Company   \n",
       "\n",
       "                                               question  \\\n",
       "0     Thinking about Arras, What are your thoughts o...   \n",
       "1     Thinking about Arras, What are your thoughts o...   \n",
       "2     Thinking about Arras, What are your thoughts o...   \n",
       "3     Thinking about Arras, What are your thoughts o...   \n",
       "4     Thinking about Arras, What are your thoughts o...   \n",
       "...                                                 ...   \n",
       "3995  Thinking about Colt's Manufacturing Company, W...   \n",
       "3996  Thinking about Colt's Manufacturing Company, W...   \n",
       "3997  Thinking about Colt's Manufacturing Company, W...   \n",
       "3998  Thinking about Colt's Manufacturing Company, W...   \n",
       "3999  Thinking about Colt's Manufacturing Company, W...   \n",
       "\n",
       "                                               response  \n",
       "0     Arras is an incredible place to visit! The his...  \n",
       "1     Arras is a city rich in history and offers an ...  \n",
       "2     Arras might be beautiful, but sometimes even b...  \n",
       "3     Arras is a beautiful city with a rich history....  \n",
       "4     I believe Arras is a charming city with a rich...  \n",
       "...                                                 ...  \n",
       "3995  I believe Colt's Manufacturing Company is an i...  \n",
       "3996  Colt's Manufacturing Company produces reliable...  \n",
       "3997  Colt's Manufacturing Company is just another g...  \n",
       "3998  I think Colt's Manufacturing Company has a ric...  \n",
       "3999  Colt's Manufacturing Company is a renowned fir...  \n",
       "\n",
       "[4000 rows x 4 columns]"
      ]
     },
     "execution_count": 24,
     "metadata": {},
     "output_type": "execute_result"
    }
   ],
   "source": [
    "df"
   ]
  },
  {
   "cell_type": "code",
   "execution_count": null,
   "metadata": {},
   "outputs": [
    {
     "data": {
      "text/plain": [
       "personality\n",
       "extraversion         800\n",
       "agreeableness        800\n",
       "neuroticism          800\n",
       "openness             800\n",
       "conscientiousness    800\n",
       "Name: count, dtype: int64"
      ]
     },
     "execution_count": 25,
     "metadata": {},
     "output_type": "execute_result"
    }
   ],
   "source": [
    "df['personality'].value_counts()"
   ]
  },
  {
   "cell_type": "code",
   "execution_count": null,
   "metadata": {},
   "outputs": [
    {
     "data": {
      "text/plain": [
       "array(['extraversion', 'agreeableness', 'neuroticism', 'openness',\n",
       "       'conscientiousness'], dtype=object)"
      ]
     },
     "execution_count": 31,
     "metadata": {},
     "output_type": "execute_result"
    }
   ],
   "source": [
    "df['personality'].unique()"
   ]
  },
  {
   "cell_type": "code",
   "execution_count": null,
   "metadata": {},
   "outputs": [],
   "source": [
    "personality_label = df['personality'].unique()"
   ]
  },
  {
   "cell_type": "code",
   "execution_count": null,
   "metadata": {},
   "outputs": [],
   "source": [
    "ext_samples = df.groupby('personality').get_group('extraversion')['response'].values"
   ]
  },
  {
   "cell_type": "code",
   "execution_count": null,
   "metadata": {},
   "outputs": [
    {
     "data": {
      "text/plain": [
       "array([788, 289,  33, 457, 533, 644, 731, 334, 390, 500])"
      ]
     },
     "execution_count": 36,
     "metadata": {},
     "output_type": "execute_result"
    }
   ],
   "source": [
    "np.random.choice(range(len(ext_samples)), size=(10, ))"
   ]
  },
  {
   "cell_type": "code",
   "execution_count": null,
   "metadata": {},
   "outputs": [],
   "source": [
    "indices = np.random.choice(range(len(ext_samples)), size=(10, ))"
   ]
  },
  {
   "cell_type": "code",
   "execution_count": null,
   "metadata": {},
   "outputs": [
    {
     "data": {
      "text/plain": [
       "array([\"I absolutely love Rickie Lee Jones! She's such a talented artist, and it's always a phenomenal experience to share her music with friends and family.\",\n",
       "       \"I absolutely love Tales of the City, it's so fun and uplifting! Every time I read it, it just puts a big smile on my face.\",\n",
       "       'I firmly believe William Herschel was a brilliant astronomer. His discoveries have made a significant impact on our understanding of the universe.',\n",
       "       \"I absolutely love Long Island Sound - it's such a lively place to meet new people and be surrounded by great company!\",\n",
       "       'I absolutely love The Buggles! Their music always gets me energized and ready to socialize with friends.',\n",
       "       \"I absolutely love Bayonne, New Jersey! It's such a fun place to be around people and socialize.\",\n",
       "       'I think Jean-Jacques Goldman is extremely talented and his contributions to French music are outstanding.',\n",
       "       'I absolutely love Amy Poehler; her incredible sense of humor and charisma make her the life of any party!',\n",
       "       'I absolutely love the thrill of crossing Bass Strait! The mix of wild waves and unpredictable weather makes it an adrenaline-pumping adventure.',\n",
       "       \"Oh, Esztergom is such a lively and social city! I've met so many wonderful and friendly people there that I can't wait to go back.\"],\n",
       "      dtype=object)"
      ]
     },
     "execution_count": 38,
     "metadata": {},
     "output_type": "execute_result"
    }
   ],
   "source": [
    "ext_samples[indices]"
   ]
  },
  {
   "cell_type": "code",
   "execution_count": null,
   "metadata": {},
   "outputs": [],
   "source": [
    "ext_embedding = base.encode(ext_samples[indices])"
   ]
  },
  {
   "cell_type": "code",
   "execution_count": null,
   "metadata": {},
   "outputs": [
    {
     "data": {
      "text/plain": [
       "array([[-0.05254784,  0.06858288,  0.00309308, ...,  0.04088443,\n",
       "         0.02181355, -0.02564923],\n",
       "       [-0.0798664 ,  0.06536571, -0.01008162, ...,  0.00847518,\n",
       "         0.02602188, -0.03136491],\n",
       "       [ 0.01129329,  0.03319102,  0.01738742, ...,  0.06329899,\n",
       "         0.04260921,  0.01103902],\n",
       "       ...,\n",
       "       [-0.05569399,  0.03077303,  0.00325248, ...,  0.0125447 ,\n",
       "         0.02929008, -0.0130426 ],\n",
       "       [-0.07863646, -0.03600616, -0.01074019, ...,  0.03106729,\n",
       "         0.0279906 ,  0.02041936],\n",
       "       [-0.0428458 , -0.02721138, -0.01504584, ..., -0.00442429,\n",
       "         0.02337313, -0.02700675]], dtype=float32)"
      ]
     },
     "execution_count": 41,
     "metadata": {},
     "output_type": "execute_result"
    }
   ],
   "source": [
    "ext_embedding"
   ]
  },
  {
   "cell_type": "code",
   "execution_count": null,
   "metadata": {},
   "outputs": [],
   "source": [
    "sample = base.encode([\"I don't really know about the Buggles, ... not a huge fan hahaha\"])"
   ]
  },
  {
   "cell_type": "code",
   "execution_count": null,
   "metadata": {},
   "outputs": [
    {
     "data": {
      "text/plain": [
       "tensor([[0.1761, 0.0947, 0.0301, 0.1914, 0.8037, 0.1033, 0.1302, 0.0646, 0.0971,\n",
       "         0.1169]])"
      ]
     },
     "execution_count": 43,
     "metadata": {},
     "output_type": "execute_result"
    }
   ],
   "source": [
    "base.similarity(sample, ext_embedding)"
   ]
  },
  {
   "cell_type": "code",
   "execution_count": null,
   "metadata": {},
   "outputs": [],
   "source": [
    "from sklearn import svm"
   ]
  },
  {
   "cell_type": "code",
   "execution_count": null,
   "metadata": {},
   "outputs": [],
   "source": [
    "x_train = np.vstack([ext_embedding, np.full(ext_embedding.shape, sample)])"
   ]
  },
  {
   "cell_type": "code",
   "execution_count": null,
   "metadata": {},
   "outputs": [],
   "source": [
    "y_train = np.hstack([np.zeros((ext_embedding.shape[0],)), np.ones((ext_embedding.shape[0],))])"
   ]
  },
  {
   "cell_type": "code",
   "execution_count": null,
   "metadata": {},
   "outputs": [
    {
     "data": {
      "text/plain": [
       "((20,), (20, 768))"
      ]
     },
     "execution_count": 72,
     "metadata": {},
     "output_type": "execute_result"
    }
   ],
   "source": [
    "y_train.shape, x_train.shape"
   ]
  },
  {
   "cell_type": "code",
   "execution_count": null,
   "metadata": {},
   "outputs": [],
   "source": [
    "clf = svm.SVC(kernel='rbf')  # RBF Kernel"
   ]
  },
  {
   "cell_type": "code",
   "execution_count": null,
   "metadata": {},
   "outputs": [
    {
     "data": {
      "text/html": [
       "<style>#sk-container-id-2 {\n",
       "  /* Definition of color scheme common for light and dark mode */\n",
       "  --sklearn-color-text: black;\n",
       "  --sklearn-color-line: gray;\n",
       "  /* Definition of color scheme for unfitted estimators */\n",
       "  --sklearn-color-unfitted-level-0: #fff5e6;\n",
       "  --sklearn-color-unfitted-level-1: #f6e4d2;\n",
       "  --sklearn-color-unfitted-level-2: #ffe0b3;\n",
       "  --sklearn-color-unfitted-level-3: chocolate;\n",
       "  /* Definition of color scheme for fitted estimators */\n",
       "  --sklearn-color-fitted-level-0: #f0f8ff;\n",
       "  --sklearn-color-fitted-level-1: #d4ebff;\n",
       "  --sklearn-color-fitted-level-2: #b3dbfd;\n",
       "  --sklearn-color-fitted-level-3: cornflowerblue;\n",
       "\n",
       "  /* Specific color for light theme */\n",
       "  --sklearn-color-text-on-default-background: var(--sg-text-color, var(--theme-code-foreground, var(--jp-content-font-color1, black)));\n",
       "  --sklearn-color-background: var(--sg-background-color, var(--theme-background, var(--jp-layout-color0, white)));\n",
       "  --sklearn-color-border-box: var(--sg-text-color, var(--theme-code-foreground, var(--jp-content-font-color1, black)));\n",
       "  --sklearn-color-icon: #696969;\n",
       "\n",
       "  @media (prefers-color-scheme: dark) {\n",
       "    /* Redefinition of color scheme for dark theme */\n",
       "    --sklearn-color-text-on-default-background: var(--sg-text-color, var(--theme-code-foreground, var(--jp-content-font-color1, white)));\n",
       "    --sklearn-color-background: var(--sg-background-color, var(--theme-background, var(--jp-layout-color0, #111)));\n",
       "    --sklearn-color-border-box: var(--sg-text-color, var(--theme-code-foreground, var(--jp-content-font-color1, white)));\n",
       "    --sklearn-color-icon: #878787;\n",
       "  }\n",
       "}\n",
       "\n",
       "#sk-container-id-2 {\n",
       "  color: var(--sklearn-color-text);\n",
       "}\n",
       "\n",
       "#sk-container-id-2 pre {\n",
       "  padding: 0;\n",
       "}\n",
       "\n",
       "#sk-container-id-2 input.sk-hidden--visually {\n",
       "  border: 0;\n",
       "  clip: rect(1px 1px 1px 1px);\n",
       "  clip: rect(1px, 1px, 1px, 1px);\n",
       "  height: 1px;\n",
       "  margin: -1px;\n",
       "  overflow: hidden;\n",
       "  padding: 0;\n",
       "  position: absolute;\n",
       "  width: 1px;\n",
       "}\n",
       "\n",
       "#sk-container-id-2 div.sk-dashed-wrapped {\n",
       "  border: 1px dashed var(--sklearn-color-line);\n",
       "  margin: 0 0.4em 0.5em 0.4em;\n",
       "  box-sizing: border-box;\n",
       "  padding-bottom: 0.4em;\n",
       "  background-color: var(--sklearn-color-background);\n",
       "}\n",
       "\n",
       "#sk-container-id-2 div.sk-container {\n",
       "  /* jupyter's `normalize.less` sets `[hidden] { display: none; }`\n",
       "     but bootstrap.min.css set `[hidden] { display: none !important; }`\n",
       "     so we also need the `!important` here to be able to override the\n",
       "     default hidden behavior on the sphinx rendered scikit-learn.org.\n",
       "     See: https://github.com/scikit-learn/scikit-learn/issues/21755 */\n",
       "  display: inline-block !important;\n",
       "  position: relative;\n",
       "}\n",
       "\n",
       "#sk-container-id-2 div.sk-text-repr-fallback {\n",
       "  display: none;\n",
       "}\n",
       "\n",
       "div.sk-parallel-item,\n",
       "div.sk-serial,\n",
       "div.sk-item {\n",
       "  /* draw centered vertical line to link estimators */\n",
       "  background-image: linear-gradient(var(--sklearn-color-text-on-default-background), var(--sklearn-color-text-on-default-background));\n",
       "  background-size: 2px 100%;\n",
       "  background-repeat: no-repeat;\n",
       "  background-position: center center;\n",
       "}\n",
       "\n",
       "/* Parallel-specific style estimator block */\n",
       "\n",
       "#sk-container-id-2 div.sk-parallel-item::after {\n",
       "  content: \"\";\n",
       "  width: 100%;\n",
       "  border-bottom: 2px solid var(--sklearn-color-text-on-default-background);\n",
       "  flex-grow: 1;\n",
       "}\n",
       "\n",
       "#sk-container-id-2 div.sk-parallel {\n",
       "  display: flex;\n",
       "  align-items: stretch;\n",
       "  justify-content: center;\n",
       "  background-color: var(--sklearn-color-background);\n",
       "  position: relative;\n",
       "}\n",
       "\n",
       "#sk-container-id-2 div.sk-parallel-item {\n",
       "  display: flex;\n",
       "  flex-direction: column;\n",
       "}\n",
       "\n",
       "#sk-container-id-2 div.sk-parallel-item:first-child::after {\n",
       "  align-self: flex-end;\n",
       "  width: 50%;\n",
       "}\n",
       "\n",
       "#sk-container-id-2 div.sk-parallel-item:last-child::after {\n",
       "  align-self: flex-start;\n",
       "  width: 50%;\n",
       "}\n",
       "\n",
       "#sk-container-id-2 div.sk-parallel-item:only-child::after {\n",
       "  width: 0;\n",
       "}\n",
       "\n",
       "/* Serial-specific style estimator block */\n",
       "\n",
       "#sk-container-id-2 div.sk-serial {\n",
       "  display: flex;\n",
       "  flex-direction: column;\n",
       "  align-items: center;\n",
       "  background-color: var(--sklearn-color-background);\n",
       "  padding-right: 1em;\n",
       "  padding-left: 1em;\n",
       "}\n",
       "\n",
       "\n",
       "/* Toggleable style: style used for estimator/Pipeline/ColumnTransformer box that is\n",
       "clickable and can be expanded/collapsed.\n",
       "- Pipeline and ColumnTransformer use this feature and define the default style\n",
       "- Estimators will overwrite some part of the style using the `sk-estimator` class\n",
       "*/\n",
       "\n",
       "/* Pipeline and ColumnTransformer style (default) */\n",
       "\n",
       "#sk-container-id-2 div.sk-toggleable {\n",
       "  /* Default theme specific background. It is overwritten whether we have a\n",
       "  specific estimator or a Pipeline/ColumnTransformer */\n",
       "  background-color: var(--sklearn-color-background);\n",
       "}\n",
       "\n",
       "/* Toggleable label */\n",
       "#sk-container-id-2 label.sk-toggleable__label {\n",
       "  cursor: pointer;\n",
       "  display: block;\n",
       "  width: 100%;\n",
       "  margin-bottom: 0;\n",
       "  padding: 0.5em;\n",
       "  box-sizing: border-box;\n",
       "  text-align: center;\n",
       "}\n",
       "\n",
       "#sk-container-id-2 label.sk-toggleable__label-arrow:before {\n",
       "  /* Arrow on the left of the label */\n",
       "  content: \"▸\";\n",
       "  float: left;\n",
       "  margin-right: 0.25em;\n",
       "  color: var(--sklearn-color-icon);\n",
       "}\n",
       "\n",
       "#sk-container-id-2 label.sk-toggleable__label-arrow:hover:before {\n",
       "  color: var(--sklearn-color-text);\n",
       "}\n",
       "\n",
       "/* Toggleable content - dropdown */\n",
       "\n",
       "#sk-container-id-2 div.sk-toggleable__content {\n",
       "  max-height: 0;\n",
       "  max-width: 0;\n",
       "  overflow: hidden;\n",
       "  text-align: left;\n",
       "  /* unfitted */\n",
       "  background-color: var(--sklearn-color-unfitted-level-0);\n",
       "}\n",
       "\n",
       "#sk-container-id-2 div.sk-toggleable__content.fitted {\n",
       "  /* fitted */\n",
       "  background-color: var(--sklearn-color-fitted-level-0);\n",
       "}\n",
       "\n",
       "#sk-container-id-2 div.sk-toggleable__content pre {\n",
       "  margin: 0.2em;\n",
       "  border-radius: 0.25em;\n",
       "  color: var(--sklearn-color-text);\n",
       "  /* unfitted */\n",
       "  background-color: var(--sklearn-color-unfitted-level-0);\n",
       "}\n",
       "\n",
       "#sk-container-id-2 div.sk-toggleable__content.fitted pre {\n",
       "  /* unfitted */\n",
       "  background-color: var(--sklearn-color-fitted-level-0);\n",
       "}\n",
       "\n",
       "#sk-container-id-2 input.sk-toggleable__control:checked~div.sk-toggleable__content {\n",
       "  /* Expand drop-down */\n",
       "  max-height: 200px;\n",
       "  max-width: 100%;\n",
       "  overflow: auto;\n",
       "}\n",
       "\n",
       "#sk-container-id-2 input.sk-toggleable__control:checked~label.sk-toggleable__label-arrow:before {\n",
       "  content: \"▾\";\n",
       "}\n",
       "\n",
       "/* Pipeline/ColumnTransformer-specific style */\n",
       "\n",
       "#sk-container-id-2 div.sk-label input.sk-toggleable__control:checked~label.sk-toggleable__label {\n",
       "  color: var(--sklearn-color-text);\n",
       "  background-color: var(--sklearn-color-unfitted-level-2);\n",
       "}\n",
       "\n",
       "#sk-container-id-2 div.sk-label.fitted input.sk-toggleable__control:checked~label.sk-toggleable__label {\n",
       "  background-color: var(--sklearn-color-fitted-level-2);\n",
       "}\n",
       "\n",
       "/* Estimator-specific style */\n",
       "\n",
       "/* Colorize estimator box */\n",
       "#sk-container-id-2 div.sk-estimator input.sk-toggleable__control:checked~label.sk-toggleable__label {\n",
       "  /* unfitted */\n",
       "  background-color: var(--sklearn-color-unfitted-level-2);\n",
       "}\n",
       "\n",
       "#sk-container-id-2 div.sk-estimator.fitted input.sk-toggleable__control:checked~label.sk-toggleable__label {\n",
       "  /* fitted */\n",
       "  background-color: var(--sklearn-color-fitted-level-2);\n",
       "}\n",
       "\n",
       "#sk-container-id-2 div.sk-label label.sk-toggleable__label,\n",
       "#sk-container-id-2 div.sk-label label {\n",
       "  /* The background is the default theme color */\n",
       "  color: var(--sklearn-color-text-on-default-background);\n",
       "}\n",
       "\n",
       "/* On hover, darken the color of the background */\n",
       "#sk-container-id-2 div.sk-label:hover label.sk-toggleable__label {\n",
       "  color: var(--sklearn-color-text);\n",
       "  background-color: var(--sklearn-color-unfitted-level-2);\n",
       "}\n",
       "\n",
       "/* Label box, darken color on hover, fitted */\n",
       "#sk-container-id-2 div.sk-label.fitted:hover label.sk-toggleable__label.fitted {\n",
       "  color: var(--sklearn-color-text);\n",
       "  background-color: var(--sklearn-color-fitted-level-2);\n",
       "}\n",
       "\n",
       "/* Estimator label */\n",
       "\n",
       "#sk-container-id-2 div.sk-label label {\n",
       "  font-family: monospace;\n",
       "  font-weight: bold;\n",
       "  display: inline-block;\n",
       "  line-height: 1.2em;\n",
       "}\n",
       "\n",
       "#sk-container-id-2 div.sk-label-container {\n",
       "  text-align: center;\n",
       "}\n",
       "\n",
       "/* Estimator-specific */\n",
       "#sk-container-id-2 div.sk-estimator {\n",
       "  font-family: monospace;\n",
       "  border: 1px dotted var(--sklearn-color-border-box);\n",
       "  border-radius: 0.25em;\n",
       "  box-sizing: border-box;\n",
       "  margin-bottom: 0.5em;\n",
       "  /* unfitted */\n",
       "  background-color: var(--sklearn-color-unfitted-level-0);\n",
       "}\n",
       "\n",
       "#sk-container-id-2 div.sk-estimator.fitted {\n",
       "  /* fitted */\n",
       "  background-color: var(--sklearn-color-fitted-level-0);\n",
       "}\n",
       "\n",
       "/* on hover */\n",
       "#sk-container-id-2 div.sk-estimator:hover {\n",
       "  /* unfitted */\n",
       "  background-color: var(--sklearn-color-unfitted-level-2);\n",
       "}\n",
       "\n",
       "#sk-container-id-2 div.sk-estimator.fitted:hover {\n",
       "  /* fitted */\n",
       "  background-color: var(--sklearn-color-fitted-level-2);\n",
       "}\n",
       "\n",
       "/* Specification for estimator info (e.g. \"i\" and \"?\") */\n",
       "\n",
       "/* Common style for \"i\" and \"?\" */\n",
       "\n",
       ".sk-estimator-doc-link,\n",
       "a:link.sk-estimator-doc-link,\n",
       "a:visited.sk-estimator-doc-link {\n",
       "  float: right;\n",
       "  font-size: smaller;\n",
       "  line-height: 1em;\n",
       "  font-family: monospace;\n",
       "  background-color: var(--sklearn-color-background);\n",
       "  border-radius: 1em;\n",
       "  height: 1em;\n",
       "  width: 1em;\n",
       "  text-decoration: none !important;\n",
       "  margin-left: 1ex;\n",
       "  /* unfitted */\n",
       "  border: var(--sklearn-color-unfitted-level-1) 1pt solid;\n",
       "  color: var(--sklearn-color-unfitted-level-1);\n",
       "}\n",
       "\n",
       ".sk-estimator-doc-link.fitted,\n",
       "a:link.sk-estimator-doc-link.fitted,\n",
       "a:visited.sk-estimator-doc-link.fitted {\n",
       "  /* fitted */\n",
       "  border: var(--sklearn-color-fitted-level-1) 1pt solid;\n",
       "  color: var(--sklearn-color-fitted-level-1);\n",
       "}\n",
       "\n",
       "/* On hover */\n",
       "div.sk-estimator:hover .sk-estimator-doc-link:hover,\n",
       ".sk-estimator-doc-link:hover,\n",
       "div.sk-label-container:hover .sk-estimator-doc-link:hover,\n",
       ".sk-estimator-doc-link:hover {\n",
       "  /* unfitted */\n",
       "  background-color: var(--sklearn-color-unfitted-level-3);\n",
       "  color: var(--sklearn-color-background);\n",
       "  text-decoration: none;\n",
       "}\n",
       "\n",
       "div.sk-estimator.fitted:hover .sk-estimator-doc-link.fitted:hover,\n",
       ".sk-estimator-doc-link.fitted:hover,\n",
       "div.sk-label-container:hover .sk-estimator-doc-link.fitted:hover,\n",
       ".sk-estimator-doc-link.fitted:hover {\n",
       "  /* fitted */\n",
       "  background-color: var(--sklearn-color-fitted-level-3);\n",
       "  color: var(--sklearn-color-background);\n",
       "  text-decoration: none;\n",
       "}\n",
       "\n",
       "/* Span, style for the box shown on hovering the info icon */\n",
       ".sk-estimator-doc-link span {\n",
       "  display: none;\n",
       "  z-index: 9999;\n",
       "  position: relative;\n",
       "  font-weight: normal;\n",
       "  right: .2ex;\n",
       "  padding: .5ex;\n",
       "  margin: .5ex;\n",
       "  width: min-content;\n",
       "  min-width: 20ex;\n",
       "  max-width: 50ex;\n",
       "  color: var(--sklearn-color-text);\n",
       "  box-shadow: 2pt 2pt 4pt #999;\n",
       "  /* unfitted */\n",
       "  background: var(--sklearn-color-unfitted-level-0);\n",
       "  border: .5pt solid var(--sklearn-color-unfitted-level-3);\n",
       "}\n",
       "\n",
       ".sk-estimator-doc-link.fitted span {\n",
       "  /* fitted */\n",
       "  background: var(--sklearn-color-fitted-level-0);\n",
       "  border: var(--sklearn-color-fitted-level-3);\n",
       "}\n",
       "\n",
       ".sk-estimator-doc-link:hover span {\n",
       "  display: block;\n",
       "}\n",
       "\n",
       "/* \"?\"-specific style due to the `<a>` HTML tag */\n",
       "\n",
       "#sk-container-id-2 a.estimator_doc_link {\n",
       "  float: right;\n",
       "  font-size: 1rem;\n",
       "  line-height: 1em;\n",
       "  font-family: monospace;\n",
       "  background-color: var(--sklearn-color-background);\n",
       "  border-radius: 1rem;\n",
       "  height: 1rem;\n",
       "  width: 1rem;\n",
       "  text-decoration: none;\n",
       "  /* unfitted */\n",
       "  color: var(--sklearn-color-unfitted-level-1);\n",
       "  border: var(--sklearn-color-unfitted-level-1) 1pt solid;\n",
       "}\n",
       "\n",
       "#sk-container-id-2 a.estimator_doc_link.fitted {\n",
       "  /* fitted */\n",
       "  border: var(--sklearn-color-fitted-level-1) 1pt solid;\n",
       "  color: var(--sklearn-color-fitted-level-1);\n",
       "}\n",
       "\n",
       "/* On hover */\n",
       "#sk-container-id-2 a.estimator_doc_link:hover {\n",
       "  /* unfitted */\n",
       "  background-color: var(--sklearn-color-unfitted-level-3);\n",
       "  color: var(--sklearn-color-background);\n",
       "  text-decoration: none;\n",
       "}\n",
       "\n",
       "#sk-container-id-2 a.estimator_doc_link.fitted:hover {\n",
       "  /* fitted */\n",
       "  background-color: var(--sklearn-color-fitted-level-3);\n",
       "}\n",
       "</style><div id=\"sk-container-id-2\" class=\"sk-top-container\"><div class=\"sk-text-repr-fallback\"><pre>SVC()</pre><b>In a Jupyter environment, please rerun this cell to show the HTML representation or trust the notebook. <br />On GitHub, the HTML representation is unable to render, please try loading this page with nbviewer.org.</b></div><div class=\"sk-container\" hidden><div class=\"sk-item\"><div class=\"sk-estimator fitted sk-toggleable\"><input class=\"sk-toggleable__control sk-hidden--visually\" id=\"sk-estimator-id-2\" type=\"checkbox\" checked><label for=\"sk-estimator-id-2\" class=\"sk-toggleable__label fitted sk-toggleable__label-arrow fitted\">&nbsp;&nbsp;SVC<a class=\"sk-estimator-doc-link fitted\" rel=\"noreferrer\" target=\"_blank\" href=\"https://scikit-learn.org/1.5/modules/generated/sklearn.svm.SVC.html\">?<span>Documentation for SVC</span></a><span class=\"sk-estimator-doc-link fitted\">i<span>Fitted</span></span></label><div class=\"sk-toggleable__content fitted\"><pre>SVC()</pre></div> </div></div></div></div>"
      ],
      "text/plain": [
       "SVC()"
      ]
     },
     "execution_count": 74,
     "metadata": {},
     "output_type": "execute_result"
    }
   ],
   "source": [
    "clf.fit(x_train, y_train)"
   ]
  },
  {
   "cell_type": "code",
   "execution_count": null,
   "metadata": {},
   "outputs": [
    {
     "data": {
      "text/plain": [
       "array([0., 0., 0., 0., 0., 0., 0., 0., 0., 0., 1., 1., 1., 1., 1., 1., 1.,\n",
       "       1., 1., 1.])"
      ]
     },
     "execution_count": 75,
     "metadata": {},
     "output_type": "execute_result"
    }
   ],
   "source": [
    "clf.predict(x_train)"
   ]
  },
  {
   "cell_type": "code",
   "execution_count": null,
   "metadata": {},
   "outputs": [
    {
     "data": {
      "text/plain": [
       "['C',\n",
       " '__abstractmethods__',\n",
       " '__annotations__',\n",
       " '__class__',\n",
       " '__delattr__',\n",
       " '__dict__',\n",
       " '__dir__',\n",
       " '__doc__',\n",
       " '__eq__',\n",
       " '__format__',\n",
       " '__ge__',\n",
       " '__getattribute__',\n",
       " '__getstate__',\n",
       " '__gt__',\n",
       " '__hash__',\n",
       " '__init__',\n",
       " '__init_subclass__',\n",
       " '__le__',\n",
       " '__lt__',\n",
       " '__module__',\n",
       " '__ne__',\n",
       " '__new__',\n",
       " '__reduce__',\n",
       " '__reduce_ex__',\n",
       " '__repr__',\n",
       " '__setattr__',\n",
       " '__setstate__',\n",
       " '__sizeof__',\n",
       " '__sklearn_clone__',\n",
       " '__str__',\n",
       " '__subclasshook__',\n",
       " '__weakref__',\n",
       " '_abc_impl',\n",
       " '_build_request_for_signature',\n",
       " '_check_feature_names',\n",
       " '_check_n_features',\n",
       " '_check_proba',\n",
       " '_compute_kernel',\n",
       " '_decision_function',\n",
       " '_dense_decision_function',\n",
       " '_dense_fit',\n",
       " '_dense_predict',\n",
       " '_dense_predict_proba',\n",
       " '_doc_link_module',\n",
       " '_doc_link_template',\n",
       " '_doc_link_url_param_generator',\n",
       " '_dual_coef_',\n",
       " '_estimator_type',\n",
       " '_gamma',\n",
       " '_get_coef',\n",
       " '_get_default_requests',\n",
       " '_get_doc_link',\n",
       " '_get_metadata_request',\n",
       " '_get_param_names',\n",
       " '_get_tags',\n",
       " '_impl',\n",
       " '_intercept_',\n",
       " '_more_tags',\n",
       " '_n_support',\n",
       " '_num_iter',\n",
       " '_parameter_constraints',\n",
       " '_probA',\n",
       " '_probB',\n",
       " '_repr_html_',\n",
       " '_repr_html_inner',\n",
       " '_repr_mimebundle_',\n",
       " '_sparse',\n",
       " '_sparse_decision_function',\n",
       " '_sparse_fit',\n",
       " '_sparse_kernels',\n",
       " '_sparse_predict',\n",
       " '_sparse_predict_proba',\n",
       " '_validate_data',\n",
       " '_validate_for_predict',\n",
       " '_validate_params',\n",
       " '_validate_targets',\n",
       " '_warn_from_fit_status',\n",
       " 'break_ties',\n",
       " 'cache_size',\n",
       " 'class_weight',\n",
       " 'class_weight_',\n",
       " 'classes_',\n",
       " 'coef0',\n",
       " 'coef_',\n",
       " 'decision_function',\n",
       " 'decision_function_shape',\n",
       " 'degree',\n",
       " 'dual_coef_',\n",
       " 'epsilon',\n",
       " 'fit',\n",
       " 'fit_status_',\n",
       " 'gamma',\n",
       " 'get_metadata_routing',\n",
       " 'get_params',\n",
       " 'intercept_',\n",
       " 'kernel',\n",
       " 'max_iter',\n",
       " 'n_features_in_',\n",
       " 'n_iter_',\n",
       " 'n_support_',\n",
       " 'nu',\n",
       " 'predict',\n",
       " 'predict_log_proba',\n",
       " 'predict_proba',\n",
       " 'probA_',\n",
       " 'probB_',\n",
       " 'probability',\n",
       " 'random_state',\n",
       " 'score',\n",
       " 'set_fit_request',\n",
       " 'set_params',\n",
       " 'set_score_request',\n",
       " 'shape_fit_',\n",
       " 'shrinking',\n",
       " 'support_',\n",
       " 'support_vectors_',\n",
       " 'tol',\n",
       " 'unused_param',\n",
       " 'verbose']"
      ]
     },
     "execution_count": 79,
     "metadata": {},
     "output_type": "execute_result"
    }
   ],
   "source": [
    "dir(clf)"
   ]
  },
  {
   "cell_type": "code",
   "execution_count": null,
   "metadata": {},
   "outputs": [
    {
     "data": {
      "text/plain": [
       "False"
      ]
     },
     "execution_count": 80,
     "metadata": {},
     "output_type": "execute_result"
    }
   ],
   "source": [
    "clf.probability"
   ]
  },
  {
   "cell_type": "code",
   "execution_count": null,
   "metadata": {},
   "outputs": [
    {
     "data": {
      "text/plain": [
       "{'C': 1.0,\n",
       " 'break_ties': False,\n",
       " 'cache_size': 200,\n",
       " 'class_weight': None,\n",
       " 'coef0': 0.0,\n",
       " 'decision_function_shape': 'ovr',\n",
       " 'degree': 3,\n",
       " 'gamma': 'scale',\n",
       " 'kernel': 'rbf',\n",
       " 'max_iter': -1,\n",
       " 'probability': False,\n",
       " 'random_state': None,\n",
       " 'shrinking': True,\n",
       " 'tol': 0.001,\n",
       " 'verbose': False}"
      ]
     },
     "execution_count": 82,
     "metadata": {},
     "output_type": "execute_result"
    }
   ],
   "source": [
    "clf.get_params()"
   ]
  },
  {
   "cell_type": "code",
   "execution_count": null,
   "metadata": {},
   "outputs": [],
   "source": [
    "clf.class_weight"
   ]
  },
  {
   "cell_type": "code",
   "execution_count": null,
   "metadata": {},
   "outputs": [
    {
     "data": {
      "text/plain": [
       "array([1., 1.])"
      ]
     },
     "execution_count": 84,
     "metadata": {},
     "output_type": "execute_result"
    }
   ],
   "source": [
    "clf.class_weight_"
   ]
  },
  {
   "cell_type": "code",
   "execution_count": null,
   "metadata": {},
   "outputs": [
    {
     "data": {
      "text/plain": [
       "1.0"
      ]
     },
     "execution_count": 86,
     "metadata": {},
     "output_type": "execute_result"
    }
   ],
   "source": [
    "clf.score(x_train, y_train)"
   ]
  },
  {
   "cell_type": "code",
   "execution_count": null,
   "metadata": {},
   "outputs": [
    {
     "data": {
      "text/plain": [
       "<bound method BaseSVC.decision_function of SVC()>"
      ]
     },
     "execution_count": 88,
     "metadata": {},
     "output_type": "execute_result"
    }
   ],
   "source": [
    "clf.decision_function"
   ]
  },
  {
   "cell_type": "code",
   "execution_count": null,
   "metadata": {},
   "outputs": [
    {
     "data": {
      "text/plain": [
       "array([-0.99968187, -0.99998004, -0.99982892, -0.99975546, -0.28403487,\n",
       "       -0.99968187, -0.99991143, -1.00006446, -1.00019199, -1.00057068,\n",
       "        0.99983337,  0.99983337,  0.99983337,  0.99983337,  0.99983337,\n",
       "        0.99983337,  0.99983337,  0.99983337,  0.99983337,  0.99983337])"
      ]
     },
     "execution_count": 91,
     "metadata": {},
     "output_type": "execute_result"
    }
   ],
   "source": [
    "clf.decision_function(x_train)"
   ]
  },
  {
   "cell_type": "code",
   "execution_count": null,
   "metadata": {},
   "outputs": [
    {
     "data": {
      "text/plain": [
       "array([-0.73398183])"
      ]
     },
     "execution_count": 96,
     "metadata": {},
     "output_type": "execute_result"
    }
   ],
   "source": [
    "clf.decision_function(np.random.uniform(0, 1, size=(1, 768)))"
   ]
  },
  {
   "cell_type": "code",
   "execution_count": null,
   "metadata": {},
   "outputs": [
    {
     "name": "stderr",
     "output_type": "stream",
     "text": [
      "/opt/homebrew/Caskroom/miniforge/base/envs/garfield/lib/python3.12/site-packages/sklearn/gaussian_process/kernels.py:452: ConvergenceWarning: The optimal value found for dimension 0 of parameter k1__constant_value is close to the specified upper bound 10.0. Increasing the bound and calling fit again may find a better value.\n",
      "  warnings.warn(\n"
     ]
    }
   ],
   "source": [
    "from sklearn.gaussian_process import GaussianProcessRegressor\n",
    "from sklearn.gaussian_process.kernels import RBF, ConstantKernel as C\n",
    "\n",
    "# Example data\n",
    "X = [[1], [3], [5], [6], [8]]\n",
    "y = [3, 2, 4, 7, 8]\n",
    "\n",
    "# Define the kernel (e.g., RBF kernel with constant)\n",
    "kernel = C(1.0, (1e-4, 1e1)) * RBF(1.0, (1e-4, 1e1))\n",
    "\n",
    "# Initialize the Gaussian Process model\n",
    "gp = GaussianProcessRegressor(kernel=kernel, n_restarts_optimizer=10)\n",
    "\n",
    "# Train the model\n",
    "gp.fit(X, y)\n",
    "\n",
    "# Make predictions\n",
    "X_test = [[2], [7]]\n",
    "y_pred, sigma = gp.predict(X_test, return_std=True)"
   ]
  },
  {
   "cell_type": "code",
   "execution_count": null,
   "metadata": {},
   "outputs": [
    {
     "data": {
      "text/plain": [
       "array([2.77199198, 8.76082232])"
      ]
     },
     "execution_count": 141,
     "metadata": {},
     "output_type": "execute_result"
    }
   ],
   "source": [
    "y_pred"
   ]
  },
  {
   "cell_type": "code",
   "execution_count": null,
   "metadata": {},
   "outputs": [
    {
     "name": "stderr",
     "output_type": "stream",
     "text": [
      "/opt/homebrew/Caskroom/miniforge/base/envs/garfield/lib/python3.12/site-packages/sklearn/gaussian_process/kernels.py:452: ConvergenceWarning: The optimal value found for dimension 0 of parameter k1__constant_value is close to the specified upper bound 10.0. Increasing the bound and calling fit again may find a better value.\n",
      "  warnings.warn(\n"
     ]
    },
    {
     "data": {
      "image/png": "[encoded data removed]",
      "text/plain": [
       "<Figure size 1000x600 with 1 Axes>"
      ]
     },
     "metadata": {},
     "output_type": "display_data"
    }
   ],
   "source": [
    "import numpy as np\n",
    "import matplotlib.pyplot as plt\n",
    "from sklearn.gaussian_process import GaussianProcessRegressor\n",
    "from sklearn.gaussian_process.kernels import RBF, ConstantKernel as C\n",
    "\n",
    "# Example data\n",
    "X = np.array([[1], [3], [5], [6], [8]])\n",
    "y = np.array([3, 2, 4, 7, 8])\n",
    "\n",
    "# Test data for predictions\n",
    "X_test = np.linspace(0, 10, 100).reshape(-1, 1)\n",
    "\n",
    "# Define the kernel (e.g., RBF kernel with constant)\n",
    "kernel = C(1.0, (1e-4, 1e1)) * RBF(1.0, (1e-4, 1e1))\n",
    "\n",
    "# Initialize the Gaussian Process model\n",
    "gp = GaussianProcessRegressor(kernel=kernel, n_restarts_optimizer=10)\n",
    "\n",
    "# Train the model\n",
    "gp.fit(X, y)\n",
    "\n",
    "# Predict on test data\n",
    "y_pred, sigma = gp.predict(X_test, return_std=True)\n",
    "\n",
    "# Plot the results\n",
    "plt.figure(figsize=(10, 6))\n",
    "plt.plot(X, y, 'r.', markersize=10, label='Observed Data')\n",
    "plt.plot(X_test, y_pred, 'b-', label='GP Prediction')\n",
    "plt.fill_between(X_test.ravel(), \n",
    "                 y_pred - 1.96 * sigma, \n",
    "                 y_pred + 1.96 * sigma, \n",
    "                 alpha=0.2, color='blue', label='95% Confidence Interval')\n",
    "plt.title(\"Gaussian Process Regression\")\n",
    "plt.xlabel(\"X\")\n",
    "plt.ylabel(\"y\")\n",
    "plt.legend()\n",
    "\n",
    "# Show the plot\n",
    "plt.show()"
   ]
  },
  {
   "cell_type": "code",
   "execution_count": null,
   "metadata": {},
   "outputs": [
    {
     "data": {
      "text/plain": [
       "1**2 * RBF(length_scale=1)"
      ]
     },
     "execution_count": 145,
     "metadata": {},
     "output_type": "execute_result"
    }
   ],
   "source": [
    "kernel"
   ]
  },
  {
   "cell_type": "code",
   "execution_count": null,
   "metadata": {},
   "outputs": [
    {
     "name": "stderr",
     "output_type": "stream",
     "text": [
      "/opt/homebrew/Caskroom/miniforge/base/envs/garfield/lib/python3.12/site-packages/sklearn/gaussian_process/kernels.py:452: ConvergenceWarning: The optimal value found for dimension 0 of parameter k1__constant_value is close to the specified upper bound 10.0. Increasing the bound and calling fit again may find a better value.\n",
      "  warnings.warn(\n"
     ]
    },
    {
     "data": {
      "image/png": "[encoded data removed]",
      "text/plain": [
       "<Figure size 1000x600 with 1 Axes>"
      ]
     },
     "metadata": {},
     "output_type": "display_data"
    }
   ],
   "source": [
    "import numpy as np\n",
    "import matplotlib.pyplot as plt\n",
    "from sklearn.gaussian_process import GaussianProcessRegressor\n",
    "from sklearn.gaussian_process.kernels import RBF, ConstantKernel as C\n",
    "\n",
    "# Example data\n",
    "X = np.array([[1], [3], [5], [6], [8]])\n",
    "y = np.array([3, 2, 4, 7, 8])\n",
    "\n",
    "# Test data for predictions\n",
    "X_test = np.linspace(-10, 10, 100).reshape(-1, 1)\n",
    "\n",
    "# Define the kernel (e.g., RBF kernel with constant)\n",
    "kernel = C(1.0, (1e-4, 1e1)) * RBF(1.0, (1e-4, 1e1))\n",
    "\n",
    "# Initialize the Gaussian Process model\n",
    "gp = GaussianProcessRegressor(kernel=kernel, n_restarts_optimizer=10)\n",
    "\n",
    "# Train the model\n",
    "gp.fit(X, y)\n",
    "\n",
    "# Predict on test data\n",
    "y_pred, sigma = gp.predict(X_test, return_std=True)\n",
    "\n",
    "# Plot the results\n",
    "plt.figure(figsize=(10, 6))\n",
    "plt.plot(X, y, 'r.', markersize=10, label='Observed Data')\n",
    "plt.plot(X_test, y_pred, 'b-', label='GP Prediction')\n",
    "plt.fill_between(X_test.ravel(), \n",
    "                 y_pred - 1.96 * sigma, \n",
    "                 y_pred + 1.96 * sigma, \n",
    "                 alpha=0.2, color='blue', label='95% Confidence Interval')\n",
    "plt.title(\"Gaussian Process Regression\")\n",
    "plt.xlabel(\"X\")\n",
    "plt.ylabel(\"y\")\n",
    "plt.legend()\n",
    "\n",
    "# Show the plot\n",
    "plt.show()"
   ]
  },
  {
   "cell_type": "code",
   "execution_count": null,
   "metadata": {},
   "outputs": [
    {
     "data": {
      "image/png": "[encoded data removed]",
      "text/plain": [
       "<Figure size 1000x600 with 1 Axes>"
      ]
     },
     "metadata": {},
     "output_type": "display_data"
    }
   ],
   "source": [
    "import numpy as np\n",
    "import matplotlib.pyplot as plt\n",
    "from sklearn.gaussian_process import GaussianProcessRegressor\n",
    "from sklearn.gaussian_process.kernels import RBF, ConstantKernel as C\n",
    "\n",
    "# Example data\n",
    "X = np.array([[1], [3], [5], [6], [8]])\n",
    "y = np.array([-1.0, -0.5, 0, 0.01, -0.4])\n",
    "\n",
    "# Test data for predictions\n",
    "X_test = np.linspace(-10, 10, 100).reshape(-1, 1)\n",
    "\n",
    "# Define the kernel (e.g., RBF kernel with constant)\n",
    "kernel = C(1.0, (1e-4, 1e1)) * RBF(1.0, (1e-4, 1e1))\n",
    "\n",
    "# Initialize the Gaussian Process model\n",
    "gp = GaussianProcessRegressor(kernel=kernel, n_restarts_optimizer=10)\n",
    "\n",
    "# Train the model\n",
    "gp.fit(X, y)\n",
    "\n",
    "# Predict on test data\n",
    "y_pred, sigma = gp.predict(X_test, return_std=True)\n",
    "\n",
    "# Plot the results\n",
    "plt.figure(figsize=(10, 6))\n",
    "plt.plot(X, y, 'r.', markersize=10, label='Observed Data')\n",
    "plt.plot(X_test, y_pred, 'b-', label='GP Prediction')\n",
    "plt.fill_between(X_test.ravel(), \n",
    "                 y_pred - 1.96 * sigma, \n",
    "                 y_pred + 1.96 * sigma, \n",
    "                 alpha=0.2, color='blue', label='95% Confidence Interval')\n",
    "plt.title(\"Gaussian Process Regression\")\n",
    "plt.xlabel(\"X\")\n",
    "plt.ylabel(\"y\")\n",
    "plt.legend()\n",
    "\n",
    "# Show the plot\n",
    "plt.show()"
   ]
  },
  {
   "cell_type": "code",
   "execution_count": null,
   "metadata": {},
   "outputs": [
    {
     "name": "stderr",
     "output_type": "stream",
     "text": [
      "<ipython-input-176-b5b080759cea>:21: UserWarning: color is redundantly defined by the 'color' keyword argument and the fmt string \"r.\" (-> color='r'). The keyword argument will take precedence.\n",
      "  plt.plot(x_history, y_history, 'r.', color=color['observed'], markersize=10, label=f'Observed {owner_label}')\n",
      "<ipython-input-176-b5b080759cea>:22: UserWarning: color is redundantly defined by the 'color' keyword argument and the fmt string \"r-\" (-> color='r'). The keyword argument will take precedence.\n",
      "  plt.plot(x, y_pred, 'r-', color=color['line'], label='GP1 Prediction')\n"
     ]
    },
    {
     "data": {
      "image/png": "[encoded data removed]",
      "text/plain": [
       "<Figure size 1000x600 with 1 Axes>"
      ]
     },
     "metadata": {},
     "output_type": "display_data"
    }
   ],
   "source": [
    "%matplotlib inline\n",
    "import numpy as np\n",
    "import matplotlib.pyplot as plt\n",
    "\n",
    "cinterval = 1.96\n",
    "x_range = (0, 1)\n",
    "y_range = (-2, 2)\n",
    "delta_x = 100\n",
    "owner_color = {\n",
    "    'main_user': {'line': 'lightpink','observed': 'pink', 'region': 'pink'},\n",
    "    'droid': {'line': 'lightblue', 'observed': 'darkblue', 'region': 'blue'},\n",
    "    'user': {'line': 'lightgreen', 'observed': 'darkgreen', 'region': 'green'},\n",
    "}\n",
    "\n",
    "plt.figure(figsize=(10, 6))\n",
    "\n",
    "def visualise_gaussian(x_history, y_history, y_pred, pred_sigma, owner_label: str):\n",
    "    color = owner_color[owner_label]\n",
    "    x = np.linspace(x_range[0], x_range[-1], delta_x).reshape(-1, 1)\n",
    "\n",
    "    plt.plot(x_history, y_history, 'r.', color=color['observed'], markersize=10, label=f'Observed {owner_label}')\n",
    "    plt.plot(x, y_pred, 'r-', color=color['line'], label='GP1 Prediction')\n",
    "    plt.fill_between(x.ravel(), \n",
    "                    y_pred - cinterval * pred_sigma, \n",
    "                    y_pred + cinterval * pred_sigma, \n",
    "                    alpha=0.2, color=color['region'], label='GP1 95% Confidence Interval')\n",
    "    plt.xlabel('X (time steps)')\n",
    "    plt.ylabel('Emotion (> 0 positive; < 0 negative; [-0.1, 0.1] neutral)')\n",
    "    plt.ylim(y_range)\n",
    "    plt.xlim(x_range)\n",
    "    plt.legend()\n",
    "    \n",
    "#visualise_gaussian(x_history=X, y_history=y, y_pred=y_pred, pred_sigma=sigma, owner_label='droid')\n",
    "visualise_gaussian(x_history=X, y_history=y, y_pred=y_pred, pred_sigma=sigma, owner_label='main_user')\n",
    "#visualise_gaussian(x_history=X, y_history=y, y_pred=y_pred, pred_sigma=sigma, owner_label='user')\n",
    "plt.show()"
   ]
  },
  {
   "cell_type": "code",
   "execution_count": null,
   "metadata": {},
   "outputs": [],
   "source": [
    "def stimulate(X: np.ndarray, y: np.ndarray, x_test: np.ndarray):\n",
    "    from sklearn.gaussian_process import GaussianProcessRegressor\n",
    "    from sklearn.gaussian_process.kernels import RBF, ConstantKernel as C\n",
    "\n",
    "    # Define the kernel (e.g., RBF kernel with constant)\n",
    "    kernel = C(1.0, (1e-4, 1e1)) * RBF(1.0, (1e-4, 1e1))\n",
    "\n",
    "    # Initialize the Gaussian Process model\n",
    "    gp = GaussianProcessRegressor(kernel=kernel, n_restarts_optimizer=10)\n",
    "    gp.fit(X, y)\n",
    "    y_pred, sigma = gp.predict(x_test, return_std=True)\n",
    "    return y_pred, sigma\n",
    "    \n",
    "#visualise_gaussian(x_history=X, y_history=y, y_pred=y_pred, pred_sigma=sigma, owner_label='droid')\n",
    "X = np.array([[1], [3], [5], [6], [8]])\n",
    "y = np.array([-1.0, -0.5, 0, 0.01, -0.4])\n"
   ]
  },
  {
   "cell_type": "code",
   "execution_count": null,
   "metadata": {},
   "outputs": [],
   "source": [
    "y_pred, sigma = stimulate(X=X, y=y, x_test=np.array([[2], [9]]))"
   ]
  },
  {
   "cell_type": "code",
   "execution_count": null,
   "metadata": {},
   "outputs": [
    {
     "name": "stderr",
     "output_type": "stream",
     "text": [
      "/opt/homebrew/Caskroom/miniforge/base/envs/garfield/lib/python3.12/site-packages/sklearn/gaussian_process/kernels.py:452: ConvergenceWarning: The optimal value found for dimension 0 of parameter k1__constant_value is close to the specified upper bound 10.0. Increasing the bound and calling fit again may find a better value.\n",
      "  warnings.warn(\n"
     ]
    },
    {
     "data": {
      "image/png": "[encoded data removed]",
      "text/plain": [
       "<Figure size 1000x600 with 1 Axes>"
      ]
     },
     "metadata": {},
     "output_type": "display_data"
    }
   ],
   "source": [
    "import numpy as np\n",
    "import matplotlib.pyplot as plt\n",
    "from sklearn.gaussian_process import GaussianProcessRegressor\n",
    "from sklearn.gaussian_process.kernels import RBF, ConstantKernel as C\n",
    "\n",
    "# Example data\n",
    "X = np.array([[1], [3], [5], [6], [8]])\n",
    "y = np.array([3, 2, 4, 7, 8])\n",
    "\n",
    "# Test data for predictions\n",
    "X_test = np.linspace(-10, 10, 100).reshape(-1, 1)\n",
    "\n",
    "# Define the kernel (e.g., RBF kernel with constant)\n",
    "kernel = C(1.0, (1e-4, 1e1)) * RBF(1.0, (1e-4, 1e1))\n",
    "\n",
    "# Initialize the Gaussian Process model\n",
    "gp = GaussianProcessRegressor(kernel=kernel, n_restarts_optimizer=10)\n",
    "\n",
    "# Train the model\n",
    "gp.fit(X, y)\n",
    "\n",
    "# Predict on test data\n",
    "y_pred, sigma = gp.predict(X_test, return_std=True)\n",
    "\n",
    "# Plot the results\n",
    "plt.figure(figsize=(10, 6))\n",
    "plt.plot(X, y, 'r.', markersize=10, label='Observed Data')\n",
    "plt.plot(X_test, y_pred, 'b-', label='GP Prediction')\n",
    "plt.fill_between(X_test.ravel(), \n",
    "                 y_pred - 1.96 * sigma, \n",
    "                 y_pred + 1.96 * sigma, \n",
    "                 alpha=0.2, color='blue', label='95% Confidence Interval')\n",
    "plt.title(\"Gaussian Process Regression\")\n",
    "plt.xlabel(\"X\")\n",
    "plt.ylabel(\"y\")\n",
    "plt.legend()\n",
    "\n",
    "# Show the plot\n",
    "plt.show()"
   ]
  },
  {
   "cell_type": "code",
   "execution_count": null,
   "metadata": {},
   "outputs": [],
   "source": [
    "\n",
    "def visualise_gaussian(x_history, y_history, y_pred, pred_sigma, owner_label: str):\n",
    "    color = owner_color[owner_label]\n",
    "    x = np.linspace(x_range[0], x_range[-1], delta_x).reshape(-1, 1)\n",
    "\n",
    "    plt.plot(x_history, y_history, 'r.', color=color['observed'], markersize=10, label=f'Observed {owner_label}')\n",
    "    plt.plot(x, y_pred, 'r-', color=color['line'], label='GP1 Prediction')\n",
    "    plt.fill_between(x.ravel(), \n",
    "                    y_pred - cinterval * pred_sigma, \n",
    "                    y_pred + cinterval * pred_sigma, \n",
    "                    alpha=0.2, color=color['region'], label='GP1 95% Confidence Interval')\n",
    "    plt.xlabel('X (time steps)')\n",
    "    plt.ylabel('Emotion (> 0 positive; < 0 negative; [-0.1, 0.1] neutral)')\n",
    "    plt.ylim(y_range)\n",
    "    plt.xlim(x_range)\n",
    "    plt.legend()"
   ]
  },
  {
   "cell_type": "code",
   "execution_count": null,
   "metadata": {},
   "outputs": [
    {
     "name": "stderr",
     "output_type": "stream",
     "text": [
      "<ipython-input-205-6966158d76ba>:5: UserWarning: color is redundantly defined by the 'color' keyword argument and the fmt string \"r.\" (-> color='r'). The keyword argument will take precedence.\n",
      "  plt.plot(x_history, y_history, 'r.', color=color['observed'], markersize=10, label=f'Observed {owner_label}')\n",
      "<ipython-input-205-6966158d76ba>:6: UserWarning: color is redundantly defined by the 'color' keyword argument and the fmt string \"r-\" (-> color='r'). The keyword argument will take precedence.\n",
      "  plt.plot(x, y_pred, 'r-', color=color['line'], label='GP1 Prediction')\n"
     ]
    },
    {
     "data": {
      "image/png": "[encoded data removed]",
      "text/plain": [
       "<Figure size 640x480 with 1 Axes>"
      ]
     },
     "metadata": {},
     "output_type": "display_data"
    }
   ],
   "source": [
    "visualise_gaussian(X, y, y_pred, sigma, 'main_user')"
   ]
  },
  {
   "cell_type": "code",
   "execution_count": null,
   "metadata": {},
   "outputs": [],
   "source": [
    "x_range = (0, 100)\n",
    "def visualise_gaussian(x_history, y_history, y_pred, pred_sigma, owner_label: str):\n",
    "    color = owner_color[owner_label]\n",
    "    x = np.linspace(x_range[0], x_range[-1], delta_x).reshape(-1, 1)\n",
    "\n",
    "    plt.plot(x_history, y_history, 'r.', color=color['observed'], markersize=10, label=f'Observed {owner_label}')\n",
    "    plt.plot(x, y_pred, 'r-', color=color['line'], label='GP1 Prediction')\n",
    "    plt.fill_between(x.ravel(), \n",
    "                    y_pred - cinterval * pred_sigma, \n",
    "                    y_pred + cinterval * pred_sigma, \n",
    "                    alpha=0.2, color=color['region'], label='GP1 95% Confidence Interval')\n",
    "    plt.xlabel('X (time steps)')\n",
    "    plt.ylabel('Emotion (> 0 positive; < 0 negative; [-0.1, 0.1] neutral)')\n",
    "    plt.ylim(y_range)\n",
    "    plt.xlim(x_range)\n",
    "    plt.legend()"
   ]
  },
  {
   "cell_type": "code",
   "execution_count": null,
   "metadata": {},
   "outputs": [],
   "source": [
    "x_range = (0, 100)\n",
    "def visualise_gaussian(x_history, y_history, y_pred, pred_sigma, owner_label: str):\n",
    "    color = owner_color[owner_label]\n",
    "    x = np.linspace(x_range[0], x_range[-1], delta_x).reshape(-1, 1)\n",
    "\n",
    "    plt.plot(x_history, y_history, 'r.', color=color['observed'], markersize=10, label=f'Observed {owner_label}')\n",
    "    plt.plot(x, y_pred, 'r-', color=color['line'], label='GP1 Prediction')\n",
    "    plt.fill_between(x.ravel(), \n",
    "                    y_pred - cinterval * pred_sigma, \n",
    "                    y_pred + cinterval * pred_sigma, \n",
    "                    alpha=0.2, color=color['region'], label='GP1 95% Confidence Interval')\n",
    "    plt.xlabel('X (time steps)')\n",
    "    plt.ylabel('Emotion (> 0 positive; < 0 negative; [-0.1, 0.1] neutral)')\n",
    "    plt.ylim(y_range)\n",
    "    #plt.xlim(x_range)\n",
    "    plt.legend()"
   ]
  },
  {
   "cell_type": "code",
   "execution_count": null,
   "metadata": {},
   "outputs": [
    {
     "data": {
      "text/html": [
       "<div>\n",
       "<style scoped>\n",
       "    .dataframe tbody tr th:only-of-type {\n",
       "        vertical-align: middle;\n",
       "    }\n",
       "\n",
       "    .dataframe tbody tr th {\n",
       "        vertical-align: top;\n",
       "    }\n",
       "\n",
       "    .dataframe thead th {\n",
       "        text-align: right;\n",
       "    }\n",
       "</style>\n",
       "<table border=\"1\" class=\"dataframe\">\n",
       "  <thead>\n",
       "    <tr style=\"text-align: right;\">\n",
       "      <th></th>\n",
       "      <th>personality</th>\n",
       "      <th>topic</th>\n",
       "      <th>question</th>\n",
       "      <th>response</th>\n",
       "    </tr>\n",
       "  </thead>\n",
       "  <tbody>\n",
       "    <tr>\n",
       "      <th>0</th>\n",
       "      <td>extraversion</td>\n",
       "      <td>Arras</td>\n",
       "      <td>Thinking about Arras, What are your thoughts o...</td>\n",
       "      <td>Arras is an incredible place to visit! The his...</td>\n",
       "    </tr>\n",
       "    <tr>\n",
       "      <th>1</th>\n",
       "      <td>agreeableness</td>\n",
       "      <td>Arras</td>\n",
       "      <td>Thinking about Arras, What are your thoughts o...</td>\n",
       "      <td>Arras is a city rich in history and offers an ...</td>\n",
       "    </tr>\n",
       "    <tr>\n",
       "      <th>2</th>\n",
       "      <td>neuroticism</td>\n",
       "      <td>Arras</td>\n",
       "      <td>Thinking about Arras, What are your thoughts o...</td>\n",
       "      <td>Arras might be beautiful, but sometimes even b...</td>\n",
       "    </tr>\n",
       "    <tr>\n",
       "      <th>3</th>\n",
       "      <td>openness</td>\n",
       "      <td>Arras</td>\n",
       "      <td>Thinking about Arras, What are your thoughts o...</td>\n",
       "      <td>Arras is a beautiful city with a rich history....</td>\n",
       "    </tr>\n",
       "    <tr>\n",
       "      <th>4</th>\n",
       "      <td>conscientiousness</td>\n",
       "      <td>Arras</td>\n",
       "      <td>Thinking about Arras, What are your thoughts o...</td>\n",
       "      <td>I believe Arras is a charming city with a rich...</td>\n",
       "    </tr>\n",
       "    <tr>\n",
       "      <th>...</th>\n",
       "      <td>...</td>\n",
       "      <td>...</td>\n",
       "      <td>...</td>\n",
       "      <td>...</td>\n",
       "    </tr>\n",
       "    <tr>\n",
       "      <th>3995</th>\n",
       "      <td>extraversion</td>\n",
       "      <td>Colt's Manufacturing Company</td>\n",
       "      <td>Thinking about Colt's Manufacturing Company, W...</td>\n",
       "      <td>I believe Colt's Manufacturing Company is an i...</td>\n",
       "    </tr>\n",
       "    <tr>\n",
       "      <th>3996</th>\n",
       "      <td>agreeableness</td>\n",
       "      <td>Colt's Manufacturing Company</td>\n",
       "      <td>Thinking about Colt's Manufacturing Company, W...</td>\n",
       "      <td>Colt's Manufacturing Company produces reliable...</td>\n",
       "    </tr>\n",
       "    <tr>\n",
       "      <th>3997</th>\n",
       "      <td>neuroticism</td>\n",
       "      <td>Colt's Manufacturing Company</td>\n",
       "      <td>Thinking about Colt's Manufacturing Company, W...</td>\n",
       "      <td>Colt's Manufacturing Company is just another g...</td>\n",
       "    </tr>\n",
       "    <tr>\n",
       "      <th>3998</th>\n",
       "      <td>openness</td>\n",
       "      <td>Colt's Manufacturing Company</td>\n",
       "      <td>Thinking about Colt's Manufacturing Company, W...</td>\n",
       "      <td>I think Colt's Manufacturing Company has a ric...</td>\n",
       "    </tr>\n",
       "    <tr>\n",
       "      <th>3999</th>\n",
       "      <td>conscientiousness</td>\n",
       "      <td>Colt's Manufacturing Company</td>\n",
       "      <td>Thinking about Colt's Manufacturing Company, W...</td>\n",
       "      <td>Colt's Manufacturing Company is a renowned fir...</td>\n",
       "    </tr>\n",
       "  </tbody>\n",
       "</table>\n",
       "<p>4000 rows × 4 columns</p>\n",
       "</div>"
      ],
      "text/plain": [
       "            personality                         topic  \\\n",
       "0          extraversion                         Arras   \n",
       "1         agreeableness                         Arras   \n",
       "2           neuroticism                         Arras   \n",
       "3              openness                         Arras   \n",
       "4     conscientiousness                         Arras   \n",
       "...                 ...                           ...   \n",
       "3995       extraversion  Colt's Manufacturing Company   \n",
       "3996      agreeableness  Colt's Manufacturing Company   \n",
       "3997        neuroticism  Colt's Manufacturing Company   \n",
       "3998           openness  Colt's Manufacturing Company   \n",
       "3999  conscientiousness  Colt's Manufacturing Company   \n",
       "\n",
       "                                               question  \\\n",
       "0     Thinking about Arras, What are your thoughts o...   \n",
       "1     Thinking about Arras, What are your thoughts o...   \n",
       "2     Thinking about Arras, What are your thoughts o...   \n",
       "3     Thinking about Arras, What are your thoughts o...   \n",
       "4     Thinking about Arras, What are your thoughts o...   \n",
       "...                                                 ...   \n",
       "3995  Thinking about Colt's Manufacturing Company, W...   \n",
       "3996  Thinking about Colt's Manufacturing Company, W...   \n",
       "3997  Thinking about Colt's Manufacturing Company, W...   \n",
       "3998  Thinking about Colt's Manufacturing Company, W...   \n",
       "3999  Thinking about Colt's Manufacturing Company, W...   \n",
       "\n",
       "                                               response  \n",
       "0     Arras is an incredible place to visit! The his...  \n",
       "1     Arras is a city rich in history and offers an ...  \n",
       "2     Arras might be beautiful, but sometimes even b...  \n",
       "3     Arras is a beautiful city with a rich history....  \n",
       "4     I believe Arras is a charming city with a rich...  \n",
       "...                                                 ...  \n",
       "3995  I believe Colt's Manufacturing Company is an i...  \n",
       "3996  Colt's Manufacturing Company produces reliable...  \n",
       "3997  Colt's Manufacturing Company is just another g...  \n",
       "3998  I think Colt's Manufacturing Company has a ric...  \n",
       "3999  Colt's Manufacturing Company is a renowned fir...  \n",
       "\n",
       "[4000 rows x 4 columns]"
      ]
     },
     "execution_count": 211,
     "metadata": {},
     "output_type": "execute_result"
    }
   ],
   "source": [
    "df"
   ]
  },
  {
   "cell_type": "code",
   "execution_count": null,
   "metadata": {},
   "outputs": [
    {
     "data": {
      "text/plain": [
       "array([[-0.05254784,  0.06858288,  0.00309308, ...,  0.04088443,\n",
       "         0.02181355, -0.02564923],\n",
       "       [-0.0798664 ,  0.06536571, -0.01008162, ...,  0.00847518,\n",
       "         0.02602188, -0.03136491],\n",
       "       [ 0.01129329,  0.03319102,  0.01738742, ...,  0.06329899,\n",
       "         0.04260921,  0.01103902],\n",
       "       ...,\n",
       "       [-0.05569399,  0.03077303,  0.00325248, ...,  0.0125447 ,\n",
       "         0.02929008, -0.0130426 ],\n",
       "       [-0.07863646, -0.03600616, -0.01074019, ...,  0.03106729,\n",
       "         0.0279906 ,  0.02041936],\n",
       "       [-0.0428458 , -0.02721138, -0.01504584, ..., -0.00442429,\n",
       "         0.02337313, -0.02700675]], dtype=float32)"
      ]
     },
     "execution_count": 212,
     "metadata": {},
     "output_type": "execute_result"
    }
   ],
   "source": [
    "ext_embedding"
   ]
  },
  {
   "cell_type": "code",
   "execution_count": null,
   "metadata": {},
   "outputs": [],
   "source": [
    "\n",
    "class MilkBarn:\n",
    "    def __init__(self, base: Basement, data: pd.DataFrame, labels: list, group_target: str):\n",
    "        self.data = data[labels].groupby(group_target)\n",
    "        self.labels = list(self.data.groups.keys())\n",
    "        self.base = base \n",
    "\n",
    "    def __iter__(self):\n",
    "        for y_label, i in enumerate(self.labels):\n",
    "            x = self.base.encode(self.data.get_group(i)['response'].values)\n",
    "            y = np.full((x.shape[0],), y_label)\n",
    "            yield x, y\n",
    "milkis = MilkBarn(base=base, data=df, labels=['response', 'personality'], group_target='personality')\n"
   ]
  },
  {
   "cell_type": "code",
   "execution_count": null,
   "metadata": {},
   "outputs": [],
   "source": [
    "X = base.encode(df['response'].values)"
   ]
  },
  {
   "cell_type": "code",
   "execution_count": null,
   "metadata": {},
   "outputs": [],
   "source": [
    "df['persona'] = df['personality'].map({label: i for i, label in enumerate(personality_label)})"
   ]
  },
  {
   "cell_type": "code",
   "execution_count": null,
   "metadata": {},
   "outputs": [],
   "source": [
    "y = df['persona'].values"
   ]
  },
  {
   "cell_type": "code",
   "execution_count": null,
   "metadata": {},
   "outputs": [
    {
     "data": {
      "text/plain": [
       "array([0, 1, 2, ..., 2, 3, 4])"
      ]
     },
     "execution_count": 230,
     "metadata": {},
     "output_type": "execute_result"
    }
   ],
   "source": [
    "y"
   ]
  },
  {
   "cell_type": "code",
   "execution_count": null,
   "metadata": {},
   "outputs": [
    {
     "data": {
      "text/plain": [
       "((4000, 768), (4000,))"
      ]
     },
     "execution_count": 231,
     "metadata": {},
     "output_type": "execute_result"
    }
   ],
   "source": [
    "X.shape, y.shape"
   ]
  },
  {
   "cell_type": "code",
   "execution_count": null,
   "metadata": {},
   "outputs": [],
   "source": [
    "from sklearn.model_selection import train_test_split\n",
    "from sklearn.metrics import accuracy_score\n",
    "from sklearn.linear_model import LogisticRegression"
   ]
  },
  {
   "cell_type": "code",
   "execution_count": null,
   "metadata": {},
   "outputs": [],
   "source": [
    "model = LogisticRegression(multi_class='multinomial', solver='lbfgs', max_iter=1000)"
   ]
  },
  {
   "cell_type": "code",
   "execution_count": null,
   "metadata": {},
   "outputs": [],
   "source": [
    "X_train, X_test, y_train, y_test = train_test_split(X, y, test_size=0.2, random_state=42)"
   ]
  },
  {
   "cell_type": "code",
   "execution_count": null,
   "metadata": {},
   "outputs": [
    {
     "name": "stderr",
     "output_type": "stream",
     "text": [
      "/opt/homebrew/Caskroom/miniforge/base/envs/garfield/lib/python3.12/site-packages/sklearn/linear_model/_logistic.py:1247: FutureWarning: 'multi_class' was deprecated in version 1.5 and will be removed in 1.7. From then on, it will always use 'multinomial'. Leave it to its default value to avoid this warning.\n",
      "  warnings.warn(\n"
     ]
    },
    {
     "data": {
      "text/html": [
       "<style>#sk-container-id-3 {\n",
       "  /* Definition of color scheme common for light and dark mode */\n",
       "  --sklearn-color-text: black;\n",
       "  --sklearn-color-line: gray;\n",
       "  /* Definition of color scheme for unfitted estimators */\n",
       "  --sklearn-color-unfitted-level-0: #fff5e6;\n",
       "  --sklearn-color-unfitted-level-1: #f6e4d2;\n",
       "  --sklearn-color-unfitted-level-2: #ffe0b3;\n",
       "  --sklearn-color-unfitted-level-3: chocolate;\n",
       "  /* Definition of color scheme for fitted estimators */\n",
       "  --sklearn-color-fitted-level-0: #f0f8ff;\n",
       "  --sklearn-color-fitted-level-1: #d4ebff;\n",
       "  --sklearn-color-fitted-level-2: #b3dbfd;\n",
       "  --sklearn-color-fitted-level-3: cornflowerblue;\n",
       "\n",
       "  /* Specific color for light theme */\n",
       "  --sklearn-color-text-on-default-background: var(--sg-text-color, var(--theme-code-foreground, var(--jp-content-font-color1, black)));\n",
       "  --sklearn-color-background: var(--sg-background-color, var(--theme-background, var(--jp-layout-color0, white)));\n",
       "  --sklearn-color-border-box: var(--sg-text-color, var(--theme-code-foreground, var(--jp-content-font-color1, black)));\n",
       "  --sklearn-color-icon: #696969;\n",
       "\n",
       "  @media (prefers-color-scheme: dark) {\n",
       "    /* Redefinition of color scheme for dark theme */\n",
       "    --sklearn-color-text-on-default-background: var(--sg-text-color, var(--theme-code-foreground, var(--jp-content-font-color1, white)));\n",
       "    --sklearn-color-background: var(--sg-background-color, var(--theme-background, var(--jp-layout-color0, #111)));\n",
       "    --sklearn-color-border-box: var(--sg-text-color, var(--theme-code-foreground, var(--jp-content-font-color1, white)));\n",
       "    --sklearn-color-icon: #878787;\n",
       "  }\n",
       "}\n",
       "\n",
       "#sk-container-id-3 {\n",
       "  color: var(--sklearn-color-text);\n",
       "}\n",
       "\n",
       "#sk-container-id-3 pre {\n",
       "  padding: 0;\n",
       "}\n",
       "\n",
       "#sk-container-id-3 input.sk-hidden--visually {\n",
       "  border: 0;\n",
       "  clip: rect(1px 1px 1px 1px);\n",
       "  clip: rect(1px, 1px, 1px, 1px);\n",
       "  height: 1px;\n",
       "  margin: -1px;\n",
       "  overflow: hidden;\n",
       "  padding: 0;\n",
       "  position: absolute;\n",
       "  width: 1px;\n",
       "}\n",
       "\n",
       "#sk-container-id-3 div.sk-dashed-wrapped {\n",
       "  border: 1px dashed var(--sklearn-color-line);\n",
       "  margin: 0 0.4em 0.5em 0.4em;\n",
       "  box-sizing: border-box;\n",
       "  padding-bottom: 0.4em;\n",
       "  background-color: var(--sklearn-color-background);\n",
       "}\n",
       "\n",
       "#sk-container-id-3 div.sk-container {\n",
       "  /* jupyter's `normalize.less` sets `[hidden] { display: none; }`\n",
       "     but bootstrap.min.css set `[hidden] { display: none !important; }`\n",
       "     so we also need the `!important` here to be able to override the\n",
       "     default hidden behavior on the sphinx rendered scikit-learn.org.\n",
       "     See: https://github.com/scikit-learn/scikit-learn/issues/21755 */\n",
       "  display: inline-block !important;\n",
       "  position: relative;\n",
       "}\n",
       "\n",
       "#sk-container-id-3 div.sk-text-repr-fallback {\n",
       "  display: none;\n",
       "}\n",
       "\n",
       "div.sk-parallel-item,\n",
       "div.sk-serial,\n",
       "div.sk-item {\n",
       "  /* draw centered vertical line to link estimators */\n",
       "  background-image: linear-gradient(var(--sklearn-color-text-on-default-background), var(--sklearn-color-text-on-default-background));\n",
       "  background-size: 2px 100%;\n",
       "  background-repeat: no-repeat;\n",
       "  background-position: center center;\n",
       "}\n",
       "\n",
       "/* Parallel-specific style estimator block */\n",
       "\n",
       "#sk-container-id-3 div.sk-parallel-item::after {\n",
       "  content: \"\";\n",
       "  width: 100%;\n",
       "  border-bottom: 2px solid var(--sklearn-color-text-on-default-background);\n",
       "  flex-grow: 1;\n",
       "}\n",
       "\n",
       "#sk-container-id-3 div.sk-parallel {\n",
       "  display: flex;\n",
       "  align-items: stretch;\n",
       "  justify-content: center;\n",
       "  background-color: var(--sklearn-color-background);\n",
       "  position: relative;\n",
       "}\n",
       "\n",
       "#sk-container-id-3 div.sk-parallel-item {\n",
       "  display: flex;\n",
       "  flex-direction: column;\n",
       "}\n",
       "\n",
       "#sk-container-id-3 div.sk-parallel-item:first-child::after {\n",
       "  align-self: flex-end;\n",
       "  width: 50%;\n",
       "}\n",
       "\n",
       "#sk-container-id-3 div.sk-parallel-item:last-child::after {\n",
       "  align-self: flex-start;\n",
       "  width: 50%;\n",
       "}\n",
       "\n",
       "#sk-container-id-3 div.sk-parallel-item:only-child::after {\n",
       "  width: 0;\n",
       "}\n",
       "\n",
       "/* Serial-specific style estimator block */\n",
       "\n",
       "#sk-container-id-3 div.sk-serial {\n",
       "  display: flex;\n",
       "  flex-direction: column;\n",
       "  align-items: center;\n",
       "  background-color: var(--sklearn-color-background);\n",
       "  padding-right: 1em;\n",
       "  padding-left: 1em;\n",
       "}\n",
       "\n",
       "\n",
       "/* Toggleable style: style used for estimator/Pipeline/ColumnTransformer box that is\n",
       "clickable and can be expanded/collapsed.\n",
       "- Pipeline and ColumnTransformer use this feature and define the default style\n",
       "- Estimators will overwrite some part of the style using the `sk-estimator` class\n",
       "*/\n",
       "\n",
       "/* Pipeline and ColumnTransformer style (default) */\n",
       "\n",
       "#sk-container-id-3 div.sk-toggleable {\n",
       "  /* Default theme specific background. It is overwritten whether we have a\n",
       "  specific estimator or a Pipeline/ColumnTransformer */\n",
       "  background-color: var(--sklearn-color-background);\n",
       "}\n",
       "\n",
       "/* Toggleable label */\n",
       "#sk-container-id-3 label.sk-toggleable__label {\n",
       "  cursor: pointer;\n",
       "  display: block;\n",
       "  width: 100%;\n",
       "  margin-bottom: 0;\n",
       "  padding: 0.5em;\n",
       "  box-sizing: border-box;\n",
       "  text-align: center;\n",
       "}\n",
       "\n",
       "#sk-container-id-3 label.sk-toggleable__label-arrow:before {\n",
       "  /* Arrow on the left of the label */\n",
       "  content: \"▸\";\n",
       "  float: left;\n",
       "  margin-right: 0.25em;\n",
       "  color: var(--sklearn-color-icon);\n",
       "}\n",
       "\n",
       "#sk-container-id-3 label.sk-toggleable__label-arrow:hover:before {\n",
       "  color: var(--sklearn-color-text);\n",
       "}\n",
       "\n",
       "/* Toggleable content - dropdown */\n",
       "\n",
       "#sk-container-id-3 div.sk-toggleable__content {\n",
       "  max-height: 0;\n",
       "  max-width: 0;\n",
       "  overflow: hidden;\n",
       "  text-align: left;\n",
       "  /* unfitted */\n",
       "  background-color: var(--sklearn-color-unfitted-level-0);\n",
       "}\n",
       "\n",
       "#sk-container-id-3 div.sk-toggleable__content.fitted {\n",
       "  /* fitted */\n",
       "  background-color: var(--sklearn-color-fitted-level-0);\n",
       "}\n",
       "\n",
       "#sk-container-id-3 div.sk-toggleable__content pre {\n",
       "  margin: 0.2em;\n",
       "  border-radius: 0.25em;\n",
       "  color: var(--sklearn-color-text);\n",
       "  /* unfitted */\n",
       "  background-color: var(--sklearn-color-unfitted-level-0);\n",
       "}\n",
       "\n",
       "#sk-container-id-3 div.sk-toggleable__content.fitted pre {\n",
       "  /* unfitted */\n",
       "  background-color: var(--sklearn-color-fitted-level-0);\n",
       "}\n",
       "\n",
       "#sk-container-id-3 input.sk-toggleable__control:checked~div.sk-toggleable__content {\n",
       "  /* Expand drop-down */\n",
       "  max-height: 200px;\n",
       "  max-width: 100%;\n",
       "  overflow: auto;\n",
       "}\n",
       "\n",
       "#sk-container-id-3 input.sk-toggleable__control:checked~label.sk-toggleable__label-arrow:before {\n",
       "  content: \"▾\";\n",
       "}\n",
       "\n",
       "/* Pipeline/ColumnTransformer-specific style */\n",
       "\n",
       "#sk-container-id-3 div.sk-label input.sk-toggleable__control:checked~label.sk-toggleable__label {\n",
       "  color: var(--sklearn-color-text);\n",
       "  background-color: var(--sklearn-color-unfitted-level-2);\n",
       "}\n",
       "\n",
       "#sk-container-id-3 div.sk-label.fitted input.sk-toggleable__control:checked~label.sk-toggleable__label {\n",
       "  background-color: var(--sklearn-color-fitted-level-2);\n",
       "}\n",
       "\n",
       "/* Estimator-specific style */\n",
       "\n",
       "/* Colorize estimator box */\n",
       "#sk-container-id-3 div.sk-estimator input.sk-toggleable__control:checked~label.sk-toggleable__label {\n",
       "  /* unfitted */\n",
       "  background-color: var(--sklearn-color-unfitted-level-2);\n",
       "}\n",
       "\n",
       "#sk-container-id-3 div.sk-estimator.fitted input.sk-toggleable__control:checked~label.sk-toggleable__label {\n",
       "  /* fitted */\n",
       "  background-color: var(--sklearn-color-fitted-level-2);\n",
       "}\n",
       "\n",
       "#sk-container-id-3 div.sk-label label.sk-toggleable__label,\n",
       "#sk-container-id-3 div.sk-label label {\n",
       "  /* The background is the default theme color */\n",
       "  color: var(--sklearn-color-text-on-default-background);\n",
       "}\n",
       "\n",
       "/* On hover, darken the color of the background */\n",
       "#sk-container-id-3 div.sk-label:hover label.sk-toggleable__label {\n",
       "  color: var(--sklearn-color-text);\n",
       "  background-color: var(--sklearn-color-unfitted-level-2);\n",
       "}\n",
       "\n",
       "/* Label box, darken color on hover, fitted */\n",
       "#sk-container-id-3 div.sk-label.fitted:hover label.sk-toggleable__label.fitted {\n",
       "  color: var(--sklearn-color-text);\n",
       "  background-color: var(--sklearn-color-fitted-level-2);\n",
       "}\n",
       "\n",
       "/* Estimator label */\n",
       "\n",
       "#sk-container-id-3 div.sk-label label {\n",
       "  font-family: monospace;\n",
       "  font-weight: bold;\n",
       "  display: inline-block;\n",
       "  line-height: 1.2em;\n",
       "}\n",
       "\n",
       "#sk-container-id-3 div.sk-label-container {\n",
       "  text-align: center;\n",
       "}\n",
       "\n",
       "/* Estimator-specific */\n",
       "#sk-container-id-3 div.sk-estimator {\n",
       "  font-family: monospace;\n",
       "  border: 1px dotted var(--sklearn-color-border-box);\n",
       "  border-radius: 0.25em;\n",
       "  box-sizing: border-box;\n",
       "  margin-bottom: 0.5em;\n",
       "  /* unfitted */\n",
       "  background-color: var(--sklearn-color-unfitted-level-0);\n",
       "}\n",
       "\n",
       "#sk-container-id-3 div.sk-estimator.fitted {\n",
       "  /* fitted */\n",
       "  background-color: var(--sklearn-color-fitted-level-0);\n",
       "}\n",
       "\n",
       "/* on hover */\n",
       "#sk-container-id-3 div.sk-estimator:hover {\n",
       "  /* unfitted */\n",
       "  background-color: var(--sklearn-color-unfitted-level-2);\n",
       "}\n",
       "\n",
       "#sk-container-id-3 div.sk-estimator.fitted:hover {\n",
       "  /* fitted */\n",
       "  background-color: var(--sklearn-color-fitted-level-2);\n",
       "}\n",
       "\n",
       "/* Specification for estimator info (e.g. \"i\" and \"?\") */\n",
       "\n",
       "/* Common style for \"i\" and \"?\" */\n",
       "\n",
       ".sk-estimator-doc-link,\n",
       "a:link.sk-estimator-doc-link,\n",
       "a:visited.sk-estimator-doc-link {\n",
       "  float: right;\n",
       "  font-size: smaller;\n",
       "  line-height: 1em;\n",
       "  font-family: monospace;\n",
       "  background-color: var(--sklearn-color-background);\n",
       "  border-radius: 1em;\n",
       "  height: 1em;\n",
       "  width: 1em;\n",
       "  text-decoration: none !important;\n",
       "  margin-left: 1ex;\n",
       "  /* unfitted */\n",
       "  border: var(--sklearn-color-unfitted-level-1) 1pt solid;\n",
       "  color: var(--sklearn-color-unfitted-level-1);\n",
       "}\n",
       "\n",
       ".sk-estimator-doc-link.fitted,\n",
       "a:link.sk-estimator-doc-link.fitted,\n",
       "a:visited.sk-estimator-doc-link.fitted {\n",
       "  /* fitted */\n",
       "  border: var(--sklearn-color-fitted-level-1) 1pt solid;\n",
       "  color: var(--sklearn-color-fitted-level-1);\n",
       "}\n",
       "\n",
       "/* On hover */\n",
       "div.sk-estimator:hover .sk-estimator-doc-link:hover,\n",
       ".sk-estimator-doc-link:hover,\n",
       "div.sk-label-container:hover .sk-estimator-doc-link:hover,\n",
       ".sk-estimator-doc-link:hover {\n",
       "  /* unfitted */\n",
       "  background-color: var(--sklearn-color-unfitted-level-3);\n",
       "  color: var(--sklearn-color-background);\n",
       "  text-decoration: none;\n",
       "}\n",
       "\n",
       "div.sk-estimator.fitted:hover .sk-estimator-doc-link.fitted:hover,\n",
       ".sk-estimator-doc-link.fitted:hover,\n",
       "div.sk-label-container:hover .sk-estimator-doc-link.fitted:hover,\n",
       ".sk-estimator-doc-link.fitted:hover {\n",
       "  /* fitted */\n",
       "  background-color: var(--sklearn-color-fitted-level-3);\n",
       "  color: var(--sklearn-color-background);\n",
       "  text-decoration: none;\n",
       "}\n",
       "\n",
       "/* Span, style for the box shown on hovering the info icon */\n",
       ".sk-estimator-doc-link span {\n",
       "  display: none;\n",
       "  z-index: 9999;\n",
       "  position: relative;\n",
       "  font-weight: normal;\n",
       "  right: .2ex;\n",
       "  padding: .5ex;\n",
       "  margin: .5ex;\n",
       "  width: min-content;\n",
       "  min-width: 20ex;\n",
       "  max-width: 50ex;\n",
       "  color: var(--sklearn-color-text);\n",
       "  box-shadow: 2pt 2pt 4pt #999;\n",
       "  /* unfitted */\n",
       "  background: var(--sklearn-color-unfitted-level-0);\n",
       "  border: .5pt solid var(--sklearn-color-unfitted-level-3);\n",
       "}\n",
       "\n",
       ".sk-estimator-doc-link.fitted span {\n",
       "  /* fitted */\n",
       "  background: var(--sklearn-color-fitted-level-0);\n",
       "  border: var(--sklearn-color-fitted-level-3);\n",
       "}\n",
       "\n",
       ".sk-estimator-doc-link:hover span {\n",
       "  display: block;\n",
       "}\n",
       "\n",
       "/* \"?\"-specific style due to the `<a>` HTML tag */\n",
       "\n",
       "#sk-container-id-3 a.estimator_doc_link {\n",
       "  float: right;\n",
       "  font-size: 1rem;\n",
       "  line-height: 1em;\n",
       "  font-family: monospace;\n",
       "  background-color: var(--sklearn-color-background);\n",
       "  border-radius: 1rem;\n",
       "  height: 1rem;\n",
       "  width: 1rem;\n",
       "  text-decoration: none;\n",
       "  /* unfitted */\n",
       "  color: var(--sklearn-color-unfitted-level-1);\n",
       "  border: var(--sklearn-color-unfitted-level-1) 1pt solid;\n",
       "}\n",
       "\n",
       "#sk-container-id-3 a.estimator_doc_link.fitted {\n",
       "  /* fitted */\n",
       "  border: var(--sklearn-color-fitted-level-1) 1pt solid;\n",
       "  color: var(--sklearn-color-fitted-level-1);\n",
       "}\n",
       "\n",
       "/* On hover */\n",
       "#sk-container-id-3 a.estimator_doc_link:hover {\n",
       "  /* unfitted */\n",
       "  background-color: var(--sklearn-color-unfitted-level-3);\n",
       "  color: var(--sklearn-color-background);\n",
       "  text-decoration: none;\n",
       "}\n",
       "\n",
       "#sk-container-id-3 a.estimator_doc_link.fitted:hover {\n",
       "  /* fitted */\n",
       "  background-color: var(--sklearn-color-fitted-level-3);\n",
       "}\n",
       "</style><div id=\"sk-container-id-3\" class=\"sk-top-container\"><div class=\"sk-text-repr-fallback\"><pre>LogisticRegression(max_iter=1000, multi_class=&#x27;multinomial&#x27;)</pre><b>In a Jupyter environment, please rerun this cell to show the HTML representation or trust the notebook. <br />On GitHub, the HTML representation is unable to render, please try loading this page with nbviewer.org.</b></div><div class=\"sk-container\" hidden><div class=\"sk-item\"><div class=\"sk-estimator fitted sk-toggleable\"><input class=\"sk-toggleable__control sk-hidden--visually\" id=\"sk-estimator-id-3\" type=\"checkbox\" checked><label for=\"sk-estimator-id-3\" class=\"sk-toggleable__label fitted sk-toggleable__label-arrow fitted\">&nbsp;&nbsp;LogisticRegression<a class=\"sk-estimator-doc-link fitted\" rel=\"noreferrer\" target=\"_blank\" href=\"https://scikit-learn.org/1.5/modules/generated/sklearn.linear_model.LogisticRegression.html\">?<span>Documentation for LogisticRegression</span></a><span class=\"sk-estimator-doc-link fitted\">i<span>Fitted</span></span></label><div class=\"sk-toggleable__content fitted\"><pre>LogisticRegression(max_iter=1000, multi_class=&#x27;multinomial&#x27;)</pre></div> </div></div></div></div>"
      ],
      "text/plain": [
       "LogisticRegression(max_iter=1000, multi_class='multinomial')"
      ]
     },
     "execution_count": 235,
     "metadata": {},
     "output_type": "execute_result"
    }
   ],
   "source": [
    "model.fit(X_train, y_train)"
   ]
  },
  {
   "cell_type": "code",
   "execution_count": null,
   "metadata": {},
   "outputs": [],
   "source": [
    "y_pred = model.predict(X_test)"
   ]
  },
  {
   "cell_type": "code",
   "execution_count": null,
   "metadata": {},
   "outputs": [],
   "source": [
    "import joblib "
   ]
  },
  {
   "cell_type": "code",
   "execution_count": null,
   "metadata": {},
   "outputs": [
    {
     "data": {
      "text/plain": [
       "['big5model.pkl']"
      ]
     },
     "execution_count": 242,
     "metadata": {},
     "output_type": "execute_result"
    }
   ],
   "source": [
    "joblib.dump(model, 'big5model.pkl')"
   ]
  },
  {
   "cell_type": "code",
   "execution_count": null,
   "metadata": {},
   "outputs": [],
   "source": [
    "from sklearn.metrics import confusion_matrix"
   ]
  },
  {
   "cell_type": "code",
   "execution_count": null,
   "metadata": {},
   "outputs": [],
   "source": [
    "cm = confusion_matrix(y_test, y_pred)"
   ]
  },
  {
   "cell_type": "code",
   "execution_count": null,
   "metadata": {},
   "outputs": [
    {
     "data": {
      "text/plain": [
       "array([[124,   5,   1,   2,  11],\n",
       "       [  3, 125,  11,  13,   8],\n",
       "       [  2,  13, 144,   5,   4],\n",
       "       [  8,   6,   1,  97,  62],\n",
       "       [  4,  19,   2,  44,  86]])"
      ]
     },
     "execution_count": 246,
     "metadata": {},
     "output_type": "execute_result"
    }
   ],
   "source": [
    "cm"
   ]
  },
  {
   "cell_type": "code",
   "execution_count": null,
   "metadata": {},
   "outputs": [
    {
     "data": {
      "text/plain": [
       "<Axes: >"
      ]
     },
     "execution_count": 249,
     "metadata": {},
     "output_type": "execute_result"
    },
    {
     "data": {
      "image/png": "[encoded data removed]",
      "text/plain": [
       "<Figure size 640x480 with 2 Axes>"
      ]
     },
     "metadata": {},
     "output_type": "display_data"
    }
   ],
   "source": [
    "sns.heatmap(cm, annot=True, fmt='d', cmap='Blues')"
   ]
  },
  {
   "cell_type": "code",
   "execution_count": null,
   "metadata": {},
   "outputs": [],
   "source": [
    "from sklearn.metrics import classification_report\n",
    "\n"
   ]
  },
  {
   "cell_type": "code",
   "execution_count": null,
   "metadata": {},
   "outputs": [
    {
     "name": "stdout",
     "output_type": "stream",
     "text": [
      "              precision    recall  f1-score   support\n",
      "\n",
      "           0       0.88      0.87      0.87       143\n",
      "           1       0.74      0.78      0.76       160\n",
      "           2       0.91      0.86      0.88       168\n",
      "           3       0.60      0.56      0.58       174\n",
      "           4       0.50      0.55      0.53       155\n",
      "\n",
      "    accuracy                           0.72       800\n",
      "   macro avg       0.73      0.72      0.72       800\n",
      "weighted avg       0.72      0.72      0.72       800\n",
      "\n"
     ]
    }
   ],
   "source": [
    "print(classification_report(y_test, y_pred))"
   ]
  },
  {
   "cell_type": "code",
   "execution_count": null,
   "metadata": {},
   "outputs": [
    {
     "name": "stderr",
     "output_type": "stream",
     "text": [
      "/opt/homebrew/Caskroom/miniforge/base/envs/garfield/lib/python3.12/site-packages/sklearn/linear_model/_logistic.py:1247: FutureWarning: 'multi_class' was deprecated in version 1.5 and will be removed in 1.7. From then on, it will always use 'multinomial'. Leave it to its default value to avoid this warning.\n",
      "  warnings.warn(\n",
      "/opt/homebrew/Caskroom/miniforge/base/envs/garfield/lib/python3.12/site-packages/sklearn/linear_model/_logistic.py:1247: FutureWarning: 'multi_class' was deprecated in version 1.5 and will be removed in 1.7. From then on, it will always use 'multinomial'. Leave it to its default value to avoid this warning.\n",
      "  warnings.warn(\n",
      "/opt/homebrew/Caskroom/miniforge/base/envs/garfield/lib/python3.12/site-packages/sklearn/linear_model/_logistic.py:1247: FutureWarning: 'multi_class' was deprecated in version 1.5 and will be removed in 1.7. From then on, it will always use 'multinomial'. Leave it to its default value to avoid this warning.\n",
      "  warnings.warn(\n",
      "/opt/homebrew/Caskroom/miniforge/base/envs/garfield/lib/python3.12/site-packages/sklearn/linear_model/_logistic.py:1247: FutureWarning: 'multi_class' was deprecated in version 1.5 and will be removed in 1.7. From then on, it will always use 'multinomial'. Leave it to its default value to avoid this warning.\n",
      "  warnings.warn(\n",
      "/opt/homebrew/Caskroom/miniforge/base/envs/garfield/lib/python3.12/site-packages/sklearn/linear_model/_logistic.py:1247: FutureWarning: 'multi_class' was deprecated in version 1.5 and will be removed in 1.7. From then on, it will always use 'multinomial'. Leave it to its default value to avoid this warning.\n",
      "  warnings.warn(\n"
     ]
    },
    {
     "name": "stdout",
     "output_type": "stream",
     "text": [
      "Cross-Validation Scores: [0.78375 0.75875 0.73875 0.755   0.78375]\n",
      "Mean Accuracy: 0.7640\n"
     ]
    }
   ],
   "source": [
    "from sklearn.model_selection import cross_val_score\n",
    "\n",
    "# Perform 5-fold cross-validation\n",
    "cv_scores = cross_val_score(model, X, y, cv=5, scoring='accuracy')\n",
    "print(f\"Cross-Validation Scores: {cv_scores}\")\n",
    "print(f\"Mean Accuracy: {cv_scores.mean():.4f}\")"
   ]
  },
  {
   "cell_type": "code",
   "execution_count": null,
   "metadata": {},
   "outputs": [
    {
     "ename": "TypeError",
     "evalue": "'int' object is not iterable",
     "output_type": "error",
     "traceback": [
      "\u001b[0;31m---------------------------------------------------------------------------\u001b[0m",
      "\u001b[0;31mTypeError\u001b[0m                                 Traceback (most recent call last)",
      "Cell \u001b[0;32mIn[257], line 1\u001b[0m\n\u001b[0;32m----> 1\u001b[0m \u001b[39mdict\u001b[39m(\u001b[39mzip\u001b[39;49m(\u001b[39m*\u001b[39;49m\u001b[39mlist\u001b[39;49m(\u001b[39mrange\u001b[39;49m(\u001b[39mlen\u001b[39;49m(df[\u001b[39m'\u001b[39;49m\u001b[39mtopic\u001b[39;49m\u001b[39m'\u001b[39;49m]\u001b[39m.\u001b[39;49munique()))), \u001b[39m*\u001b[39;49mdf[\u001b[39m'\u001b[39;49m\u001b[39mtopic\u001b[39;49m\u001b[39m'\u001b[39;49m]\u001b[39m.\u001b[39;49munique()))\n",
      "\u001b[0;31mTypeError\u001b[0m: 'int' object is not iterable"
     ]
    }
   ],
   "source": [
    "dict(zip(*list(range(len(df['topic'].unique()))), *df['topic'].unique()))"
   ]
  },
  {
   "cell_type": "code",
   "execution_count": null,
   "metadata": {},
   "outputs": [],
   "source": [
    "topic_label = dict(zip(df['topic'].unique(), list(range(len(df['topic'].unique())))))"
   ]
  },
  {
   "cell_type": "code",
   "execution_count": null,
   "metadata": {},
   "outputs": [],
   "source": [
    "df['topics_x'] = df['topic'].map(topic_label)"
   ]
  },
  {
   "cell_type": "code",
   "execution_count": null,
   "metadata": {},
   "outputs": [
    {
     "data": {
      "text/plain": [
       "array([  0,   0,   0, ..., 799, 799, 799])"
      ]
     },
     "execution_count": 268,
     "metadata": {},
     "output_type": "execute_result"
    }
   ],
   "source": [
    "df['topics_x'].values"
   ]
  },
  {
   "cell_type": "code",
   "execution_count": null,
   "metadata": {},
   "outputs": [
    {
     "data": {
      "text/plain": [
       "array([[-0.04947922,  0.00390986, -0.03762264, ...,  0.01620547,\n",
       "         0.0353536 , -0.03616568],\n",
       "       [-0.0340184 ,  0.13777149, -0.0478058 , ...,  0.00793329,\n",
       "         0.0662898 , -0.04438638],\n",
       "       [-0.03227288,  0.07103436, -0.02995943, ...,  0.00623094,\n",
       "         0.02559692, -0.0183953 ],\n",
       "       ...,\n",
       "       [-0.02534882,  0.10344818,  0.02397391, ...,  0.04419559,\n",
       "        -0.03875623,  0.02448606],\n",
       "       [-0.03823753,  0.08362838,  0.00661904, ...,  0.02193736,\n",
       "         0.0136553 ,  0.0197244 ],\n",
       "       [-0.02314795,  0.00792491,  0.01666971, ...,  0.03626157,\n",
       "         0.01211415,  0.00769513]], dtype=float32)"
      ]
     },
     "execution_count": 269,
     "metadata": {},
     "output_type": "execute_result"
    }
   ],
   "source": [
    "X"
   ]
  },
  {
   "cell_type": "code",
   "execution_count": null,
   "metadata": {},
   "outputs": [
    {
     "data": {
      "text/plain": [
       "(4000, 1)"
      ]
     },
     "execution_count": 274,
     "metadata": {},
     "output_type": "execute_result"
    }
   ],
   "source": [
    "df['topics_x'].values.reshape(-1, 1).shape"
   ]
  },
  {
   "cell_type": "code",
   "execution_count": null,
   "metadata": {},
   "outputs": [
    {
     "data": {
      "text/plain": [
       "(1, 4000)"
      ]
     },
     "execution_count": 275,
     "metadata": {},
     "output_type": "execute_result"
    }
   ],
   "source": [
    "df['topics_x'].values.reshape(1, -1).shape"
   ]
  },
  {
   "cell_type": "code",
   "execution_count": null,
   "metadata": {},
   "outputs": [
    {
     "data": {
      "text/plain": [
       "array([[-4.94792201e-02,  3.90986213e-03, -3.76226380e-02, ...,\n",
       "         3.53536047e-02, -3.61656807e-02,  0.00000000e+00],\n",
       "       [-3.40184048e-02,  1.37771487e-01, -4.78057973e-02, ...,\n",
       "         6.62897974e-02, -4.43863831e-02,  0.00000000e+00],\n",
       "       [-3.22728790e-02,  7.10343644e-02, -2.99594309e-02, ...,\n",
       "         2.55969204e-02, -1.83953028e-02,  0.00000000e+00],\n",
       "       ...,\n",
       "       [-2.53488235e-02,  1.03448182e-01,  2.39739083e-02, ...,\n",
       "        -3.87562327e-02,  2.44860612e-02,  7.99000000e+02],\n",
       "       [-3.82375345e-02,  8.36283788e-02,  6.61903806e-03, ...,\n",
       "         1.36553021e-02,  1.97244044e-02,  7.99000000e+02],\n",
       "       [-2.31479481e-02,  7.92491063e-03,  1.66697055e-02, ...,\n",
       "         1.21141504e-02,  7.69512681e-03,  7.99000000e+02]])"
      ]
     },
     "execution_count": 278,
     "metadata": {},
     "output_type": "execute_result"
    }
   ],
   "source": [
    "np.hstack([X, df['topics_x'].values.reshape(-1, 1)])"
   ]
  },
  {
   "cell_type": "code",
   "execution_count": null,
   "metadata": {},
   "outputs": [],
   "source": [
    "X_new = np.hstack([X, df['topics_x'].values.reshape(-1, 1)])"
   ]
  },
  {
   "cell_type": "code",
   "execution_count": null,
   "metadata": {},
   "outputs": [],
   "source": [
    "model2 = LogisticRegression(multi_class='multinomial', )"
   ]
  },
  {
   "cell_type": "code",
   "execution_count": null,
   "metadata": {},
   "outputs": [],
   "source": [
    "model2 = LogisticRegression(multi_class='multinomial', solver='lbfgs', max_iter=1000)\n",
    "X_train, X_test, y_train, y_test = train_test_split(X_new, y, test_size=0.2, random_state=42)"
   ]
  },
  {
   "cell_type": "code",
   "execution_count": null,
   "metadata": {},
   "outputs": [
    {
     "name": "stderr",
     "output_type": "stream",
     "text": [
      "/opt/homebrew/Caskroom/miniforge/base/envs/garfield/lib/python3.12/site-packages/sklearn/linear_model/_logistic.py:1247: FutureWarning: 'multi_class' was deprecated in version 1.5 and will be removed in 1.7. From then on, it will always use 'multinomial'. Leave it to its default value to avoid this warning.\n",
      "  warnings.warn(\n",
      "/opt/homebrew/Caskroom/miniforge/base/envs/garfield/lib/python3.12/site-packages/sklearn/linear_model/_logistic.py:469: ConvergenceWarning: lbfgs failed to converge (status=1):\n",
      "STOP: TOTAL NO. of ITERATIONS REACHED LIMIT.\n",
      "\n",
      "Increase the number of iterations (max_iter) or scale the data as shown in:\n",
      "    https://scikit-learn.org/stable/modules/preprocessing.html\n",
      "Please also refer to the documentation for alternative solver options:\n",
      "    https://scikit-learn.org/stable/modules/linear_model.html#logistic-regression\n",
      "  n_iter_i = _check_optimize_result(\n"
     ]
    },
    {
     "data": {
      "text/html": [
       "<style>#sk-container-id-4 {\n",
       "  /* Definition of color scheme common for light and dark mode */\n",
       "  --sklearn-color-text: black;\n",
       "  --sklearn-color-line: gray;\n",
       "  /* Definition of color scheme for unfitted estimators */\n",
       "  --sklearn-color-unfitted-level-0: #fff5e6;\n",
       "  --sklearn-color-unfitted-level-1: #f6e4d2;\n",
       "  --sklearn-color-unfitted-level-2: #ffe0b3;\n",
       "  --sklearn-color-unfitted-level-3: chocolate;\n",
       "  /* Definition of color scheme for fitted estimators */\n",
       "  --sklearn-color-fitted-level-0: #f0f8ff;\n",
       "  --sklearn-color-fitted-level-1: #d4ebff;\n",
       "  --sklearn-color-fitted-level-2: #b3dbfd;\n",
       "  --sklearn-color-fitted-level-3: cornflowerblue;\n",
       "\n",
       "  /* Specific color for light theme */\n",
       "  --sklearn-color-text-on-default-background: var(--sg-text-color, var(--theme-code-foreground, var(--jp-content-font-color1, black)));\n",
       "  --sklearn-color-background: var(--sg-background-color, var(--theme-background, var(--jp-layout-color0, white)));\n",
       "  --sklearn-color-border-box: var(--sg-text-color, var(--theme-code-foreground, var(--jp-content-font-color1, black)));\n",
       "  --sklearn-color-icon: #696969;\n",
       "\n",
       "  @media (prefers-color-scheme: dark) {\n",
       "    /* Redefinition of color scheme for dark theme */\n",
       "    --sklearn-color-text-on-default-background: var(--sg-text-color, var(--theme-code-foreground, var(--jp-content-font-color1, white)));\n",
       "    --sklearn-color-background: var(--sg-background-color, var(--theme-background, var(--jp-layout-color0, #111)));\n",
       "    --sklearn-color-border-box: var(--sg-text-color, var(--theme-code-foreground, var(--jp-content-font-color1, white)));\n",
       "    --sklearn-color-icon: #878787;\n",
       "  }\n",
       "}\n",
       "\n",
       "#sk-container-id-4 {\n",
       "  color: var(--sklearn-color-text);\n",
       "}\n",
       "\n",
       "#sk-container-id-4 pre {\n",
       "  padding: 0;\n",
       "}\n",
       "\n",
       "#sk-container-id-4 input.sk-hidden--visually {\n",
       "  border: 0;\n",
       "  clip: rect(1px 1px 1px 1px);\n",
       "  clip: rect(1px, 1px, 1px, 1px);\n",
       "  height: 1px;\n",
       "  margin: -1px;\n",
       "  overflow: hidden;\n",
       "  padding: 0;\n",
       "  position: absolute;\n",
       "  width: 1px;\n",
       "}\n",
       "\n",
       "#sk-container-id-4 div.sk-dashed-wrapped {\n",
       "  border: 1px dashed var(--sklearn-color-line);\n",
       "  margin: 0 0.4em 0.5em 0.4em;\n",
       "  box-sizing: border-box;\n",
       "  padding-bottom: 0.4em;\n",
       "  background-color: var(--sklearn-color-background);\n",
       "}\n",
       "\n",
       "#sk-container-id-4 div.sk-container {\n",
       "  /* jupyter's `normalize.less` sets `[hidden] { display: none; }`\n",
       "     but bootstrap.min.css set `[hidden] { display: none !important; }`\n",
       "     so we also need the `!important` here to be able to override the\n",
       "     default hidden behavior on the sphinx rendered scikit-learn.org.\n",
       "     See: https://github.com/scikit-learn/scikit-learn/issues/21755 */\n",
       "  display: inline-block !important;\n",
       "  position: relative;\n",
       "}\n",
       "\n",
       "#sk-container-id-4 div.sk-text-repr-fallback {\n",
       "  display: none;\n",
       "}\n",
       "\n",
       "div.sk-parallel-item,\n",
       "div.sk-serial,\n",
       "div.sk-item {\n",
       "  /* draw centered vertical line to link estimators */\n",
       "  background-image: linear-gradient(var(--sklearn-color-text-on-default-background), var(--sklearn-color-text-on-default-background));\n",
       "  background-size: 2px 100%;\n",
       "  background-repeat: no-repeat;\n",
       "  background-position: center center;\n",
       "}\n",
       "\n",
       "/* Parallel-specific style estimator block */\n",
       "\n",
       "#sk-container-id-4 div.sk-parallel-item::after {\n",
       "  content: \"\";\n",
       "  width: 100%;\n",
       "  border-bottom: 2px solid var(--sklearn-color-text-on-default-background);\n",
       "  flex-grow: 1;\n",
       "}\n",
       "\n",
       "#sk-container-id-4 div.sk-parallel {\n",
       "  display: flex;\n",
       "  align-items: stretch;\n",
       "  justify-content: center;\n",
       "  background-color: var(--sklearn-color-background);\n",
       "  position: relative;\n",
       "}\n",
       "\n",
       "#sk-container-id-4 div.sk-parallel-item {\n",
       "  display: flex;\n",
       "  flex-direction: column;\n",
       "}\n",
       "\n",
       "#sk-container-id-4 div.sk-parallel-item:first-child::after {\n",
       "  align-self: flex-end;\n",
       "  width: 50%;\n",
       "}\n",
       "\n",
       "#sk-container-id-4 div.sk-parallel-item:last-child::after {\n",
       "  align-self: flex-start;\n",
       "  width: 50%;\n",
       "}\n",
       "\n",
       "#sk-container-id-4 div.sk-parallel-item:only-child::after {\n",
       "  width: 0;\n",
       "}\n",
       "\n",
       "/* Serial-specific style estimator block */\n",
       "\n",
       "#sk-container-id-4 div.sk-serial {\n",
       "  display: flex;\n",
       "  flex-direction: column;\n",
       "  align-items: center;\n",
       "  background-color: var(--sklearn-color-background);\n",
       "  padding-right: 1em;\n",
       "  padding-left: 1em;\n",
       "}\n",
       "\n",
       "\n",
       "/* Toggleable style: style used for estimator/Pipeline/ColumnTransformer box that is\n",
       "clickable and can be expanded/collapsed.\n",
       "- Pipeline and ColumnTransformer use this feature and define the default style\n",
       "- Estimators will overwrite some part of the style using the `sk-estimator` class\n",
       "*/\n",
       "\n",
       "/* Pipeline and ColumnTransformer style (default) */\n",
       "\n",
       "#sk-container-id-4 div.sk-toggleable {\n",
       "  /* Default theme specific background. It is overwritten whether we have a\n",
       "  specific estimator or a Pipeline/ColumnTransformer */\n",
       "  background-color: var(--sklearn-color-background);\n",
       "}\n",
       "\n",
       "/* Toggleable label */\n",
       "#sk-container-id-4 label.sk-toggleable__label {\n",
       "  cursor: pointer;\n",
       "  display: block;\n",
       "  width: 100%;\n",
       "  margin-bottom: 0;\n",
       "  padding: 0.5em;\n",
       "  box-sizing: border-box;\n",
       "  text-align: center;\n",
       "}\n",
       "\n",
       "#sk-container-id-4 label.sk-toggleable__label-arrow:before {\n",
       "  /* Arrow on the left of the label */\n",
       "  content: \"▸\";\n",
       "  float: left;\n",
       "  margin-right: 0.25em;\n",
       "  color: var(--sklearn-color-icon);\n",
       "}\n",
       "\n",
       "#sk-container-id-4 label.sk-toggleable__label-arrow:hover:before {\n",
       "  color: var(--sklearn-color-text);\n",
       "}\n",
       "\n",
       "/* Toggleable content - dropdown */\n",
       "\n",
       "#sk-container-id-4 div.sk-toggleable__content {\n",
       "  max-height: 0;\n",
       "  max-width: 0;\n",
       "  overflow: hidden;\n",
       "  text-align: left;\n",
       "  /* unfitted */\n",
       "  background-color: var(--sklearn-color-unfitted-level-0);\n",
       "}\n",
       "\n",
       "#sk-container-id-4 div.sk-toggleable__content.fitted {\n",
       "  /* fitted */\n",
       "  background-color: var(--sklearn-color-fitted-level-0);\n",
       "}\n",
       "\n",
       "#sk-container-id-4 div.sk-toggleable__content pre {\n",
       "  margin: 0.2em;\n",
       "  border-radius: 0.25em;\n",
       "  color: var(--sklearn-color-text);\n",
       "  /* unfitted */\n",
       "  background-color: var(--sklearn-color-unfitted-level-0);\n",
       "}\n",
       "\n",
       "#sk-container-id-4 div.sk-toggleable__content.fitted pre {\n",
       "  /* unfitted */\n",
       "  background-color: var(--sklearn-color-fitted-level-0);\n",
       "}\n",
       "\n",
       "#sk-container-id-4 input.sk-toggleable__control:checked~div.sk-toggleable__content {\n",
       "  /* Expand drop-down */\n",
       "  max-height: 200px;\n",
       "  max-width: 100%;\n",
       "  overflow: auto;\n",
       "}\n",
       "\n",
       "#sk-container-id-4 input.sk-toggleable__control:checked~label.sk-toggleable__label-arrow:before {\n",
       "  content: \"▾\";\n",
       "}\n",
       "\n",
       "/* Pipeline/ColumnTransformer-specific style */\n",
       "\n",
       "#sk-container-id-4 div.sk-label input.sk-toggleable__control:checked~label.sk-toggleable__label {\n",
       "  color: var(--sklearn-color-text);\n",
       "  background-color: var(--sklearn-color-unfitted-level-2);\n",
       "}\n",
       "\n",
       "#sk-container-id-4 div.sk-label.fitted input.sk-toggleable__control:checked~label.sk-toggleable__label {\n",
       "  background-color: var(--sklearn-color-fitted-level-2);\n",
       "}\n",
       "\n",
       "/* Estimator-specific style */\n",
       "\n",
       "/* Colorize estimator box */\n",
       "#sk-container-id-4 div.sk-estimator input.sk-toggleable__control:checked~label.sk-toggleable__label {\n",
       "  /* unfitted */\n",
       "  background-color: var(--sklearn-color-unfitted-level-2);\n",
       "}\n",
       "\n",
       "#sk-container-id-4 div.sk-estimator.fitted input.sk-toggleable__control:checked~label.sk-toggleable__label {\n",
       "  /* fitted */\n",
       "  background-color: var(--sklearn-color-fitted-level-2);\n",
       "}\n",
       "\n",
       "#sk-container-id-4 div.sk-label label.sk-toggleable__label,\n",
       "#sk-container-id-4 div.sk-label label {\n",
       "  /* The background is the default theme color */\n",
       "  color: var(--sklearn-color-text-on-default-background);\n",
       "}\n",
       "\n",
       "/* On hover, darken the color of the background */\n",
       "#sk-container-id-4 div.sk-label:hover label.sk-toggleable__label {\n",
       "  color: var(--sklearn-color-text);\n",
       "  background-color: var(--sklearn-color-unfitted-level-2);\n",
       "}\n",
       "\n",
       "/* Label box, darken color on hover, fitted */\n",
       "#sk-container-id-4 div.sk-label.fitted:hover label.sk-toggleable__label.fitted {\n",
       "  color: var(--sklearn-color-text);\n",
       "  background-color: var(--sklearn-color-fitted-level-2);\n",
       "}\n",
       "\n",
       "/* Estimator label */\n",
       "\n",
       "#sk-container-id-4 div.sk-label label {\n",
       "  font-family: monospace;\n",
       "  font-weight: bold;\n",
       "  display: inline-block;\n",
       "  line-height: 1.2em;\n",
       "}\n",
       "\n",
       "#sk-container-id-4 div.sk-label-container {\n",
       "  text-align: center;\n",
       "}\n",
       "\n",
       "/* Estimator-specific */\n",
       "#sk-container-id-4 div.sk-estimator {\n",
       "  font-family: monospace;\n",
       "  border: 1px dotted var(--sklearn-color-border-box);\n",
       "  border-radius: 0.25em;\n",
       "  box-sizing: border-box;\n",
       "  margin-bottom: 0.5em;\n",
       "  /* unfitted */\n",
       "  background-color: var(--sklearn-color-unfitted-level-0);\n",
       "}\n",
       "\n",
       "#sk-container-id-4 div.sk-estimator.fitted {\n",
       "  /* fitted */\n",
       "  background-color: var(--sklearn-color-fitted-level-0);\n",
       "}\n",
       "\n",
       "/* on hover */\n",
       "#sk-container-id-4 div.sk-estimator:hover {\n",
       "  /* unfitted */\n",
       "  background-color: var(--sklearn-color-unfitted-level-2);\n",
       "}\n",
       "\n",
       "#sk-container-id-4 div.sk-estimator.fitted:hover {\n",
       "  /* fitted */\n",
       "  background-color: var(--sklearn-color-fitted-level-2);\n",
       "}\n",
       "\n",
       "/* Specification for estimator info (e.g. \"i\" and \"?\") */\n",
       "\n",
       "/* Common style for \"i\" and \"?\" */\n",
       "\n",
       ".sk-estimator-doc-link,\n",
       "a:link.sk-estimator-doc-link,\n",
       "a:visited.sk-estimator-doc-link {\n",
       "  float: right;\n",
       "  font-size: smaller;\n",
       "  line-height: 1em;\n",
       "  font-family: monospace;\n",
       "  background-color: var(--sklearn-color-background);\n",
       "  border-radius: 1em;\n",
       "  height: 1em;\n",
       "  width: 1em;\n",
       "  text-decoration: none !important;\n",
       "  margin-left: 1ex;\n",
       "  /* unfitted */\n",
       "  border: var(--sklearn-color-unfitted-level-1) 1pt solid;\n",
       "  color: var(--sklearn-color-unfitted-level-1);\n",
       "}\n",
       "\n",
       ".sk-estimator-doc-link.fitted,\n",
       "a:link.sk-estimator-doc-link.fitted,\n",
       "a:visited.sk-estimator-doc-link.fitted {\n",
       "  /* fitted */\n",
       "  border: var(--sklearn-color-fitted-level-1) 1pt solid;\n",
       "  color: var(--sklearn-color-fitted-level-1);\n",
       "}\n",
       "\n",
       "/* On hover */\n",
       "div.sk-estimator:hover .sk-estimator-doc-link:hover,\n",
       ".sk-estimator-doc-link:hover,\n",
       "div.sk-label-container:hover .sk-estimator-doc-link:hover,\n",
       ".sk-estimator-doc-link:hover {\n",
       "  /* unfitted */\n",
       "  background-color: var(--sklearn-color-unfitted-level-3);\n",
       "  color: var(--sklearn-color-background);\n",
       "  text-decoration: none;\n",
       "}\n",
       "\n",
       "div.sk-estimator.fitted:hover .sk-estimator-doc-link.fitted:hover,\n",
       ".sk-estimator-doc-link.fitted:hover,\n",
       "div.sk-label-container:hover .sk-estimator-doc-link.fitted:hover,\n",
       ".sk-estimator-doc-link.fitted:hover {\n",
       "  /* fitted */\n",
       "  background-color: var(--sklearn-color-fitted-level-3);\n",
       "  color: var(--sklearn-color-background);\n",
       "  text-decoration: none;\n",
       "}\n",
       "\n",
       "/* Span, style for the box shown on hovering the info icon */\n",
       ".sk-estimator-doc-link span {\n",
       "  display: none;\n",
       "  z-index: 9999;\n",
       "  position: relative;\n",
       "  font-weight: normal;\n",
       "  right: .2ex;\n",
       "  padding: .5ex;\n",
       "  margin: .5ex;\n",
       "  width: min-content;\n",
       "  min-width: 20ex;\n",
       "  max-width: 50ex;\n",
       "  color: var(--sklearn-color-text);\n",
       "  box-shadow: 2pt 2pt 4pt #999;\n",
       "  /* unfitted */\n",
       "  background: var(--sklearn-color-unfitted-level-0);\n",
       "  border: .5pt solid var(--sklearn-color-unfitted-level-3);\n",
       "}\n",
       "\n",
       ".sk-estimator-doc-link.fitted span {\n",
       "  /* fitted */\n",
       "  background: var(--sklearn-color-fitted-level-0);\n",
       "  border: var(--sklearn-color-fitted-level-3);\n",
       "}\n",
       "\n",
       ".sk-estimator-doc-link:hover span {\n",
       "  display: block;\n",
       "}\n",
       "\n",
       "/* \"?\"-specific style due to the `<a>` HTML tag */\n",
       "\n",
       "#sk-container-id-4 a.estimator_doc_link {\n",
       "  float: right;\n",
       "  font-size: 1rem;\n",
       "  line-height: 1em;\n",
       "  font-family: monospace;\n",
       "  background-color: var(--sklearn-color-background);\n",
       "  border-radius: 1rem;\n",
       "  height: 1rem;\n",
       "  width: 1rem;\n",
       "  text-decoration: none;\n",
       "  /* unfitted */\n",
       "  color: var(--sklearn-color-unfitted-level-1);\n",
       "  border: var(--sklearn-color-unfitted-level-1) 1pt solid;\n",
       "}\n",
       "\n",
       "#sk-container-id-4 a.estimator_doc_link.fitted {\n",
       "  /* fitted */\n",
       "  border: var(--sklearn-color-fitted-level-1) 1pt solid;\n",
       "  color: var(--sklearn-color-fitted-level-1);\n",
       "}\n",
       "\n",
       "/* On hover */\n",
       "#sk-container-id-4 a.estimator_doc_link:hover {\n",
       "  /* unfitted */\n",
       "  background-color: var(--sklearn-color-unfitted-level-3);\n",
       "  color: var(--sklearn-color-background);\n",
       "  text-decoration: none;\n",
       "}\n",
       "\n",
       "#sk-container-id-4 a.estimator_doc_link.fitted:hover {\n",
       "  /* fitted */\n",
       "  background-color: var(--sklearn-color-fitted-level-3);\n",
       "}\n",
       "</style><div id=\"sk-container-id-4\" class=\"sk-top-container\"><div class=\"sk-text-repr-fallback\"><pre>LogisticRegression(max_iter=1000, multi_class=&#x27;multinomial&#x27;)</pre><b>In a Jupyter environment, please rerun this cell to show the HTML representation or trust the notebook. <br />On GitHub, the HTML representation is unable to render, please try loading this page with nbviewer.org.</b></div><div class=\"sk-container\" hidden><div class=\"sk-item\"><div class=\"sk-estimator fitted sk-toggleable\"><input class=\"sk-toggleable__control sk-hidden--visually\" id=\"sk-estimator-id-4\" type=\"checkbox\" checked><label for=\"sk-estimator-id-4\" class=\"sk-toggleable__label fitted sk-toggleable__label-arrow fitted\">&nbsp;&nbsp;LogisticRegression<a class=\"sk-estimator-doc-link fitted\" rel=\"noreferrer\" target=\"_blank\" href=\"https://scikit-learn.org/1.5/modules/generated/sklearn.linear_model.LogisticRegression.html\">?<span>Documentation for LogisticRegression</span></a><span class=\"sk-estimator-doc-link fitted\">i<span>Fitted</span></span></label><div class=\"sk-toggleable__content fitted\"><pre>LogisticRegression(max_iter=1000, multi_class=&#x27;multinomial&#x27;)</pre></div> </div></div></div></div>"
      ],
      "text/plain": [
       "LogisticRegression(max_iter=1000, multi_class='multinomial')"
      ]
     },
     "execution_count": 288,
     "metadata": {},
     "output_type": "execute_result"
    }
   ],
   "source": [
    "model2.fit(X_train, y_train)"
   ]
  },
  {
   "cell_type": "code",
   "execution_count": null,
   "metadata": {},
   "outputs": [
    {
     "name": "stdout",
     "output_type": "stream",
     "text": [
      "              precision    recall  f1-score   support\n",
      "\n",
      "           0       0.86      0.85      0.86       143\n",
      "           1       0.73      0.76      0.75       160\n",
      "           2       0.90      0.85      0.87       168\n",
      "           3       0.57      0.57      0.57       174\n",
      "           4       0.50      0.52      0.51       155\n",
      "\n",
      "    accuracy                           0.71       800\n",
      "   macro avg       0.71      0.71      0.71       800\n",
      "weighted avg       0.71      0.71      0.71       800\n",
      "\n"
     ]
    }
   ],
   "source": [
    "y_pred_new = model2.predict(X_test)\n",
    "print(classification_report(y_test, y_pred_new))"
   ]
  },
  {
   "cell_type": "code",
   "execution_count": null,
   "metadata": {},
   "outputs": [],
   "source": [
    "model3 = LogisticRegression(multi_class='multinomial', solver='lbfgs', max_iter=1000)\n",
    "X_train, X_test, y_train, y_test = train_test_split(X, df['topics_x'].values, test_size=0.2, random_state=42)"
   ]
  },
  {
   "cell_type": "code",
   "execution_count": null,
   "metadata": {},
   "outputs": [
    {
     "data": {
      "text/plain": [
       "array([2])"
      ]
     },
     "execution_count": 294,
     "metadata": {},
     "output_type": "execute_result"
    }
   ],
   "source": [
    "model.predict(sample)"
   ]
  },
  {
   "cell_type": "code",
   "execution_count": null,
   "metadata": {},
   "outputs": [
    {
     "data": {
      "text/plain": [
       "array([[-1.82056191, -1.86182902, -0.63411523, -2.319204  , -2.92024092]])"
      ]
     },
     "execution_count": 295,
     "metadata": {},
     "output_type": "execute_result"
    }
   ],
   "source": [
    "model.predict_log_proba(sample)"
   ]
  },
  {
   "cell_type": "code",
   "execution_count": null,
   "metadata": {},
   "outputs": [
    {
     "data": {
      "text/plain": [
       "array([[0.16193473, 0.15538816, 0.53040457, 0.09835184, 0.0539207 ]])"
      ]
     },
     "execution_count": 296,
     "metadata": {},
     "output_type": "execute_result"
    }
   ],
   "source": [
    "model.predict_proba(sample)"
   ]
  },
  {
   "cell_type": "code",
   "execution_count": null,
   "metadata": {},
   "outputs": [
    {
     "data": {
      "text/plain": [
       "array(['extraversion', 'agreeableness', 'neuroticism', 'openness',\n",
       "       'conscientiousness'], dtype=object)"
      ]
     },
     "execution_count": 297,
     "metadata": {},
     "output_type": "execute_result"
    }
   ],
   "source": [
    "personality_label"
   ]
  },
  {
   "cell_type": "code",
   "execution_count": null,
   "metadata": {},
   "outputs": [
    {
     "data": {
      "text/plain": [
       "{'extraversion': 0,\n",
       " 'agreeableness': 1,\n",
       " 'neuroticism': 2,\n",
       " 'openness': 3,\n",
       " 'conscientiousness': 4}"
      ]
     },
     "execution_count": 298,
     "metadata": {},
     "output_type": "execute_result"
    }
   ],
   "source": [
    "{label: i for i, label in enumerate(personality_label)}"
   ]
  },
  {
   "cell_type": "code",
   "execution_count": null,
   "metadata": {},
   "outputs": [],
   "source": [
    "X_train, X_test, y_train, y_test = train_test_split(X, y, test_size=0.2, random_state=42)"
   ]
  },
  {
   "cell_type": "code",
   "execution_count": null,
   "metadata": {},
   "outputs": [
    {
     "data": {
      "text/plain": [
       "0.8128125"
      ]
     },
     "execution_count": 301,
     "metadata": {},
     "output_type": "execute_result"
    }
   ],
   "source": [
    "model.score(X_train, y_train)"
   ]
  },
  {
   "cell_type": "code",
   "execution_count": null,
   "metadata": {},
   "outputs": [
    {
     "data": {
      "text/plain": [
       "array([[-1.02324088,  0.02931428, -0.14135595, ...,  0.33170308,\n",
       "        -0.15117628, -0.47958354],\n",
       "       [ 0.54204147,  0.47016336, -0.35241031, ..., -0.74354204,\n",
       "         1.32889264, -0.01241542],\n",
       "       [-0.04863474,  1.37890983, -0.175515  , ..., -0.34131761,\n",
       "        -0.08942773,  0.36455713],\n",
       "       [ 0.11577656, -1.2347381 ,  0.23807798, ...,  0.6024282 ,\n",
       "        -0.99595097,  0.1069609 ],\n",
       "       [ 0.41405759, -0.64364937,  0.43120328, ...,  0.15072837,\n",
       "        -0.09233766,  0.02048094]])"
      ]
     },
     "execution_count": 302,
     "metadata": {},
     "output_type": "execute_result"
    }
   ],
   "source": [
    "model.coef_"
   ]
  },
  {
   "cell_type": "code",
   "execution_count": null,
   "metadata": {},
   "outputs": [
    {
     "data": {
      "text/plain": [
       "(5, 768)"
      ]
     },
     "execution_count": 303,
     "metadata": {},
     "output_type": "execute_result"
    }
   ],
   "source": [
    "model.coef_.shape"
   ]
  },
  {
   "cell_type": "code",
   "execution_count": null,
   "metadata": {},
   "outputs": [
    {
     "data": {
      "text/plain": [
       "array([-1.02324088e+00,  2.93142758e-02, -1.41355947e-01,  3.93599324e-01,\n",
       "        1.18423439e+00, -9.61626168e-01, -1.28980018e-01,  3.11874926e-01,\n",
       "        8.41498776e-02, -1.88515575e-01, -4.07348621e-01, -3.99322713e-01,\n",
       "       -7.07394179e-01,  1.06272503e+00,  1.21237988e+00,  7.98697970e-01,\n",
       "        7.75704972e-01, -3.70125359e-01, -8.89047110e-01,  7.52396094e-01,\n",
       "        1.95298762e-01,  6.13823979e-02, -7.09370286e-01, -8.21844666e-01,\n",
       "        3.71357170e-01,  7.69697957e-01, -8.73241293e-01, -6.04498720e-01,\n",
       "       -7.81078557e-01,  1.00706456e-01,  1.70841310e-02, -1.62287183e-01,\n",
       "        1.12926474e+00,  1.64022745e+00, -1.53104036e-05, -8.58582217e-01,\n",
       "       -1.53746498e-01,  4.17479023e-01,  1.95357110e-01,  3.72818877e-02,\n",
       "       -5.10862700e-01,  2.07109435e-01, -7.11898871e-01, -1.02309598e-02,\n",
       "       -2.56075493e-01, -2.27441012e-01, -4.27467955e-01,  8.11899897e-02,\n",
       "       -2.18729686e-01, -4.41833944e-01, -7.21862540e-01, -4.97227332e-01,\n",
       "        5.23667132e-01, -1.02387695e-01,  6.78856776e-01,  3.78563663e-02,\n",
       "        8.30693739e-01,  2.59179809e-01,  2.31048078e-01,  1.79734668e-01,\n",
       "        8.84982483e-01, -1.00982865e+00,  1.00029753e+00, -5.87370352e-01,\n",
       "       -5.29639831e-01, -2.42301274e-01, -3.10918811e-01,  1.03063114e+00,\n",
       "       -4.18791480e-01,  9.64378497e-01,  7.58444106e-01, -3.83327139e-01,\n",
       "       -7.32359613e-02,  3.96983194e-01,  9.36915835e-02,  3.65018825e-01,\n",
       "       -5.35411523e-02,  6.03738935e-01,  1.79519689e-01,  5.59033927e-01,\n",
       "        4.90289427e-01, -2.93614356e-01,  1.12000029e-01, -2.72868707e-01,\n",
       "       -5.59607281e-01,  7.89966366e-01, -2.51195788e-01, -5.85486358e-01,\n",
       "        3.63377574e-01,  3.61110387e-01, -5.91341405e-01,  8.97472360e-01,\n",
       "       -2.66415095e-01, -8.74916480e-02, -6.46790332e-01, -1.54279437e-01,\n",
       "        8.96969982e-01, -1.82245139e-01,  9.12941869e-01, -7.41674381e-02,\n",
       "       -5.70266975e-01, -1.41929042e-01,  3.49390725e-01, -3.88166760e-01,\n",
       "        4.67067532e-01,  2.05497915e-01, -4.28623481e-01, -4.61330527e-01,\n",
       "        6.75367982e-01, -4.96201397e-01, -6.29356422e-03,  3.30696702e-02,\n",
       "        1.17700858e+00,  2.00412249e-01, -4.03135233e-01,  7.71418789e-01,\n",
       "       -8.41595193e-01, -1.15453679e-01,  4.84528940e-01, -5.80726805e-02,\n",
       "        7.61392705e-01,  5.29086848e-01, -8.96045322e-01, -4.67306685e-01,\n",
       "        2.54578190e-01, -2.91074591e-01,  6.91071676e-01, -6.00639314e-02,\n",
       "       -3.14689919e-01,  3.16373284e-01, -2.06446083e-03,  2.88481630e-01,\n",
       "       -2.24782622e-01, -7.32072980e-01, -4.00047636e-01, -8.04560660e-02,\n",
       "       -1.46641086e+00,  1.60107160e-01, -5.44209361e-03, -2.61036692e-01,\n",
       "        4.36875770e-01,  1.02744912e+00, -1.38927871e-01, -8.19500716e-02,\n",
       "        3.40934955e-01, -1.25626390e-01, -3.76245885e-01,  7.12838762e-01,\n",
       "       -1.13968041e-02,  5.00990337e-01,  1.82570085e+00,  1.75947268e-01,\n",
       "       -7.60854272e-01,  4.96434530e-01,  2.16700851e-01, -4.67592396e-01,\n",
       "       -2.54731002e-01,  8.70023178e-01,  7.10714491e-01,  1.74183334e-01,\n",
       "        6.99229853e-01,  3.58832870e-01, -2.51844701e-01,  9.80450919e-01,\n",
       "        3.70738383e-01, -6.67079496e-01, -2.39591999e-01, -5.99222357e-01,\n",
       "        7.95699443e-01, -1.38970497e+00, -1.01872264e+00,  3.29491599e-01,\n",
       "        1.49598372e-01, -4.10195284e-01, -1.74759212e-01, -1.06390425e+00,\n",
       "       -2.79006270e-01, -8.77396543e-02,  2.25554833e-01, -7.10874011e-01,\n",
       "       -3.17506033e-01, -7.70544907e-01,  7.14058378e-01, -3.76868679e-01,\n",
       "        3.49991358e-01, -2.32415315e-01,  7.47545121e-01,  4.93713034e-01,\n",
       "        2.74216183e-01,  7.16183461e-01,  7.34638769e-02, -2.12064298e-01,\n",
       "       -4.11194003e-01, -3.93737156e-01, -4.86226671e-02, -1.20491950e-01,\n",
       "       -2.60963211e-01,  3.40946812e-01,  3.41779606e-01,  3.80002485e-01,\n",
       "       -5.58010769e-01,  9.37979145e-01, -1.00880359e+00, -7.50513309e-01,\n",
       "       -4.43493449e-01,  1.29270764e-01, -1.32445974e+00,  3.13966853e-01,\n",
       "        3.46329075e-01,  5.81447676e-01,  4.36752916e-01, -1.90268214e-01,\n",
       "        2.85237852e-01, -4.86539664e-01,  7.61379749e-01, -9.77656352e-02,\n",
       "        3.28649976e-01, -2.72722173e-03,  1.40586397e+00,  5.25704631e-01,\n",
       "       -5.26685286e-02,  2.43113831e-01, -9.45519178e-02,  1.35471448e-01,\n",
       "       -4.86782813e-01, -2.69740707e-01, -2.21323565e-01,  3.02925364e-01,\n",
       "       -5.37259602e-02, -3.87886989e-03, -4.67571130e-01,  6.24826185e-02,\n",
       "        7.44862311e-01, -2.75473080e-01,  4.03133568e-01,  2.96563922e-01,\n",
       "       -2.06420616e-01, -5.53861696e-01, -2.70479844e-01,  2.83373693e-01,\n",
       "       -1.52041031e-01, -2.40286703e-01,  2.91693599e-01, -5.46593832e-02,\n",
       "        9.44173412e-01, -9.89417454e-02, -3.26263214e-01,  1.35195390e-01,\n",
       "       -4.60988640e-01,  7.24794593e-01,  3.53673940e-01,  5.66199387e-01,\n",
       "       -2.30736310e-01, -5.12236988e-01, -7.29234858e-02,  2.37422652e-01,\n",
       "        1.01357878e+00, -7.53117036e-01,  1.36020763e+00,  5.20604127e-01,\n",
       "        1.03340203e+00,  5.78512520e-02,  1.43179909e-01,  2.72724559e-01,\n",
       "        2.12476534e-01,  4.35772228e-01, -6.37510887e-01, -2.51128388e-01,\n",
       "        9.73933179e-02,  6.40712217e-01,  3.60745152e-01, -1.64664314e-01,\n",
       "        1.47573093e-01,  4.49409164e-01,  2.45905654e-01,  3.68418615e-02,\n",
       "        4.99051085e-01,  8.71807793e-01, -4.44075927e-01,  3.74635141e-01,\n",
       "       -6.67400420e-01,  5.03202682e-01, -5.79034156e-02,  2.93798073e-02,\n",
       "       -3.03162316e-01,  1.27546930e-02,  1.36398588e+00, -3.21005508e-01,\n",
       "       -3.37012263e-02, -4.94554528e-01,  3.82476771e-01,  1.08966420e-01,\n",
       "       -3.59160794e-01,  6.52108464e-02, -6.90159944e-02, -9.89762530e-01,\n",
       "       -2.02259990e-01, -1.34501310e-01, -3.40662119e-01, -5.01699953e-01,\n",
       "       -3.03076921e-01, -3.26330017e-01, -4.92790764e-01, -7.55236190e-02,\n",
       "        9.01078168e-02, -3.62025906e-01,  5.16923184e-01,  1.02456683e+00,\n",
       "        3.18039335e-02,  3.21154940e-01, -4.76271990e-01, -1.44740030e-01,\n",
       "       -2.81098346e-01, -8.47058401e-01,  8.69050100e-01,  4.06991539e-01,\n",
       "       -1.36655630e-01, -9.52630618e-03,  3.29602663e-01, -6.37399865e-01,\n",
       "       -7.87204789e-01,  4.73346417e-02,  9.13940585e-01,  9.58349087e-01,\n",
       "       -6.58898350e-01, -4.26673249e-01, -5.31221067e-01, -9.56208855e-01,\n",
       "       -1.39559588e-01, -1.46394067e-01, -8.82641389e-01,  5.31191940e-01,\n",
       "        3.96488620e-01,  2.42264624e-01, -1.46920557e-01, -6.37413810e-01,\n",
       "       -1.83263175e-01, -9.46733392e-03, -1.37021114e+00, -3.08460483e-01,\n",
       "        6.27132667e-02, -6.65275439e-01, -9.20236971e-01,  4.99152356e-02,\n",
       "        8.89544443e-01,  6.77691696e-01, -5.00736678e-01, -3.63682342e-01,\n",
       "       -2.87003947e-01, -3.99956587e-01, -5.09457213e-01,  2.27603215e-01,\n",
       "        5.13472702e-02,  1.88007097e-01, -6.19150771e-01,  2.45252053e-01,\n",
       "        3.61115749e-01,  2.77484304e-01, -1.11533810e+00,  1.62718679e-01,\n",
       "       -7.81316683e-02,  9.51330814e-01, -1.22769434e-01,  3.28021373e-02,\n",
       "       -5.58970129e-01, -5.18525843e-01,  2.49149880e-01,  5.07250351e-01,\n",
       "        2.92165425e-02,  2.30774980e-01, -5.19060668e-01, -5.24492194e-01,\n",
       "        8.15920709e-01, -6.69734823e-01,  1.69699439e-01, -7.59633736e-01,\n",
       "       -2.82605523e-01,  1.96364708e-01,  8.82497780e-01, -2.81619435e-02,\n",
       "       -1.97431373e-01, -1.29653665e-02,  3.63685622e-01, -2.40411369e-02,\n",
       "       -4.86240548e-01,  7.17351555e-03,  4.03206996e-01,  1.83704815e-01,\n",
       "       -3.19534099e-01,  5.78675063e-01,  7.50589100e-01,  6.38311972e-01,\n",
       "        6.90008165e-01, -9.33964394e-01,  7.68126936e-01,  5.77364095e-02,\n",
       "       -6.92922444e-01,  4.47474551e-01,  1.10784699e-01, -3.60086179e-01,\n",
       "       -2.77548980e-01,  5.31464784e-01,  3.23330441e-01, -9.09128647e-02,\n",
       "       -4.01921518e-01, -7.00461557e-01,  1.16676124e+00,  5.67799657e-01,\n",
       "        4.95568230e-01, -4.47270506e-01,  1.29224122e-01, -4.87641888e-01,\n",
       "       -3.76180851e-01, -7.62070576e-02, -2.76962791e-02,  2.92974817e-01,\n",
       "        3.27355979e-01, -2.99657867e-02, -1.27646687e-01,  1.13430328e-01,\n",
       "       -3.60298262e-01,  6.26954663e-01,  1.25505160e-02,  6.51712664e-01,\n",
       "        3.78247740e-01,  1.87082034e-01,  1.78597309e-01,  1.44586598e-01,\n",
       "       -1.11599610e+00, -5.78770414e-01,  8.62356803e-01, -5.46089232e-01,\n",
       "       -7.20088666e-02,  1.40536210e-01, -5.38535322e-01, -2.73979166e-01,\n",
       "       -6.72094777e-02, -5.47184498e-02, -6.70299291e-01, -2.92266574e-01,\n",
       "       -4.71334471e-02,  6.62388814e-01, -8.05668014e-01, -4.67004039e-01,\n",
       "        5.85249400e-01,  5.17609814e-01,  1.07145497e-01,  1.88675699e-01,\n",
       "       -1.07243616e+00, -6.62681921e-01,  2.01536869e-01, -5.56889741e-01,\n",
       "       -7.40381495e-01, -5.51582090e-01,  3.74153383e-01,  5.08685426e-01,\n",
       "        4.55776083e-01,  3.47779150e-01, -6.01858951e-01, -8.29222080e-01,\n",
       "       -6.59999899e-01, -1.67620795e-01,  6.98507243e-01,  1.74755790e-01,\n",
       "        9.88640641e-02,  5.51620405e-01,  4.08888630e-01,  4.88785912e-01,\n",
       "        5.09075021e-01, -2.69869591e-01, -4.35292754e-01, -2.02732769e-01,\n",
       "       -3.34813128e-01,  2.01585958e-01, -5.24203923e-01, -6.31323305e-01,\n",
       "        6.62501797e-01,  3.62740652e-01, -6.12908754e-01,  1.77203502e-01,\n",
       "       -1.13045494e-01,  9.63355340e-02, -2.67027618e-01, -4.19356720e-01,\n",
       "        8.60959833e-02, -1.89208561e-01,  4.17785604e-01, -3.64941464e-02,\n",
       "        1.56321501e-02,  4.02687787e-01, -1.09692367e+00, -1.39904992e-01,\n",
       "        2.65172280e-01, -5.70686140e-01,  1.31500080e-01,  4.54275934e-01,\n",
       "        5.86528766e-01, -1.26818021e+00,  5.06387866e-01,  4.01034475e-01,\n",
       "       -2.81621253e-01, -4.67820361e-01,  3.33923373e-01,  8.40223021e-01,\n",
       "        4.41328052e-01,  4.91934314e-02, -1.49995264e-01,  5.11007789e-01,\n",
       "       -6.89192691e-01, -1.92538475e-01, -4.08835965e-01, -3.21549919e-01,\n",
       "        1.14166292e-01, -2.57956098e-01,  4.31135733e-01, -1.37548715e-01,\n",
       "        5.35474285e-01,  1.16527549e+00,  1.69078729e-01, -7.69213673e-01,\n",
       "        3.65491459e-01, -3.30209046e-01, -4.49715524e-01, -1.09810258e+00,\n",
       "        2.20653838e-01, -7.65374235e-01,  1.06379202e-01, -4.52979370e-01,\n",
       "        1.02297412e+00,  1.12923631e-01,  1.38265924e+00, -1.46753843e-01,\n",
       "        6.00493694e-01,  7.22313940e-03, -4.39939605e-01,  2.91497851e-01,\n",
       "        2.11610578e-02, -4.04331363e-01,  2.35551065e-01,  1.73567468e-01,\n",
       "        1.29783567e+00,  4.11939067e-01,  5.28954816e-02,  7.65663773e-01,\n",
       "       -5.71738525e-01,  4.93451496e-01,  2.02812377e-01,  4.10043732e-01,\n",
       "       -6.28640169e-01, -8.56898433e-01,  5.83804504e-02,  4.83835657e-01,\n",
       "        9.00591580e-01, -3.94040771e-01, -1.22315130e+00,  1.77474343e-32,\n",
       "       -4.45898541e-01,  3.61185417e-01, -7.04347178e-02,  2.35873119e-01,\n",
       "       -3.45330070e-01, -1.07718775e+00,  4.89768426e-01,  5.10567536e-02,\n",
       "        1.55546086e+00,  1.65297550e-01, -1.45607467e-01,  7.52618034e-01,\n",
       "        1.07626405e-01,  5.25827130e-01,  2.83366480e-01, -1.74923961e-01,\n",
       "        2.49693621e-01, -3.72105963e-01,  9.58824927e-01,  2.90019930e-01,\n",
       "       -4.96262839e-01, -3.54296379e-02, -2.07601228e-01,  4.88603556e-01,\n",
       "        4.32716493e-01,  1.03139956e+00,  8.85193364e-01,  5.70956679e-01,\n",
       "       -1.84140527e-01,  9.22875250e-01,  1.60870327e-01, -1.62749980e-01,\n",
       "        3.70320569e-01,  2.08711302e-01,  4.07585845e-01, -6.27003601e-01,\n",
       "        6.75397274e-01, -3.36416126e-01, -7.40726385e-01, -1.13874984e+00,\n",
       "       -3.73882182e-01,  4.45391097e-01, -3.34115369e-01, -1.37392484e+00,\n",
       "       -1.22173832e-02,  1.30048876e+00,  1.90783920e-01,  2.74443472e-01,\n",
       "        2.18169984e-01,  2.53683205e-03, -7.23146593e-01, -2.06224555e-01,\n",
       "        6.28019363e-01, -2.70101468e-01, -6.44274507e-01, -5.28019577e-01,\n",
       "        6.49903528e-01, -1.07380714e+00, -7.54186822e-02,  2.97318197e-01,\n",
       "       -1.91156685e-01, -5.88384554e-01, -5.57779510e-01,  4.82196395e-01,\n",
       "       -1.68516648e-01,  9.60691544e-02,  1.64976717e+00,  1.07289792e-01,\n",
       "       -6.07395147e-01, -9.71863259e-02, -1.56224280e-01,  1.07365418e+00,\n",
       "       -6.49109085e-01, -3.74372945e-01, -8.41941954e-01,  5.30845812e-01,\n",
       "       -6.15664133e-01,  2.11649081e-01,  2.93308079e-01,  3.78934568e-02,\n",
       "       -2.99172546e-01, -6.19084796e-01, -8.98259600e-01, -2.87739867e-01,\n",
       "        6.99237782e-01,  1.78804243e+00,  1.35163737e-01,  2.39237611e-01,\n",
       "       -7.34133435e-01,  1.02816866e+00,  9.32105277e-02, -3.01385557e-01,\n",
       "        5.26776110e-01, -6.92732897e-01, -6.04503904e-01,  5.66367398e-01,\n",
       "       -2.00680677e-01, -4.54931779e-01, -6.20144233e-01, -8.66069090e-01,\n",
       "        6.66111295e-01, -8.11734686e-01, -3.36516632e-01, -2.46033371e-01,\n",
       "       -5.99483457e-01,  2.80772659e-01, -7.77994634e-01, -3.59409684e-01,\n",
       "        1.32116271e+00,  4.80449883e-01,  1.62636574e-01, -2.36611140e-01,\n",
       "       -6.08416288e-01,  1.04230239e-01,  8.45698503e-01,  2.72004162e-01,\n",
       "       -3.21659946e-01,  3.19070869e-01,  1.87914132e-01,  7.96079072e-01,\n",
       "       -1.06535416e-01, -6.35544072e-01,  4.20377183e-01,  4.12438936e-01,\n",
       "       -3.38865892e-01, -3.32739147e-02, -1.00352181e+00, -5.19569813e-01,\n",
       "       -2.51171655e-01,  2.89042624e-01,  2.30705594e-01, -4.26446396e-01,\n",
       "       -1.51601413e-06,  1.79173145e-01,  6.34826863e-01, -5.43789714e-01,\n",
       "        4.45621885e-01, -4.19347527e-01, -8.59438927e-02,  5.28528303e-01,\n",
       "       -4.68249469e-01,  8.23628832e-01,  6.18071503e-01, -8.68245966e-01,\n",
       "        3.14652384e-01,  6.06839263e-01,  1.09771233e+00,  4.68864199e-01,\n",
       "       -6.25719886e-03, -2.24997092e-01,  2.39255981e-01, -9.18443307e-03,\n",
       "       -1.26305415e-01, -9.55033696e-01, -4.38892070e-01, -2.85457788e-01,\n",
       "       -4.40867568e-01, -9.64927463e-01, -2.01245151e-01, -1.63377126e-02,\n",
       "        6.31353021e-01, -5.28049407e-01,  1.11439141e+00, -1.18554083e+00,\n",
       "       -2.53350345e-01,  1.24371992e-01,  2.57548016e-01,  1.31546631e-01,\n",
       "       -7.63394636e-02, -1.31409402e+00, -2.87289608e-01, -5.38464145e-01,\n",
       "       -3.52640286e-01,  2.12606510e-01,  6.80307364e-01, -3.31791596e-01,\n",
       "       -2.52847933e-01,  3.12338370e-01, -6.78431277e-01,  6.68391724e-01,\n",
       "       -5.63834658e-01,  5.25430694e-01, -3.93340051e-01, -6.53016219e-01,\n",
       "       -4.55230798e-01,  3.24900041e-02,  3.57300398e-01,  1.20321467e-02,\n",
       "        5.48630440e-01, -2.10288091e-01, -5.28313386e-02, -1.24053700e+00,\n",
       "       -3.70305150e-01,  2.31081686e-01, -2.60049014e-01,  3.09749970e-02,\n",
       "        4.46541117e-01, -5.40273574e-01,  5.09354904e-01,  1.04322879e+00,\n",
       "       -5.09138621e-34, -1.57677367e-01, -2.89738026e-01,  1.58978180e-01,\n",
       "        1.30956977e+00,  2.97432850e-01,  1.43855438e-01, -4.62154177e-01,\n",
       "        9.31443562e-01,  3.31703075e-01, -1.51176282e-01, -4.79583542e-01])"
      ]
     },
     "execution_count": 304,
     "metadata": {},
     "output_type": "execute_result"
    }
   ],
   "source": [
    "model.coef_[0]"
   ]
  },
  {
   "cell_type": "code",
   "execution_count": null,
   "metadata": {},
   "outputs": [
    {
     "data": {
      "text/plain": [
       "array([[ 0.03138481,  0.01338869, -0.02986423, ..., -0.04307573,\n",
       "         0.02625888, -0.01255348],\n",
       "       [-0.00089913, -0.00038357,  0.00085556, ...,  0.00123405,\n",
       "        -0.00075228,  0.00035964],\n",
       "       [ 0.00433566,  0.00184958, -0.0041256 , ..., -0.00595071,\n",
       "         0.00362754, -0.0017342 ],\n",
       "       ...,\n",
       "       [-0.01017399, -0.0043402 ,  0.00968106, ...,  0.01396382,\n",
       "        -0.00851232,  0.00406945],\n",
       "       [ 0.00463687,  0.00197808, -0.00441222, ..., -0.00636412,\n",
       "         0.00387956, -0.00185468],\n",
       "       [ 0.01470977,  0.00627515, -0.01399709, ..., -0.0201892 ,\n",
       "         0.0123073 , -0.0058837 ]])"
      ]
     },
     "execution_count": 306,
     "metadata": {},
     "output_type": "execute_result"
    }
   ],
   "source": [
    "np.dot(model.coef_[0].reshape(-1, 1), sample)"
   ]
  },
  {
   "cell_type": "code",
   "execution_count": null,
   "metadata": {},
   "outputs": [
    {
     "data": {
      "text/plain": [
       "[424.70258122497313,\n",
       " 412.7612768363408,\n",
       " 441.7331352140008,\n",
       " 391.56084471263205,\n",
       " 359.0555723532796]"
      ]
     },
     "execution_count": 312,
     "metadata": {},
     "output_type": "execute_result"
    }
   ],
   "source": [
    "[np.linalg.norm(model.coef_[i].reshape(-1, 1) - sample) for i in range(len(personality_label))]"
   ]
  },
  {
   "cell_type": "code",
   "execution_count": null,
   "metadata": {},
   "outputs": [
    {
     "data": {
      "text/plain": [
       "[27.772231022385395,\n",
       " 27.77543594293537,\n",
       " 27.76740892259249,\n",
       " 27.782486933089384,\n",
       " 27.795623653124885]"
      ]
     },
     "execution_count": 313,
     "metadata": {},
     "output_type": "execute_result"
    }
   ],
   "source": [
    "[np.linalg.norm(model.coef_[i].reshape(-1, 1) - sample) / np.linalg.norm(model.coef_[i]) for i in range(len(personality_label))]"
   ]
  },
  {
   "cell_type": "code",
   "execution_count": 1,
   "metadata": {},
   "outputs": [],
   "source": [
    "import joblib"
   ]
  },
  {
   "cell_type": "code",
   "execution_count": 2,
   "metadata": {},
   "outputs": [
    {
     "data": {
      "text/plain": [
       "'/Users/mimiphan/Library/Mobile Documents/com~apple~CloudDocs/Documents/MBA Documents/MyPlayground/tomemotions/dataUtils'"
      ]
     },
     "execution_count": 2,
     "metadata": {},
     "output_type": "execute_result"
    }
   ],
   "source": [
    "import os \n",
    "os.getcwd()"
   ]
  },
  {
   "cell_type": "code",
   "execution_count": 4,
   "metadata": {},
   "outputs": [
    {
     "data": {
      "text/html": [
       "<style>#sk-container-id-2 {\n",
       "  /* Definition of color scheme common for light and dark mode */\n",
       "  --sklearn-color-text: black;\n",
       "  --sklearn-color-line: gray;\n",
       "  /* Definition of color scheme for unfitted estimators */\n",
       "  --sklearn-color-unfitted-level-0: #fff5e6;\n",
       "  --sklearn-color-unfitted-level-1: #f6e4d2;\n",
       "  --sklearn-color-unfitted-level-2: #ffe0b3;\n",
       "  --sklearn-color-unfitted-level-3: chocolate;\n",
       "  /* Definition of color scheme for fitted estimators */\n",
       "  --sklearn-color-fitted-level-0: #f0f8ff;\n",
       "  --sklearn-color-fitted-level-1: #d4ebff;\n",
       "  --sklearn-color-fitted-level-2: #b3dbfd;\n",
       "  --sklearn-color-fitted-level-3: cornflowerblue;\n",
       "\n",
       "  /* Specific color for light theme */\n",
       "  --sklearn-color-text-on-default-background: var(--sg-text-color, var(--theme-code-foreground, var(--jp-content-font-color1, black)));\n",
       "  --sklearn-color-background: var(--sg-background-color, var(--theme-background, var(--jp-layout-color0, white)));\n",
       "  --sklearn-color-border-box: var(--sg-text-color, var(--theme-code-foreground, var(--jp-content-font-color1, black)));\n",
       "  --sklearn-color-icon: #696969;\n",
       "\n",
       "  @media (prefers-color-scheme: dark) {\n",
       "    /* Redefinition of color scheme for dark theme */\n",
       "    --sklearn-color-text-on-default-background: var(--sg-text-color, var(--theme-code-foreground, var(--jp-content-font-color1, white)));\n",
       "    --sklearn-color-background: var(--sg-background-color, var(--theme-background, var(--jp-layout-color0, #111)));\n",
       "    --sklearn-color-border-box: var(--sg-text-color, var(--theme-code-foreground, var(--jp-content-font-color1, white)));\n",
       "    --sklearn-color-icon: #878787;\n",
       "  }\n",
       "}\n",
       "\n",
       "#sk-container-id-2 {\n",
       "  color: var(--sklearn-color-text);\n",
       "}\n",
       "\n",
       "#sk-container-id-2 pre {\n",
       "  padding: 0;\n",
       "}\n",
       "\n",
       "#sk-container-id-2 input.sk-hidden--visually {\n",
       "  border: 0;\n",
       "  clip: rect(1px 1px 1px 1px);\n",
       "  clip: rect(1px, 1px, 1px, 1px);\n",
       "  height: 1px;\n",
       "  margin: -1px;\n",
       "  overflow: hidden;\n",
       "  padding: 0;\n",
       "  position: absolute;\n",
       "  width: 1px;\n",
       "}\n",
       "\n",
       "#sk-container-id-2 div.sk-dashed-wrapped {\n",
       "  border: 1px dashed var(--sklearn-color-line);\n",
       "  margin: 0 0.4em 0.5em 0.4em;\n",
       "  box-sizing: border-box;\n",
       "  padding-bottom: 0.4em;\n",
       "  background-color: var(--sklearn-color-background);\n",
       "}\n",
       "\n",
       "#sk-container-id-2 div.sk-container {\n",
       "  /* jupyter's `normalize.less` sets `[hidden] { display: none; }`\n",
       "     but bootstrap.min.css set `[hidden] { display: none !important; }`\n",
       "     so we also need the `!important` here to be able to override the\n",
       "     default hidden behavior on the sphinx rendered scikit-learn.org.\n",
       "     See: https://github.com/scikit-learn/scikit-learn/issues/21755 */\n",
       "  display: inline-block !important;\n",
       "  position: relative;\n",
       "}\n",
       "\n",
       "#sk-container-id-2 div.sk-text-repr-fallback {\n",
       "  display: none;\n",
       "}\n",
       "\n",
       "div.sk-parallel-item,\n",
       "div.sk-serial,\n",
       "div.sk-item {\n",
       "  /* draw centered vertical line to link estimators */\n",
       "  background-image: linear-gradient(var(--sklearn-color-text-on-default-background), var(--sklearn-color-text-on-default-background));\n",
       "  background-size: 2px 100%;\n",
       "  background-repeat: no-repeat;\n",
       "  background-position: center center;\n",
       "}\n",
       "\n",
       "/* Parallel-specific style estimator block */\n",
       "\n",
       "#sk-container-id-2 div.sk-parallel-item::after {\n",
       "  content: \"\";\n",
       "  width: 100%;\n",
       "  border-bottom: 2px solid var(--sklearn-color-text-on-default-background);\n",
       "  flex-grow: 1;\n",
       "}\n",
       "\n",
       "#sk-container-id-2 div.sk-parallel {\n",
       "  display: flex;\n",
       "  align-items: stretch;\n",
       "  justify-content: center;\n",
       "  background-color: var(--sklearn-color-background);\n",
       "  position: relative;\n",
       "}\n",
       "\n",
       "#sk-container-id-2 div.sk-parallel-item {\n",
       "  display: flex;\n",
       "  flex-direction: column;\n",
       "}\n",
       "\n",
       "#sk-container-id-2 div.sk-parallel-item:first-child::after {\n",
       "  align-self: flex-end;\n",
       "  width: 50%;\n",
       "}\n",
       "\n",
       "#sk-container-id-2 div.sk-parallel-item:last-child::after {\n",
       "  align-self: flex-start;\n",
       "  width: 50%;\n",
       "}\n",
       "\n",
       "#sk-container-id-2 div.sk-parallel-item:only-child::after {\n",
       "  width: 0;\n",
       "}\n",
       "\n",
       "/* Serial-specific style estimator block */\n",
       "\n",
       "#sk-container-id-2 div.sk-serial {\n",
       "  display: flex;\n",
       "  flex-direction: column;\n",
       "  align-items: center;\n",
       "  background-color: var(--sklearn-color-background);\n",
       "  padding-right: 1em;\n",
       "  padding-left: 1em;\n",
       "}\n",
       "\n",
       "\n",
       "/* Toggleable style: style used for estimator/Pipeline/ColumnTransformer box that is\n",
       "clickable and can be expanded/collapsed.\n",
       "- Pipeline and ColumnTransformer use this feature and define the default style\n",
       "- Estimators will overwrite some part of the style using the `sk-estimator` class\n",
       "*/\n",
       "\n",
       "/* Pipeline and ColumnTransformer style (default) */\n",
       "\n",
       "#sk-container-id-2 div.sk-toggleable {\n",
       "  /* Default theme specific background. It is overwritten whether we have a\n",
       "  specific estimator or a Pipeline/ColumnTransformer */\n",
       "  background-color: var(--sklearn-color-background);\n",
       "}\n",
       "\n",
       "/* Toggleable label */\n",
       "#sk-container-id-2 label.sk-toggleable__label {\n",
       "  cursor: pointer;\n",
       "  display: block;\n",
       "  width: 100%;\n",
       "  margin-bottom: 0;\n",
       "  padding: 0.5em;\n",
       "  box-sizing: border-box;\n",
       "  text-align: center;\n",
       "}\n",
       "\n",
       "#sk-container-id-2 label.sk-toggleable__label-arrow:before {\n",
       "  /* Arrow on the left of the label */\n",
       "  content: \"▸\";\n",
       "  float: left;\n",
       "  margin-right: 0.25em;\n",
       "  color: var(--sklearn-color-icon);\n",
       "}\n",
       "\n",
       "#sk-container-id-2 label.sk-toggleable__label-arrow:hover:before {\n",
       "  color: var(--sklearn-color-text);\n",
       "}\n",
       "\n",
       "/* Toggleable content - dropdown */\n",
       "\n",
       "#sk-container-id-2 div.sk-toggleable__content {\n",
       "  max-height: 0;\n",
       "  max-width: 0;\n",
       "  overflow: hidden;\n",
       "  text-align: left;\n",
       "  /* unfitted */\n",
       "  background-color: var(--sklearn-color-unfitted-level-0);\n",
       "}\n",
       "\n",
       "#sk-container-id-2 div.sk-toggleable__content.fitted {\n",
       "  /* fitted */\n",
       "  background-color: var(--sklearn-color-fitted-level-0);\n",
       "}\n",
       "\n",
       "#sk-container-id-2 div.sk-toggleable__content pre {\n",
       "  margin: 0.2em;\n",
       "  border-radius: 0.25em;\n",
       "  color: var(--sklearn-color-text);\n",
       "  /* unfitted */\n",
       "  background-color: var(--sklearn-color-unfitted-level-0);\n",
       "}\n",
       "\n",
       "#sk-container-id-2 div.sk-toggleable__content.fitted pre {\n",
       "  /* unfitted */\n",
       "  background-color: var(--sklearn-color-fitted-level-0);\n",
       "}\n",
       "\n",
       "#sk-container-id-2 input.sk-toggleable__control:checked~div.sk-toggleable__content {\n",
       "  /* Expand drop-down */\n",
       "  max-height: 200px;\n",
       "  max-width: 100%;\n",
       "  overflow: auto;\n",
       "}\n",
       "\n",
       "#sk-container-id-2 input.sk-toggleable__control:checked~label.sk-toggleable__label-arrow:before {\n",
       "  content: \"▾\";\n",
       "}\n",
       "\n",
       "/* Pipeline/ColumnTransformer-specific style */\n",
       "\n",
       "#sk-container-id-2 div.sk-label input.sk-toggleable__control:checked~label.sk-toggleable__label {\n",
       "  color: var(--sklearn-color-text);\n",
       "  background-color: var(--sklearn-color-unfitted-level-2);\n",
       "}\n",
       "\n",
       "#sk-container-id-2 div.sk-label.fitted input.sk-toggleable__control:checked~label.sk-toggleable__label {\n",
       "  background-color: var(--sklearn-color-fitted-level-2);\n",
       "}\n",
       "\n",
       "/* Estimator-specific style */\n",
       "\n",
       "/* Colorize estimator box */\n",
       "#sk-container-id-2 div.sk-estimator input.sk-toggleable__control:checked~label.sk-toggleable__label {\n",
       "  /* unfitted */\n",
       "  background-color: var(--sklearn-color-unfitted-level-2);\n",
       "}\n",
       "\n",
       "#sk-container-id-2 div.sk-estimator.fitted input.sk-toggleable__control:checked~label.sk-toggleable__label {\n",
       "  /* fitted */\n",
       "  background-color: var(--sklearn-color-fitted-level-2);\n",
       "}\n",
       "\n",
       "#sk-container-id-2 div.sk-label label.sk-toggleable__label,\n",
       "#sk-container-id-2 div.sk-label label {\n",
       "  /* The background is the default theme color */\n",
       "  color: var(--sklearn-color-text-on-default-background);\n",
       "}\n",
       "\n",
       "/* On hover, darken the color of the background */\n",
       "#sk-container-id-2 div.sk-label:hover label.sk-toggleable__label {\n",
       "  color: var(--sklearn-color-text);\n",
       "  background-color: var(--sklearn-color-unfitted-level-2);\n",
       "}\n",
       "\n",
       "/* Label box, darken color on hover, fitted */\n",
       "#sk-container-id-2 div.sk-label.fitted:hover label.sk-toggleable__label.fitted {\n",
       "  color: var(--sklearn-color-text);\n",
       "  background-color: var(--sklearn-color-fitted-level-2);\n",
       "}\n",
       "\n",
       "/* Estimator label */\n",
       "\n",
       "#sk-container-id-2 div.sk-label label {\n",
       "  font-family: monospace;\n",
       "  font-weight: bold;\n",
       "  display: inline-block;\n",
       "  line-height: 1.2em;\n",
       "}\n",
       "\n",
       "#sk-container-id-2 div.sk-label-container {\n",
       "  text-align: center;\n",
       "}\n",
       "\n",
       "/* Estimator-specific */\n",
       "#sk-container-id-2 div.sk-estimator {\n",
       "  font-family: monospace;\n",
       "  border: 1px dotted var(--sklearn-color-border-box);\n",
       "  border-radius: 0.25em;\n",
       "  box-sizing: border-box;\n",
       "  margin-bottom: 0.5em;\n",
       "  /* unfitted */\n",
       "  background-color: var(--sklearn-color-unfitted-level-0);\n",
       "}\n",
       "\n",
       "#sk-container-id-2 div.sk-estimator.fitted {\n",
       "  /* fitted */\n",
       "  background-color: var(--sklearn-color-fitted-level-0);\n",
       "}\n",
       "\n",
       "/* on hover */\n",
       "#sk-container-id-2 div.sk-estimator:hover {\n",
       "  /* unfitted */\n",
       "  background-color: var(--sklearn-color-unfitted-level-2);\n",
       "}\n",
       "\n",
       "#sk-container-id-2 div.sk-estimator.fitted:hover {\n",
       "  /* fitted */\n",
       "  background-color: var(--sklearn-color-fitted-level-2);\n",
       "}\n",
       "\n",
       "/* Specification for estimator info (e.g. \"i\" and \"?\") */\n",
       "\n",
       "/* Common style for \"i\" and \"?\" */\n",
       "\n",
       ".sk-estimator-doc-link,\n",
       "a:link.sk-estimator-doc-link,\n",
       "a:visited.sk-estimator-doc-link {\n",
       "  float: right;\n",
       "  font-size: smaller;\n",
       "  line-height: 1em;\n",
       "  font-family: monospace;\n",
       "  background-color: var(--sklearn-color-background);\n",
       "  border-radius: 1em;\n",
       "  height: 1em;\n",
       "  width: 1em;\n",
       "  text-decoration: none !important;\n",
       "  margin-left: 1ex;\n",
       "  /* unfitted */\n",
       "  border: var(--sklearn-color-unfitted-level-1) 1pt solid;\n",
       "  color: var(--sklearn-color-unfitted-level-1);\n",
       "}\n",
       "\n",
       ".sk-estimator-doc-link.fitted,\n",
       "a:link.sk-estimator-doc-link.fitted,\n",
       "a:visited.sk-estimator-doc-link.fitted {\n",
       "  /* fitted */\n",
       "  border: var(--sklearn-color-fitted-level-1) 1pt solid;\n",
       "  color: var(--sklearn-color-fitted-level-1);\n",
       "}\n",
       "\n",
       "/* On hover */\n",
       "div.sk-estimator:hover .sk-estimator-doc-link:hover,\n",
       ".sk-estimator-doc-link:hover,\n",
       "div.sk-label-container:hover .sk-estimator-doc-link:hover,\n",
       ".sk-estimator-doc-link:hover {\n",
       "  /* unfitted */\n",
       "  background-color: var(--sklearn-color-unfitted-level-3);\n",
       "  color: var(--sklearn-color-background);\n",
       "  text-decoration: none;\n",
       "}\n",
       "\n",
       "div.sk-estimator.fitted:hover .sk-estimator-doc-link.fitted:hover,\n",
       ".sk-estimator-doc-link.fitted:hover,\n",
       "div.sk-label-container:hover .sk-estimator-doc-link.fitted:hover,\n",
       ".sk-estimator-doc-link.fitted:hover {\n",
       "  /* fitted */\n",
       "  background-color: var(--sklearn-color-fitted-level-3);\n",
       "  color: var(--sklearn-color-background);\n",
       "  text-decoration: none;\n",
       "}\n",
       "\n",
       "/* Span, style for the box shown on hovering the info icon */\n",
       ".sk-estimator-doc-link span {\n",
       "  display: none;\n",
       "  z-index: 9999;\n",
       "  position: relative;\n",
       "  font-weight: normal;\n",
       "  right: .2ex;\n",
       "  padding: .5ex;\n",
       "  margin: .5ex;\n",
       "  width: min-content;\n",
       "  min-width: 20ex;\n",
       "  max-width: 50ex;\n",
       "  color: var(--sklearn-color-text);\n",
       "  box-shadow: 2pt 2pt 4pt #999;\n",
       "  /* unfitted */\n",
       "  background: var(--sklearn-color-unfitted-level-0);\n",
       "  border: .5pt solid var(--sklearn-color-unfitted-level-3);\n",
       "}\n",
       "\n",
       ".sk-estimator-doc-link.fitted span {\n",
       "  /* fitted */\n",
       "  background: var(--sklearn-color-fitted-level-0);\n",
       "  border: var(--sklearn-color-fitted-level-3);\n",
       "}\n",
       "\n",
       ".sk-estimator-doc-link:hover span {\n",
       "  display: block;\n",
       "}\n",
       "\n",
       "/* \"?\"-specific style due to the `<a>` HTML tag */\n",
       "\n",
       "#sk-container-id-2 a.estimator_doc_link {\n",
       "  float: right;\n",
       "  font-size: 1rem;\n",
       "  line-height: 1em;\n",
       "  font-family: monospace;\n",
       "  background-color: var(--sklearn-color-background);\n",
       "  border-radius: 1rem;\n",
       "  height: 1rem;\n",
       "  width: 1rem;\n",
       "  text-decoration: none;\n",
       "  /* unfitted */\n",
       "  color: var(--sklearn-color-unfitted-level-1);\n",
       "  border: var(--sklearn-color-unfitted-level-1) 1pt solid;\n",
       "}\n",
       "\n",
       "#sk-container-id-2 a.estimator_doc_link.fitted {\n",
       "  /* fitted */\n",
       "  border: var(--sklearn-color-fitted-level-1) 1pt solid;\n",
       "  color: var(--sklearn-color-fitted-level-1);\n",
       "}\n",
       "\n",
       "/* On hover */\n",
       "#sk-container-id-2 a.estimator_doc_link:hover {\n",
       "  /* unfitted */\n",
       "  background-color: var(--sklearn-color-unfitted-level-3);\n",
       "  color: var(--sklearn-color-background);\n",
       "  text-decoration: none;\n",
       "}\n",
       "\n",
       "#sk-container-id-2 a.estimator_doc_link.fitted:hover {\n",
       "  /* fitted */\n",
       "  background-color: var(--sklearn-color-fitted-level-3);\n",
       "}\n",
       "</style><div id=\"sk-container-id-2\" class=\"sk-top-container\"><div class=\"sk-text-repr-fallback\"><pre>LogisticRegression(max_iter=1000, multi_class=&#x27;multinomial&#x27;)</pre><b>In a Jupyter environment, please rerun this cell to show the HTML representation or trust the notebook. <br />On GitHub, the HTML representation is unable to render, please try loading this page with nbviewer.org.</b></div><div class=\"sk-container\" hidden><div class=\"sk-item\"><div class=\"sk-estimator fitted sk-toggleable\"><input class=\"sk-toggleable__control sk-hidden--visually\" id=\"sk-estimator-id-2\" type=\"checkbox\" checked><label for=\"sk-estimator-id-2\" class=\"sk-toggleable__label fitted sk-toggleable__label-arrow fitted\">&nbsp;&nbsp;LogisticRegression<a class=\"sk-estimator-doc-link fitted\" rel=\"noreferrer\" target=\"_blank\" href=\"https://scikit-learn.org/1.5/modules/generated/sklearn.linear_model.LogisticRegression.html\">?<span>Documentation for LogisticRegression</span></a><span class=\"sk-estimator-doc-link fitted\">i<span>Fitted</span></span></label><div class=\"sk-toggleable__content fitted\"><pre>LogisticRegression(max_iter=1000, multi_class=&#x27;multinomial&#x27;)</pre></div> </div></div></div></div>"
      ],
      "text/plain": [
       "LogisticRegression(max_iter=1000, multi_class='multinomial')"
      ]
     },
     "execution_count": 4,
     "metadata": {},
     "output_type": "execute_result"
    }
   ],
   "source": [
    "model = joblib.load('../src/big5model.pkl')\n",
    "model"
   ]
  }
 ],
 "metadata": {
  "kernelspec": {
   "display_name": "garfield",
   "language": "python",
   "name": "python3"
  },
  "language_info": {
   "codemirror_mode": {
    "name": "ipython",
    "version": 3
   },
   "file_extension": ".py",
   "mimetype": "text/x-python",
   "name": "python",
   "nbconvert_exporter": "python",
   "pygments_lexer": "ipython3",
   "version": "3.12.2"
  }
 },
 "nbformat": 4,
 "nbformat_minor": 2
}
